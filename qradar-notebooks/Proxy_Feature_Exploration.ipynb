{
 "cells": [
  {
   "cell_type": "markdown",
   "metadata": {},
   "source": [
    "# Feature Exploration for Proxy Model\n",
    "\n",
    "- have many different feature models (by prefix)\n",
    "- do boxplot and PCA for features\n",
    "\n"
   ]
  },
  {
   "cell_type": "code",
   "execution_count": 1,
   "metadata": {
    "scrolled": true
   },
   "outputs": [],
   "source": [
    "# Default settings, constants\n",
    "\n",
    "import pandas as pd\n",
    "import numpy as np\n",
    "import matplotlib\n",
    "import matplotlib.pyplot as plt\n",
    "\n",
    "pd.set_option('display.max_columns', None)\n",
    "pd.set_option('display.max_colwidth', -1)\n",
    "pd.set_option('mode.chained_assignment', None)\n",
    "\n",
    "FIGSIZE=(15,8)\n",
    "matplotlib.rcParams['figure.figsize'] = FIGSIZE"
   ]
  },
  {
   "cell_type": "code",
   "execution_count": 2,
   "metadata": {
    "scrolled": true
   },
   "outputs": [
    {
     "ename": "ValueError",
     "evalue": "attempted relative import beyond top-level package",
     "output_type": "error",
     "traceback": [
      "\u001b[0;31m---------------------------------------------------------------------------\u001b[0m",
      "\u001b[0;31mValueError\u001b[0m                                Traceback (most recent call last)",
      "\u001b[0;32m<ipython-input-2-f890fe3f8dbb>\u001b[0m in \u001b[0;36m<module>\u001b[0;34m\u001b[0m\n\u001b[1;32m      1\u001b[0m \u001b[0;31m# Data is from AQL.proxy_model query\u001b[0m\u001b[0;34m\u001b[0m\u001b[0;34m\u001b[0m\u001b[0;34m\u001b[0m\u001b[0m\n\u001b[0;32m----> 2\u001b[0;31m \u001b[0;32mfrom\u001b[0m \u001b[0;34m.\u001b[0m\u001b[0;34m.\u001b[0m\u001b[0mpyclient\u001b[0m\u001b[0;34m.\u001b[0m\u001b[0mqradar\u001b[0m \u001b[0;32mimport\u001b[0m \u001b[0mQRadar\u001b[0m\u001b[0;34m,\u001b[0m \u001b[0mAQL\u001b[0m\u001b[0;34m\u001b[0m\u001b[0;34m\u001b[0m\u001b[0m\n\u001b[0m\u001b[1;32m      3\u001b[0m \u001b[0;34m\u001b[0m\u001b[0m\n\u001b[1;32m      4\u001b[0m \u001b[0mqi\u001b[0m \u001b[0;34m=\u001b[0m \u001b[0mQRadar\u001b[0m\u001b[0;34m(\u001b[0m\u001b[0mconsole\u001b[0m\u001b[0;34m=\u001b[0m\u001b[0;34m'YOUR-CONSOLE-IP-ADDRESS'\u001b[0m\u001b[0;34m,\u001b[0m \u001b[0musername\u001b[0m\u001b[0;34m=\u001b[0m\u001b[0;34m'admin'\u001b[0m\u001b[0;34m,\u001b[0m \u001b[0mtoken\u001b[0m\u001b[0;34m=\u001b[0m\u001b[0;34m'YOUR-SERVICE-TOKEN'\u001b[0m\u001b[0;34m)\u001b[0m\u001b[0;34m\u001b[0m\u001b[0;34m\u001b[0m\u001b[0m\n\u001b[1;32m      5\u001b[0m \u001b[0m_df\u001b[0m \u001b[0;34m=\u001b[0m \u001b[0mpd\u001b[0m\u001b[0;34m.\u001b[0m\u001b[0mDataFrame\u001b[0m\u001b[0;34m.\u001b[0m\u001b[0mfrom_records\u001b[0m\u001b[0;34m(\u001b[0m\u001b[0mqi\u001b[0m\u001b[0;34m.\u001b[0m\u001b[0msearch\u001b[0m\u001b[0;34m(\u001b[0m\u001b[0mAQL\u001b[0m\u001b[0;34m.\u001b[0m\u001b[0mproxy_model\u001b[0m\u001b[0;34m)\u001b[0m\u001b[0;34m)\u001b[0m\u001b[0;34m\u001b[0m\u001b[0;34m\u001b[0m\u001b[0m\n",
      "\u001b[0;31mValueError\u001b[0m: attempted relative import beyond top-level package"
     ]
    }
   ],
   "source": [
    "# Data is from AQL.proxy_model query\n",
    "from ..pyclient.qradar import QRadar, AQL\n",
    "\n",
    "qi = QRadar(console='YOUR-CONSOLE-IP-ADDRESS', username='admin', token='YOUR-SERVICE-TOKEN')\n",
    "_df = pd.DataFrame.from_records(qi.search(AQL.proxy_model))\n",
    "_df.fillna(0, inplace=True)\n",
    "\n",
    "print(_df.shape)\n",
    "_df.head(10)"
   ]
  },
  {
   "cell_type": "code",
   "execution_count": null,
   "metadata": {
    "scrolled": true
   },
   "outputs": [],
   "source": [
    "_df.describe()"
   ]
  },
  {
   "cell_type": "code",
   "execution_count": null,
   "metadata": {
    "scrolled": true
   },
   "outputs": [],
   "source": [
    "# Different Feature groups\n",
    "ALL = 'All Columns'\n",
    "PREFIX = [\n",
    "    'General',\n",
    "    'Network',\n",
    "    'Time',\n",
    "    'Proxy',\n",
    "    ALL\n",
    "]"
   ]
  },
  {
   "cell_type": "code",
   "execution_count": null,
   "metadata": {},
   "outputs": [],
   "source": [
    "from sklearn import preprocessing\n",
    "import matplotlib.pyplot as plt\n",
    "\n",
    "def boxplot(df, prefix):\n",
    "    # drop text columns\n",
    "    df = df.drop('user',axis=1).drop('timeslice',axis=1)\n",
    "    \n",
    "    min_max_scaler = preprocessing.MinMaxScaler() # StandardScaler, MinMaxScaler, RobustScaler\n",
    "    scaled = pd.DataFrame(min_max_scaler.fit_transform(df.values), columns=df.columns)\n",
    "    \n",
    "    scaled.boxplot(figsize=FIGSIZE, rot=90)\n",
    "    plt.title(f'Boxplot for {prefix}')\n",
    "    plt.show()\n",
    "\n",
    "for prefix in PREFIX:\n",
    "    df = _df\n",
    "    if prefix != ALL:\n",
    "        cols = ['user', 'timeslice']\n",
    "        cols.extend([col for col in _df if col.startswith(prefix.lower()+'_')])\n",
    "        df = _df[cols]\n",
    "    \n",
    "    boxplot(df, prefix)"
   ]
  },
  {
   "cell_type": "code",
   "execution_count": null,
   "metadata": {},
   "outputs": [],
   "source": [
    "from sklearn.decomposition import PCA\n",
    "from sklearn import preprocessing\n",
    "\n",
    "X = 'PC 1'\n",
    "Y = 'PC 2'\n",
    "\n",
    "def pca(df, prefix):\n",
    "    # drop text columns\n",
    "    df = df.drop('user',axis=1).drop('timeslice',axis=1)\n",
    "    \n",
    "    # scale data or else some columns dominate\n",
    "    min_max_scaler = preprocessing.StandardScaler() # StandardScaler, MinMaxScaler, RobustScaler\n",
    "    df = pd.DataFrame(min_max_scaler.fit_transform(df.values), columns=df.columns)\n",
    "    \n",
    "    pca = PCA(n_components=2)\n",
    "    components = pca.fit_transform(df)\n",
    "    components_df = pd.DataFrame(components, columns = [X, Y])\n",
    "    df[X] = components_df[X]\n",
    "    df[Y] = components_df[Y]\n",
    "    \n",
    "    ax1 = df.plot(kind='scatter', x=X, y=Y, color='grey', s=1, title=f'PCA for {prefix}')\n",
    "    plt.show()\n",
    "\n",
    "for prefix in PREFIX:\n",
    "    df = _df\n",
    "    if prefix != ALL:\n",
    "        cols = ['user', 'timeslice']\n",
    "        cols.extend([col for col in _df if col.startswith(prefix.lower()+'_')])\n",
    "        df = _df[cols]\n",
    "    \n",
    "    pca(df, prefix)"
   ]
  },
  {
   "cell_type": "code",
   "execution_count": null,
   "metadata": {},
   "outputs": [],
   "source": [
    "# users vs population, look for all outlier points and graph on PCA\n",
    "# specific user vs self, plot own PCA"
   ]
  }
 ],
 "metadata": {
  "kernelspec": {
   "display_name": "Python 3",
   "language": "python",
   "name": "python3"
  },
  "language_info": {
   "codemirror_mode": {
    "name": "ipython",
    "version": 3
   },
   "file_extension": ".py",
   "mimetype": "text/x-python",
   "name": "python",
   "nbconvert_exporter": "python",
   "pygments_lexer": "ipython3",
   "version": "3.6.9"
  }
 },
 "nbformat": 4,
 "nbformat_minor": 4
}
