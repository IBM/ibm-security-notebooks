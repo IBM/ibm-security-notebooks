{
 "cells": [
  {
   "cell_type": "markdown",
   "metadata": {},
   "source": [
    "## Load CP4S Data"
   ]
  },
  {
   "cell_type": "code",
   "execution_count": null,
   "metadata": {},
   "outputs": [],
   "source": [
    "!pip install matplotlib\n",
    "!pip install sklearn\n",
    "!pip install git+https://github.com/IBM/ibm-cp4s-client.git"
   ]
  },
  {
   "cell_type": "code",
   "execution_count": null,
   "metadata": {},
   "outputs": [],
   "source": [
    "from cp4s.client import CP4S\n",
    "from os import environ as env\n",
    "ac = CP4S(url=env['CP4S_API_ENDPOINT'],\n",
    "         username=env['CP4S_APIKEY_USERNAME'],\n",
    "         password=env['CP4S_APIKEY_PASSWORD'])"
   ]
  },
  {
   "cell_type": "code",
   "execution_count": null,
   "metadata": {
    "scrolled": true
   },
   "outputs": [],
   "source": [
    "df = ac.search_df(\n",
    "    query=\"[ipv4-addr:value = '127.0.0.1']\",\n",
    "    configs=\"all\")"
   ]
  },
  {
   "cell_type": "markdown",
   "metadata": {},
   "source": [
    "## Interactive analysis"
   ]
  },
  {
   "cell_type": "code",
   "execution_count": null,
   "metadata": {
    "pixiedust": {
     "displayParams": {
      "handlerId": "tableView"
     }
    }
   },
   "outputs": [],
   "source": [
    "# label the known-suspicious traffic\n",
    "df.loc[df['network_traffic_dst_addr'] == '10.0.0.106', 'suspicious'] = 1\n",
    "df.loc[df['network_traffic_dst_addr'] != '10.0.0.106', 'suspicious'] = 0"
   ]
  },
  {
   "cell_type": "code",
   "execution_count": null,
   "metadata": {},
   "outputs": [],
   "source": [
    "import numpy as np\n",
    "import pandas as pd\n",
    "from sklearn.model_selection import train_test_split\n",
    "\n",
    "tdf = df.select_dtypes([np.number])\n",
    "X = tdf.drop('suspicious', 1)\n",
    "y = tdf['suspicious']\n",
    "\n",
    "# split it into training and testing sets\n",
    "X_train, X_test, y_train, y_test = train_test_split(\n",
    "    X, y, test_size=0.3, random_state=0)\n",
    "print('Training data size: %d' % X_train.shape[0])\n",
    "print(' Testing data size: %d' % X_test.shape[0])"
   ]
  },
  {
   "cell_type": "code",
   "execution_count": null,
   "metadata": {},
   "outputs": [],
   "source": [
    "from sklearn.tree import DecisionTreeClassifier\n",
    "\n",
    "tree = DecisionTreeClassifier(criterion='entropy', max_depth=3, random_state=0)\n",
    "tree.fit(X_train, y_train)\n",
    "y_pred = tree.predict(X_test)\n",
    "print('Misclassified  : %d' % (y_test != y_pred).sum())\n",
    "print('Accuracy (tree): %.2f' % ((y_test == y_pred).sum() / y_test.shape[0]))"
   ]
  },
  {
   "cell_type": "code",
   "execution_count": null,
   "metadata": {
    "pixiedust": {
     "displayParams": {
      "handlerId": "tableView"
     }
    }
   },
   "outputs": [],
   "source": [
    "from matplotlib import pyplot as plt\n",
    "\n",
    "# give a pie chart\n",
    "from sklearn.metrics import accuracy_score\n",
    "labels = ['Classified', 'Misclassified']\n",
    "colors = ['green', 'red']\n",
    "plt.pie([accuracy_score(y_test, y_pred), 1-accuracy_score(y_test, y_pred)], labels= labels, colors=colors, startangle=90, autopct='%.1f%%')\n",
    "plt.show()"
   ]
  },
  {
   "cell_type": "markdown",
   "metadata": {},
   "source": [
    "## Open a CP4S Case"
   ]
  }
 ],
 "metadata": {
  "kernelspec": {
   "display_name": "Python 3 with local CP4S env",
   "language": "python",
   "name": "python3_local_cp4s"
  },
  "language_info": {
   "codemirror_mode": {
    "name": "ipython",
    "version": 3
   },
   "file_extension": ".py",
   "mimetype": "text/x-python",
   "name": "python",
   "nbconvert_exporter": "python",
   "pygments_lexer": "ipython3",
   "version": "3.6.9"
  }
 },
 "nbformat": 4,
 "nbformat_minor": 4
}
