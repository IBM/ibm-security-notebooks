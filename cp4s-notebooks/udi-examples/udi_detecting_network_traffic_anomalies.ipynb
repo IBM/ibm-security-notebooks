{
 "cells": [
  {
   "cell_type": "markdown",
   "metadata": {},
   "source": [
    "## Load CP4S Data"
   ]
  },
  {
   "cell_type": "code",
   "execution_count": null,
   "metadata": {
    "scrolled": true
   },
   "outputs": [],
   "source": [
    "!pip install matplotlib\n",
    "!pip install sklearn\n",
    "!pip install git+https://github.com/IBM/ibm-cp4s-client.git"
   ]
  },
  {
   "cell_type": "code",
   "execution_count": null,
   "metadata": {},
   "outputs": [],
   "source": [
    "from cp4s.client import CP4S\n",
    "from os import environ as env\n",
    "ac = CP4S(url=env['CP4S_API_ENDPOINT'],\n",
    "         username=env['CP4S_APIKEY_USERNAME'],\n",
    "         password=env['CP4S_APIKEY_PASSWORD'])"
   ]
  },
  {
   "cell_type": "code",
   "execution_count": null,
   "metadata": {},
   "outputs": [],
   "source": [
    "df = ac.search_df(\n",
    "    query=\"[ipv4-addr:value = '127.0.0.1']\",\n",
    "    configs=\"all\")"
   ]
  },
  {
   "cell_type": "markdown",
   "metadata": {},
   "source": [
    "## Interactive analysis"
   ]
  },
  {
   "cell_type": "code",
   "execution_count": null,
   "metadata": {},
   "outputs": [],
   "source": [
    "import pandas as pd\n",
    "import numpy as np\n",
    "from sklearn.model_selection import train_test_split"
   ]
  },
  {
   "cell_type": "code",
   "execution_count": null,
   "metadata": {},
   "outputs": [],
   "source": [
    "feature_num_cols = ['network_traffic_dst_byte_count','network_traffic_src_byte_count','total_bytes']\n",
    "\n",
    "X = df[feature_num_cols].values\n",
    "y = df['network_traffic_src_addr'].values\n",
    "\n",
    "# split it into training and testing sets\n",
    "X_train, X_test, y_train, y_test = train_test_split(\n",
    "    X, y, test_size=0.3, random_state=0)\n",
    "print('Training data size: %d' % X_train.shape[0])\n",
    "print(' Testing data size: %d' % X_test.shape[0])"
   ]
  },
  {
   "cell_type": "code",
   "execution_count": null,
   "metadata": {},
   "outputs": [],
   "source": [
    "from sklearn.ensemble import RandomForestClassifier\n",
    "\n",
    "clf = RandomForestClassifier(max_depth=25, random_state=0)\n",
    "clf.fit(X_train, y_train)\n",
    "\n",
    "y_pred = clf.predict(X_test)\n",
    "y_pred_train = clf.predict(X_train)\n",
    "\n",
    "def normalize(probabilities):\n",
    "    probabilities = np.array(probabilities)\n",
    "    return list(probabilities/np.max(probabilities))\n",
    "\n",
    "y_proba = clf.predict_proba(X_test)\n",
    "anomaly_scores = []\n",
    "for i in range(len(y_proba)):\n",
    "    result = dict()\n",
    "    y_proba_i = y_proba[i]\n",
    "\n",
    "    group = y_test[i]\n",
    "    details = {x: y for x, y in zip(clf.classes_, normalize(y_proba_i)) if y>0.0 or x==group}\n",
    "    score = 1.0 - details[group]\n",
    "    anomaly_scores.append(score)\n",
    "anomaly_scores = np.array(anomaly_scores)\n",
    "\n",
    "\n",
    "anomalies = (anomaly_scores==1.).sum()\n",
    "anomalies_ratio = anomalies/y_test.shape[0]\n",
    "print('Anomalies  : %d' % anomalies)\n",
    "print('Anomalies Ratio  : %f' % anomalies_ratio)"
   ]
  },
  {
   "cell_type": "code",
   "execution_count": null,
   "metadata": {},
   "outputs": [],
   "source": [
    "from matplotlib import pyplot as plt\n",
    "\n",
    "# give a pie chart\n",
    "from sklearn.metrics import accuracy_score\n",
    "labels = ['Normal', 'Anomaly']\n",
    "colors = ['green', 'red']\n",
    "plt.pie([1-anomalies_ratio, anomalies_ratio], labels= labels, colors=colors, startangle=90, autopct='%.1f%%')\n",
    "plt.show()"
   ]
  }
 ],
 "metadata": {
  "kernelspec": {
   "display_name": "Python 3",
   "language": "python",
   "name": "python3"
  },
  "language_info": {
   "codemirror_mode": {
    "name": "ipython",
    "version": 3
   },
   "file_extension": ".py",
   "mimetype": "text/x-python",
   "name": "python",
   "nbconvert_exporter": "python",
   "pygments_lexer": "ipython3",
   "version": "3.6.9"
  }
 },
 "nbformat": 4,
 "nbformat_minor": 4
}
