{
 "cells": [
  {
   "cell_type": "markdown",
   "metadata": {},
   "source": [
    "# CERTUTIL hunt"
   ]
  },
  {
   "cell_type": "markdown",
   "metadata": {},
   "source": [
    "This notebook helps to collect all cmd (cmd.exe) and (certutil.exe) process executions in order to find suspicious activity.\n",
    "\n",
    "This example demonstrates how to find suspicious executions that are downloaded by using certutil.exe, and then using certutil.exe to attack."
   ]
  },
  {
   "cell_type": "code",
   "execution_count": 1,
   "metadata": {
    "collapsed": false
   },
   "outputs": [
    {
     "ename": "ImportError",
     "evalue": "cannot import name 'json_normalize'",
     "output_type": "error",
     "traceback": [
      "\u001B[0;31m---------------------------------------------------------------------------\u001B[0m",
      "\u001B[0;31mImportError\u001B[0m                               Traceback (most recent call last)",
      "\u001B[0;32m<ipython-input-1-aa8d3c336d7c>\u001B[0m in \u001B[0;36m<module>\u001B[0;34m\u001B[0m\n\u001B[0;32m----> 1\u001B[0;31m \u001B[0;32mfrom\u001B[0m \u001B[0mpyclient\u001B[0m\u001B[0;34m.\u001B[0m\u001B[0mstix_shifter_dataframe\u001B[0m \u001B[0;32mimport\u001B[0m \u001B[0mStixShifterDataFrame\u001B[0m\u001B[0;34m\u001B[0m\u001B[0m\n\u001B[0m\u001B[1;32m      2\u001B[0m \u001B[0;32mfrom\u001B[0m \u001B[0mdateutil\u001B[0m \u001B[0;32mimport\u001B[0m \u001B[0mparser\u001B[0m\u001B[0;34m\u001B[0m\u001B[0m\n\u001B[1;32m      3\u001B[0m \u001B[0;32mimport\u001B[0m \u001B[0mre\u001B[0m\u001B[0;34m\u001B[0m\u001B[0m\n\u001B[1;32m      4\u001B[0m \u001B[0;32mimport\u001B[0m \u001B[0mpandas\u001B[0m \u001B[0;32mas\u001B[0m \u001B[0mpd\u001B[0m\u001B[0;34m\u001B[0m\u001B[0m\n\u001B[1;32m      5\u001B[0m \u001B[0;32mfrom\u001B[0m \u001B[0mcollections\u001B[0m \u001B[0;32mimport\u001B[0m \u001B[0mCounter\u001B[0m\u001B[0;34m\u001B[0m\u001B[0m\n",
      "\u001B[0;32m~/anaconda2/envs/py36/lib/python3.6/site-packages/pyclient/stix_shifter_dataframe.py\u001B[0m in \u001B[0;36m<module>\u001B[0;34m\u001B[0m\n\u001B[1;32m      4\u001B[0m \u001B[0;32mimport\u001B[0m \u001B[0mpandas\u001B[0m \u001B[0;32mas\u001B[0m \u001B[0mpd\u001B[0m\u001B[0;34m\u001B[0m\u001B[0m\n\u001B[1;32m      5\u001B[0m \u001B[0;32mfrom\u001B[0m \u001B[0manytree\u001B[0m \u001B[0;32mimport\u001B[0m \u001B[0mNode\u001B[0m\u001B[0;34m,\u001B[0m \u001B[0mPreOrderIter\u001B[0m\u001B[0;34m\u001B[0m\u001B[0m\n\u001B[0;32m----> 6\u001B[0;31m \u001B[0;32mfrom\u001B[0m \u001B[0mpandas\u001B[0m \u001B[0;32mimport\u001B[0m \u001B[0mjson_normalize\u001B[0m\u001B[0;34m\u001B[0m\u001B[0m\n\u001B[0m\u001B[1;32m      7\u001B[0m \u001B[0;32mfrom\u001B[0m \u001B[0mstix_shifter\u001B[0m\u001B[0;34m.\u001B[0m\u001B[0mstix_translation\u001B[0m \u001B[0;32mimport\u001B[0m \u001B[0mstix_translation\u001B[0m\u001B[0;34m\u001B[0m\u001B[0m\n\u001B[1;32m      8\u001B[0m \u001B[0;32mfrom\u001B[0m \u001B[0mstix_shifter\u001B[0m\u001B[0;34m.\u001B[0m\u001B[0mstix_transmission\u001B[0m \u001B[0;32mimport\u001B[0m \u001B[0mstix_transmission\u001B[0m\u001B[0;34m\u001B[0m\u001B[0m\n",
      "\u001B[0;31mImportError\u001B[0m: cannot import name 'json_normalize'"
     ]
    }
   ],
   "source": [
    "from pyclient.stix_shifter_dataframe import StixShifterDataFrame\n",
    "from dateutil import parser\n",
    "import re\n",
    "import pandas as pd\n",
    "from collections import Counter\n",
    "import math"
   ]
  },
  {
   "cell_type": "code",
   "execution_count": 2,
   "metadata": {
    "collapsed": true
   },
   "outputs": [],
   "source": [
    "carbon_black_stix_bundle_1 = 'https://raw.githubusercontent.com/opencybersecurityalliance/stix-shifter/master/data/cybox/carbon_black/carbon_black_observable.json'\n",
    "sb_config_1 = {\n",
    "    'translation_module': 'stix_bundle',\n",
    "    'transmission_module': 'stix_bundle',\n",
    "    'connection': {\n",
    "        \"host\": carbon_black_stix_bundle_1,\n",
    "        \"port\": 443\n",
    "    },\n",
    "    'configuration': {\n",
    "        \"auth\": {\n",
    "            \"username\": None,\n",
    "            \"password\": None\n",
    "        }\n",
    "    },\n",
    "    'data_source': '{\"type\": \"identity\", \"id\": \"identity--3532c56d-ea72-48be-a2ad-1a53f4c9c6d3\", \"name\": \"stix_boundle\", \"identity_class\": \"events\"}'\n",
    "}"
   ]
  },
  {
   "cell_type": "code",
   "execution_count": 3,
   "metadata": {
    "collapsed": true
   },
   "outputs": [],
   "source": [
    "carbon_black_stix_bundle_2 = 'https://raw.githubusercontent.com/opencybersecurityalliance/stix-shifter/develop/data/cybox/carbon_black/cb_observed_156.json'\n",
    "sb_config_2 = {\n",
    "    'translation_module': 'stix_bundle',\n",
    "    'transmission_module': 'stix_bundle',\n",
    "    'connection': {\n",
    "        \"host\": carbon_black_stix_bundle_2,\n",
    "        \"port\": 443\n",
    "    },\n",
    "    'configuration': {\n",
    "        \"auth\": {\n",
    "            \"username\": None,\n",
    "            \"password\": None\n",
    "        }\n",
    "    },\n",
    "    'data_source': '{\"type\": \"identity\", \"id\": \"identity--3532c56d-ea72-48be-a2ad-1a53f4c9c6d3\", \"name\": \"stix_boundle\", \"identity_class\": \"events\"}'\n",
    "}"
   ]
  },
  {
   "cell_type": "code",
   "execution_count": 4,
   "metadata": {
    "collapsed": true
   },
   "outputs": [],
   "source": [
    "def get_duration(duration):\n",
    "    days, seconds = duration.days, duration.seconds\n",
    "    hours = seconds // 3600\n",
    "    minutes = (seconds % 3600) // 60\n",
    "    seconds = seconds % 60\n",
    "    return f\"{days}d {hours}h {minutes}m {seconds}.{duration.microseconds//1000}s\""
   ]
  },
  {
   "cell_type": "code",
   "execution_count": 5,
   "metadata": {
    "collapsed": true,
    "pycharm": {
     "name": "#%%\n"
    }
   },
   "outputs": [],
   "source": [
    "def defang(url):\n",
    "    return re.sub('http', 'hxxp', url)"
   ]
  },
  {
   "cell_type": "markdown",
   "metadata": {
    "pycharm": {
     "name": "#%% md\n"
    }
   },
   "source": [
    "# Fetch process data that are spawn by cmd"
   ]
  },
  {
   "cell_type": "code",
   "execution_count": 6,
   "metadata": {
    "collapsed": true,
    "pycharm": {
     "name": "#%%\n"
    }
   },
   "outputs": [],
   "source": [
    "ssdf = StixShifterDataFrame()\n",
    "ssdf.add_config('cb_stix_bundle_1', sb_config_1)\n",
    "ssdf.add_config('cb_stix_bundle_2', sb_config_2)\n",
    "\n",
    "\n",
    "# stix-shifter uses STIX patterning as its query language\n",
    "# See http://docs.oasis-open.org/cti/stix/v2.0/cs01/part5-stix-patterning/stix-v2.0-cs01-part5-stix-patterning.html\n",
    "cmd_query = \"[process:name = 'cmd.exe']\"\n",
    "df = ssdf.search_df(query=cmd_query, config_names=['cb_stix_bundle_1', 'cb_stix_bundle_2'])"
   ]
  },
  {
   "cell_type": "code",
   "execution_count": 7,
   "metadata": {
    "collapsed": true
   },
   "outputs": [],
   "source": [
    "df['first_observed'] = pd.to_datetime(df['first_observed'], infer_datetime_format=True, utc=True)\n",
    "df['last_observed'] = pd.to_datetime(df['last_observed'], infer_datetime_format=True, utc=True)\n",
    "df['duration'] = df['last_observed'] - df['first_observed']\n",
    "df['duration'] = df['duration'].map(lambda dur: get_duration(dur))"
   ]
  },
  {
   "cell_type": "code",
   "execution_count": 8,
   "metadata": {
    "collapsed": true
   },
   "outputs": [],
   "source": [
    "df['first_observed'] = pd.to_datetime(df['first_observed'], infer_datetime_format=True, utc=True)\n",
    "df['last_observed'] = pd.to_datetime(df['last_observed'], infer_datetime_format=True, utc=True)\n",
    "df['duration'] = df['last_observed'] - df['first_observed']\n",
    "df['duration'] = df['duration'].map(lambda dur: get_duration(dur))"
   ]
  },
  {
   "cell_type": "code",
   "execution_count": 9,
   "metadata": {
    "collapsed": false
   },
   "outputs": [
    {
     "data": {
      "text/html": [
       "<div>\n",
       "<style scoped>\n",
       "    .dataframe tbody tr th:only-of-type {\n",
       "        vertical-align: middle;\n",
       "    }\n",
       "\n",
       "    .dataframe tbody tr th {\n",
       "        vertical-align: top;\n",
       "    }\n",
       "\n",
       "    .dataframe thead th {\n",
       "        text-align: right;\n",
       "    }\n",
       "</style>\n",
       "<table border=\"1\" class=\"dataframe\">\n",
       "  <thead>\n",
       "    <tr style=\"text-align: right;\">\n",
       "      <th></th>\n",
       "      <th>created</th>\n",
       "      <th>created_by_ref</th>\n",
       "      <th>first_observed</th>\n",
       "      <th>id</th>\n",
       "      <th>last_observed</th>\n",
       "      <th>modified</th>\n",
       "      <th>number_observed</th>\n",
       "      <th>type</th>\n",
       "      <th>domain-name:type</th>\n",
       "      <th>domain-name:value</th>\n",
       "      <th>...</th>\n",
       "      <th>process:binary_ref.type</th>\n",
       "      <th>process:parent_ref.name</th>\n",
       "      <th>process:parent_ref.pid</th>\n",
       "      <th>process:parent_ref.type</th>\n",
       "      <th>process:parent_ref.binary_ref.name</th>\n",
       "      <th>process:parent_ref.binary_ref.type</th>\n",
       "      <th>user-account:type</th>\n",
       "      <th>user-account:user_id</th>\n",
       "      <th>data_source</th>\n",
       "      <th>duration</th>\n",
       "    </tr>\n",
       "  </thead>\n",
       "  <tbody>\n",
       "    <tr>\n",
       "      <th>0</th>\n",
       "      <td>2019-10-03T14:53:35Z</td>\n",
       "      <td>identity--3532c56d-ea72-48be-a2ad-1a53f4c9c6d3</td>\n",
       "      <td>2019-10-03 14:53:35+00:00</td>\n",
       "      <td>observed-data--b7767318-6cca-4cf8-9280-826ed5f...</td>\n",
       "      <td>2019-10-03 14:53:35+00:00</td>\n",
       "      <td>2019-10-03T14:53:35Z</td>\n",
       "      <td>1</td>\n",
       "      <td>observed-data</td>\n",
       "      <td>domain-name</td>\n",
       "      <td>workstation</td>\n",
       "      <td>...</td>\n",
       "      <td>exe</td>\n",
       "      <td>cmd.exe</td>\n",
       "      <td>1668</td>\n",
       "      <td>process</td>\n",
       "      <td>cmd.exe</td>\n",
       "      <td>file</td>\n",
       "      <td>user-account</td>\n",
       "      <td>SYSTEM</td>\n",
       "      <td>cb_stix_bundle_1</td>\n",
       "      <td>0d 0h 0m 0.0s</td>\n",
       "    </tr>\n",
       "    <tr>\n",
       "      <th>0</th>\n",
       "      <td>2019-10-03T14:53:35Z</td>\n",
       "      <td>identity--3532c56d-ea72-48be-a2ad-1a53f4c9c6d3</td>\n",
       "      <td>2019-10-03 14:53:35+00:00</td>\n",
       "      <td>observed-data--b7767318-6cca-4cf8-9280-826ed5f...</td>\n",
       "      <td>2019-10-03 14:53:35+00:00</td>\n",
       "      <td>2019-10-03T14:53:35Z</td>\n",
       "      <td>1</td>\n",
       "      <td>observed-data</td>\n",
       "      <td>domain-name</td>\n",
       "      <td>workstation</td>\n",
       "      <td>...</td>\n",
       "      <td>exe</td>\n",
       "      <td>cmd.exe</td>\n",
       "      <td>1668</td>\n",
       "      <td>process</td>\n",
       "      <td>cmd.exe</td>\n",
       "      <td>file</td>\n",
       "      <td>user-account</td>\n",
       "      <td>SYSTEM</td>\n",
       "      <td>cb_stix_bundle_1</td>\n",
       "      <td>0d 0h 0m 0.0s</td>\n",
       "    </tr>\n",
       "    <tr>\n",
       "      <th>0</th>\n",
       "      <td>2019-10-03T14:53:35Z</td>\n",
       "      <td>identity--3532c56d-ea72-48be-a2ad-1a53f4c9c6d3</td>\n",
       "      <td>2019-10-03 14:53:35+00:00</td>\n",
       "      <td>observed-data--b7767318-6cca-4cf8-9280-826ed5f...</td>\n",
       "      <td>2019-10-03 14:53:35+00:00</td>\n",
       "      <td>2019-10-03T14:53:35Z</td>\n",
       "      <td>1</td>\n",
       "      <td>observed-data</td>\n",
       "      <td>domain-name</td>\n",
       "      <td>workstation</td>\n",
       "      <td>...</td>\n",
       "      <td>exe</td>\n",
       "      <td>cmd.exe</td>\n",
       "      <td>1668</td>\n",
       "      <td>process</td>\n",
       "      <td>cmd.exe</td>\n",
       "      <td>file</td>\n",
       "      <td>user-account</td>\n",
       "      <td>SYSTEM</td>\n",
       "      <td>cb_stix_bundle_1</td>\n",
       "      <td>0d 0h 0m 0.0s</td>\n",
       "    </tr>\n",
       "    <tr>\n",
       "      <th>0</th>\n",
       "      <td>2019-10-03T14:51:35Z</td>\n",
       "      <td>identity--3532c56d-ea72-48be-a2ad-1a53f4c9c6d3</td>\n",
       "      <td>2019-10-03 14:53:35+00:00</td>\n",
       "      <td>observed-data--b7767318-6cca-4cf8-9280-826ed5f...</td>\n",
       "      <td>2019-10-03 14:53:35+00:00</td>\n",
       "      <td>2019-10-03T14:53:35Z</td>\n",
       "      <td>1</td>\n",
       "      <td>observed-data</td>\n",
       "      <td>domain-name</td>\n",
       "      <td>workstation</td>\n",
       "      <td>...</td>\n",
       "      <td>exe</td>\n",
       "      <td>cmd.exe</td>\n",
       "      <td>1668</td>\n",
       "      <td>process</td>\n",
       "      <td>cmd.exe</td>\n",
       "      <td>file</td>\n",
       "      <td>user-account</td>\n",
       "      <td>SYSTEM</td>\n",
       "      <td>cb_stix_bundle_1</td>\n",
       "      <td>0d 0h 0m 0.0s</td>\n",
       "    </tr>\n",
       "    <tr>\n",
       "      <th>0</th>\n",
       "      <td>2019-10-01T19:29:35Z</td>\n",
       "      <td>identity--3532c56d-ea72-48be-a2ad-1a53f4c9c6d3</td>\n",
       "      <td>2019-10-01 19:29:35+00:00</td>\n",
       "      <td>observed-data--b7767318-6cca-4cf8-9280-826ed5f...</td>\n",
       "      <td>2019-10-01 19:29:35+00:00</td>\n",
       "      <td>2019-10-01T19:29:35Z</td>\n",
       "      <td>1</td>\n",
       "      <td>observed-data</td>\n",
       "      <td>domain-name</td>\n",
       "      <td>workstation</td>\n",
       "      <td>...</td>\n",
       "      <td></td>\n",
       "      <td>cmd.exe</td>\n",
       "      <td>1668</td>\n",
       "      <td>process</td>\n",
       "      <td>cmd.exe</td>\n",
       "      <td>file</td>\n",
       "      <td>user-account</td>\n",
       "      <td>SYSTEM</td>\n",
       "      <td>cb_stix_bundle_1</td>\n",
       "      <td>0d 0h 0m 0.0s</td>\n",
       "    </tr>\n",
       "  </tbody>\n",
       "</table>\n",
       "<p>5 rows × 31 columns</p>\n",
       "</div>"
      ],
      "text/plain": [
       "                created                                  created_by_ref  \\\n",
       "0  2019-10-03T14:53:35Z  identity--3532c56d-ea72-48be-a2ad-1a53f4c9c6d3   \n",
       "0  2019-10-03T14:53:35Z  identity--3532c56d-ea72-48be-a2ad-1a53f4c9c6d3   \n",
       "0  2019-10-03T14:53:35Z  identity--3532c56d-ea72-48be-a2ad-1a53f4c9c6d3   \n",
       "0  2019-10-03T14:51:35Z  identity--3532c56d-ea72-48be-a2ad-1a53f4c9c6d3   \n",
       "0  2019-10-01T19:29:35Z  identity--3532c56d-ea72-48be-a2ad-1a53f4c9c6d3   \n",
       "\n",
       "             first_observed  \\\n",
       "0 2019-10-03 14:53:35+00:00   \n",
       "0 2019-10-03 14:53:35+00:00   \n",
       "0 2019-10-03 14:53:35+00:00   \n",
       "0 2019-10-03 14:53:35+00:00   \n",
       "0 2019-10-01 19:29:35+00:00   \n",
       "\n",
       "                                                  id  \\\n",
       "0  observed-data--b7767318-6cca-4cf8-9280-826ed5f...   \n",
       "0  observed-data--b7767318-6cca-4cf8-9280-826ed5f...   \n",
       "0  observed-data--b7767318-6cca-4cf8-9280-826ed5f...   \n",
       "0  observed-data--b7767318-6cca-4cf8-9280-826ed5f...   \n",
       "0  observed-data--b7767318-6cca-4cf8-9280-826ed5f...   \n",
       "\n",
       "              last_observed              modified  number_observed  \\\n",
       "0 2019-10-03 14:53:35+00:00  2019-10-03T14:53:35Z                1   \n",
       "0 2019-10-03 14:53:35+00:00  2019-10-03T14:53:35Z                1   \n",
       "0 2019-10-03 14:53:35+00:00  2019-10-03T14:53:35Z                1   \n",
       "0 2019-10-03 14:53:35+00:00  2019-10-03T14:53:35Z                1   \n",
       "0 2019-10-01 19:29:35+00:00  2019-10-01T19:29:35Z                1   \n",
       "\n",
       "            type domain-name:type domain-name:value  ...  \\\n",
       "0  observed-data      domain-name       workstation  ...   \n",
       "0  observed-data      domain-name       workstation  ...   \n",
       "0  observed-data      domain-name       workstation  ...   \n",
       "0  observed-data      domain-name       workstation  ...   \n",
       "0  observed-data      domain-name       workstation  ...   \n",
       "\n",
       "  process:binary_ref.type process:parent_ref.name process:parent_ref.pid  \\\n",
       "0                     exe                 cmd.exe                   1668   \n",
       "0                     exe                 cmd.exe                   1668   \n",
       "0                     exe                 cmd.exe                   1668   \n",
       "0                     exe                 cmd.exe                   1668   \n",
       "0                                         cmd.exe                   1668   \n",
       "\n",
       "  process:parent_ref.type process:parent_ref.binary_ref.name  \\\n",
       "0                 process                            cmd.exe   \n",
       "0                 process                            cmd.exe   \n",
       "0                 process                            cmd.exe   \n",
       "0                 process                            cmd.exe   \n",
       "0                 process                            cmd.exe   \n",
       "\n",
       "  process:parent_ref.binary_ref.type user-account:type user-account:user_id  \\\n",
       "0                               file      user-account               SYSTEM   \n",
       "0                               file      user-account               SYSTEM   \n",
       "0                               file      user-account               SYSTEM   \n",
       "0                               file      user-account               SYSTEM   \n",
       "0                               file      user-account               SYSTEM   \n",
       "\n",
       "        data_source       duration  \n",
       "0  cb_stix_bundle_1  0d 0h 0m 0.0s  \n",
       "0  cb_stix_bundle_1  0d 0h 0m 0.0s  \n",
       "0  cb_stix_bundle_1  0d 0h 0m 0.0s  \n",
       "0  cb_stix_bundle_1  0d 0h 0m 0.0s  \n",
       "0  cb_stix_bundle_1  0d 0h 0m 0.0s  \n",
       "\n",
       "[5 rows x 31 columns]"
      ]
     },
     "execution_count": 9,
     "metadata": {},
     "output_type": "execute_result"
    }
   ],
   "source": [
    "df.head()"
   ]
  },
  {
   "cell_type": "code",
   "execution_count": 10,
   "metadata": {
    "collapsed": false
   },
   "outputs": [
    {
     "data": {
      "text/plain": [
       "['created',\n",
       " 'created_by_ref',\n",
       " 'first_observed',\n",
       " 'id',\n",
       " 'last_observed',\n",
       " 'modified',\n",
       " 'number_observed',\n",
       " 'type',\n",
       " 'domain-name:type',\n",
       " 'domain-name:value',\n",
       " 'network-traffic:type',\n",
       " 'network-traffic:dst_ref.type',\n",
       " 'network-traffic:dst_ref.value',\n",
       " 'network-traffic:src_ref.type',\n",
       " 'network-traffic:src_ref.value',\n",
       " 'process:command_line',\n",
       " 'process:created',\n",
       " 'process:name',\n",
       " 'process:pid',\n",
       " 'process:type',\n",
       " 'process:binary_ref.name',\n",
       " 'process:binary_ref.type',\n",
       " 'process:parent_ref.name',\n",
       " 'process:parent_ref.pid',\n",
       " 'process:parent_ref.type',\n",
       " 'process:parent_ref.binary_ref.name',\n",
       " 'process:parent_ref.binary_ref.type',\n",
       " 'user-account:type',\n",
       " 'user-account:user_id',\n",
       " 'data_source',\n",
       " 'duration']"
      ]
     },
     "execution_count": 10,
     "metadata": {},
     "output_type": "execute_result"
    }
   ],
   "source": [
    "list(df.columns.values)"
   ]
  },
  {
   "cell_type": "code",
   "execution_count": 11,
   "metadata": {
    "collapsed": true
   },
   "outputs": [],
   "source": [
    "\n",
    "\n",
    "def entropy(s):\n",
    "    \"\"\"Compute the Shannon entropy of string s\"\"\"\n",
    "    counter = Counter(s)\n",
    "    nchars = float(len(s))\n",
    "    return -sum(count / nchars * math.log(count / nchars, 2) for count in counter.values())\n",
    "\n",
    "\n",
    "\n",
    "df['binary_ref.name'] = df['process:binary_ref.name']\n",
    "df['binary_ref.type'] = df['process:binary_ref.type']\n",
    "df['command_line'] = df['process:command_line']\n",
    "df['created'] = df['process:created']\n",
    "df['name'] = df['process:name']\n",
    "df['parent_ref.binary_ref.name'] = df['process:parent_ref.binary_ref.name']\n",
    "df['parent_ref.binary_ref.type'] = df['process:parent_ref.binary_ref.type']\n",
    "df['parent_ref.name'] = df['process:parent_ref.name']\n",
    "df['parent_ref.pid'] = df['process:parent_ref.pid']\n",
    "df['parent_ref.type'] = df['process:parent_ref.type']\n",
    "df['pid'] = df['process:pid']\n",
    "\n",
    "df = df.drop(columns=['process:binary_ref.name', \n",
    "                 'process:binary_ref.type',\n",
    "                 'process:command_line',\n",
    "                 'process:created',\n",
    "                 'process:name',\n",
    "                 'process:pid',\n",
    "                 'process:parent_ref.binary_ref.name',\n",
    "                 'process:parent_ref.binary_ref.type',\n",
    "                 'process:parent_ref.name',\n",
    "                 'process:parent_ref.pid',\n",
    "                 'process:parent_ref.type',\n",
    "                 'domain-name:type',\n",
    "                 'domain-name:value',\n",
    "                 'network-traffic:dst_ref.type',\n",
    "                 'network-traffic:dst_ref.value',\n",
    "                 'network-traffic:src_ref.type',\n",
    "                 'network-traffic:src_ref.value',\n",
    "                 'network-traffic:type',\n",
    "                 'user-account:type',\n",
    "                 'user-account:user_id',\n",
    "                 'data_source',\n",
    "                 'created_by_ref', \n",
    "                 'duration', \n",
    "                 'modified',\n",
    "                 'process:type'\n",
    "                ])\n",
    "\n",
    "df['binary_ref.hashes.MD5'] = ''\n",
    "df['binary_ref.id'] = ''\n",
    "df['binary_ref.parent_directory_ref.id'] = ''\n",
    "df['binary_ref.parent_directory_ref.path'] = ''\n",
    "df['binary_ref.parent_directory_ref.type'] = ''\n",
    "df['creator_user_ref.id'] = ''\n",
    "df['creator_user_ref.type'] = ''\n",
    "df['creator_user_ref.user_id'] = ''\n",
    "df['opened_connection_refs'] = ''\n",
    "df['opened_connection_refs_count'] = ''\n",
    "df['parent_ref.binary_ref.id'] = ''\n",
    "df['parent_ref.binary_ref.parent_directory_ref.id'] = ''\n",
    "df['parent_ref.binary_ref.parent_directory_ref.path'] = ''\n",
    "df['parent_ref.binary_ref.parent_directory_ref.type'] = ''\n",
    "df['parent_ref.command_line'] = ''\n",
    "df['parent_ref.id'] = ''\n",
    "df['x_contained_by_ref'] = ''\n",
    "\n",
    "df['suspicion_score'] = 0\n",
    "df['command_line_entropy'] = df.apply(lambda x: entropy(x['command_line']), axis=1)\n",
    "df['command_line_len'] = df.apply(lambda x: len(x['command_line']), axis=1)"
   ]
  },
  {
   "cell_type": "code",
   "execution_count": 12,
   "metadata": {
    "collapsed": true
   },
   "outputs": [],
   "source": [
    "TRAIN_COL = ['type', 'name', 'id', 'created', 'binary_ref.type', 'binary_ref.name',\n",
    "   'binary_ref.parent_directory_ref.type',\n",
    "   'binary_ref.parent_directory_ref.path',\n",
    "   'binary_ref.parent_directory_ref.id', 'binary_ref.id', 'pid',\n",
    "   'opened_connection_refs_count', 'creator_user_ref.type',\n",
    "   'creator_user_ref.user_id', 'creator_user_ref.id', 'x_contained_by_ref',\n",
    "   'first_observed', 'last_observed', 'number_observed',\n",
    "   'binary_ref.hashes.MD5', 'command_line', 'parent_ref.type',\n",
    "   'parent_ref.name', 'parent_ref.binary_ref.type',\n",
    "   'parent_ref.binary_ref.name',\n",
    "   'parent_ref.binary_ref.parent_directory_ref.type',\n",
    "   'parent_ref.binary_ref.parent_directory_ref.path',\n",
    "   'parent_ref.binary_ref.parent_directory_ref.id',\n",
    "   'parent_ref.binary_ref.id', 'parent_ref.pid', 'parent_ref.command_line',\n",
    "   'parent_ref.id', 'command_line_entropy', 'command_line_len',\n",
    "   'suspicion_score', 'opened_connection_refs'\n",
    "]\n",
    "\n"
   ]
  },
  {
   "cell_type": "code",
   "execution_count": 21,
   "metadata": {
    "collapsed": false
   },
   "outputs": [
    {
     "ename": "ImportError",
     "evalue": "cannot import name 'joblib' from 'sklearn.externals' (/srv/conda/envs/notebook/lib/python3.7/site-packages/sklearn/externals/__init__.py)",
     "output_type": "error",
     "traceback": [
      "\u001B[0;31m---------------------------------------------------------------------------\u001B[0m",
      "\u001B[0;31mImportError\u001B[0m                               Traceback (most recent call last)",
      "\u001B[0;32m<ipython-input-21-987067e9d939>\u001B[0m in \u001B[0;36m<module>\u001B[0;34m\u001B[0m\n\u001B[0;32m----> 1\u001B[0;31m \u001B[0;32mfrom\u001B[0m \u001B[0mwatson_machine_learning_client\u001B[0m \u001B[0;32mimport\u001B[0m \u001B[0mWatsonMachineLearningAPIClient\u001B[0m\u001B[0;34m\u001B[0m\u001B[0;34m\u001B[0m\u001B[0m\n\u001B[0m",
      "\u001B[0;32m/srv/conda/envs/notebook/lib/python3.7/site-packages/watson_machine_learning_client/__init__.py\u001B[0m in \u001B[0;36m<module>\u001B[0;34m\u001B[0m\n\u001B[1;32m     15\u001B[0m     \u001B[0;32mpass\u001B[0m\u001B[0;34m\u001B[0m\u001B[0;34m\u001B[0m\u001B[0m\n\u001B[1;32m     16\u001B[0m \u001B[0;32mfrom\u001B[0m \u001B[0mwatson_machine_learning_client\u001B[0m\u001B[0;34m.\u001B[0m\u001B[0mutils\u001B[0m \u001B[0;32mimport\u001B[0m \u001B[0mversion\u001B[0m\u001B[0;34m\u001B[0m\u001B[0;34m\u001B[0m\u001B[0m\n\u001B[0;32m---> 17\u001B[0;31m \u001B[0;32mfrom\u001B[0m \u001B[0mwatson_machine_learning_client\u001B[0m\u001B[0;34m.\u001B[0m\u001B[0mclient\u001B[0m \u001B[0;32mimport\u001B[0m \u001B[0mWatsonMachineLearningAPIClient\u001B[0m\u001B[0;34m\u001B[0m\u001B[0;34m\u001B[0m\u001B[0m\n\u001B[0m\u001B[1;32m     18\u001B[0m \u001B[0;34m\u001B[0m\u001B[0m\n\u001B[1;32m     19\u001B[0m \u001B[0;32mfrom\u001B[0m \u001B[0;34m.\u001B[0m\u001B[0mutils\u001B[0m \u001B[0;32mimport\u001B[0m \u001B[0mis_python_2\u001B[0m\u001B[0;34m\u001B[0m\u001B[0;34m\u001B[0m\u001B[0m\n",
      "\u001B[0;32m/srv/conda/envs/notebook/lib/python3.7/site-packages/watson_machine_learning_client/client.py\u001B[0m in \u001B[0;36m<module>\u001B[0;34m\u001B[0m\n\u001B[1;32m     13\u001B[0m \u001B[0;31m#from watson_machine_learning_client.learning_system import LearningSystem\u001B[0m\u001B[0;34m\u001B[0m\u001B[0;34m\u001B[0m\u001B[0;34m\u001B[0m\u001B[0m\n\u001B[1;32m     14\u001B[0m \u001B[0;32mfrom\u001B[0m \u001B[0mwatson_machine_learning_client\u001B[0m\u001B[0;34m.\u001B[0m\u001B[0mexperiments\u001B[0m \u001B[0;32mimport\u001B[0m \u001B[0mExperiments\u001B[0m\u001B[0;34m\u001B[0m\u001B[0;34m\u001B[0m\u001B[0m\n\u001B[0;32m---> 15\u001B[0;31m \u001B[0;32mfrom\u001B[0m \u001B[0mwatson_machine_learning_client\u001B[0m\u001B[0;34m.\u001B[0m\u001B[0mrepository\u001B[0m \u001B[0;32mimport\u001B[0m \u001B[0mRepository\u001B[0m\u001B[0;34m\u001B[0m\u001B[0;34m\u001B[0m\u001B[0m\n\u001B[0m\u001B[1;32m     16\u001B[0m \u001B[0;32mfrom\u001B[0m \u001B[0mwatson_machine_learning_client\u001B[0m\u001B[0;34m.\u001B[0m\u001B[0mmodel_definition\u001B[0m \u001B[0;32mimport\u001B[0m \u001B[0mModelDefinition\u001B[0m\u001B[0;34m\u001B[0m\u001B[0;34m\u001B[0m\u001B[0m\n\u001B[1;32m     17\u001B[0m \u001B[0;32mfrom\u001B[0m \u001B[0mwatson_machine_learning_client\u001B[0m\u001B[0;34m.\u001B[0m\u001B[0mmodels\u001B[0m \u001B[0;32mimport\u001B[0m \u001B[0mModels\u001B[0m\u001B[0;34m\u001B[0m\u001B[0;34m\u001B[0m\u001B[0m\n",
      "\u001B[0;32m/srv/conda/envs/notebook/lib/python3.7/site-packages/watson_machine_learning_client/repository.py\u001B[0m in \u001B[0;36m<module>\u001B[0;34m\u001B[0m\n\u001B[1;32m     14\u001B[0m \u001B[0;32mfrom\u001B[0m \u001B[0mwatson_machine_learning_client\u001B[0m\u001B[0;34m.\u001B[0m\u001B[0mwml_client_error\u001B[0m \u001B[0;32mimport\u001B[0m \u001B[0mWMLClientError\u001B[0m\u001B[0;34m\u001B[0m\u001B[0;34m\u001B[0m\u001B[0m\n\u001B[1;32m     15\u001B[0m \u001B[0;32mfrom\u001B[0m \u001B[0mwatson_machine_learning_client\u001B[0m\u001B[0;34m.\u001B[0m\u001B[0mwml_resource\u001B[0m \u001B[0;32mimport\u001B[0m \u001B[0mWMLResource\u001B[0m\u001B[0;34m\u001B[0m\u001B[0;34m\u001B[0m\u001B[0m\n\u001B[0;32m---> 16\u001B[0;31m \u001B[0;32mfrom\u001B[0m \u001B[0mwatson_machine_learning_client\u001B[0m\u001B[0;34m.\u001B[0m\u001B[0mmodels\u001B[0m \u001B[0;32mimport\u001B[0m \u001B[0mModels\u001B[0m\u001B[0;34m\u001B[0m\u001B[0;34m\u001B[0m\u001B[0m\n\u001B[0m\u001B[1;32m     17\u001B[0m \u001B[0;32mfrom\u001B[0m \u001B[0mwatson_machine_learning_client\u001B[0m\u001B[0;34m.\u001B[0m\u001B[0mexperiments\u001B[0m \u001B[0;32mimport\u001B[0m \u001B[0mExperiments\u001B[0m\u001B[0;34m\u001B[0m\u001B[0;34m\u001B[0m\u001B[0m\n\u001B[1;32m     18\u001B[0m \u001B[0;32mfrom\u001B[0m \u001B[0mwatson_machine_learning_client\u001B[0m\u001B[0;34m.\u001B[0m\u001B[0mfunctions\u001B[0m \u001B[0;32mimport\u001B[0m \u001B[0mFunctions\u001B[0m\u001B[0;34m\u001B[0m\u001B[0;34m\u001B[0m\u001B[0m\n",
      "\u001B[0;32m/srv/conda/envs/notebook/lib/python3.7/site-packages/watson_machine_learning_client/models.py\u001B[0m in \u001B[0;36m<module>\u001B[0;34m\u001B[0m\n\u001B[1;32m      9\u001B[0m \u001B[0;34m\u001B[0m\u001B[0m\n\u001B[1;32m     10\u001B[0m \u001B[0;32mfrom\u001B[0m \u001B[0m__future__\u001B[0m \u001B[0;32mimport\u001B[0m \u001B[0mprint_function\u001B[0m\u001B[0;34m\u001B[0m\u001B[0;34m\u001B[0m\u001B[0m\n\u001B[0;32m---> 11\u001B[0;31m \u001B[0;32mfrom\u001B[0m \u001B[0mwatson_machine_learning_client\u001B[0m\u001B[0;34m.\u001B[0m\u001B[0mlibs\u001B[0m\u001B[0;34m.\u001B[0m\u001B[0mrepo\u001B[0m\u001B[0;34m.\u001B[0m\u001B[0mmlrepositoryartifact\u001B[0m \u001B[0;32mimport\u001B[0m \u001B[0mMLRepositoryArtifact\u001B[0m\u001B[0;34m\u001B[0m\u001B[0;34m\u001B[0m\u001B[0m\n\u001B[0m\u001B[1;32m     12\u001B[0m \u001B[0;32mfrom\u001B[0m \u001B[0mwatson_machine_learning_client\u001B[0m\u001B[0;34m.\u001B[0m\u001B[0mlibs\u001B[0m\u001B[0;34m.\u001B[0m\u001B[0mrepo\u001B[0m\u001B[0;34m.\u001B[0m\u001B[0mmlrepository\u001B[0m \u001B[0;32mimport\u001B[0m \u001B[0mMetaProps\u001B[0m\u001B[0;34m,\u001B[0m \u001B[0mMetaNames\u001B[0m\u001B[0;34m\u001B[0m\u001B[0;34m\u001B[0m\u001B[0m\n\u001B[1;32m     13\u001B[0m \u001B[0;32mimport\u001B[0m \u001B[0mrequests\u001B[0m\u001B[0;34m\u001B[0m\u001B[0;34m\u001B[0m\u001B[0m\n",
      "\u001B[0;32m/srv/conda/envs/notebook/lib/python3.7/site-packages/watson_machine_learning_client/libs/repo/mlrepositoryartifact/__init__.py\u001B[0m in \u001B[0;36m<module>\u001B[0;34m\u001B[0m\n\u001B[1;32m     10\u001B[0m \u001B[0mwarnings\u001B[0m\u001B[0;34m.\u001B[0m\u001B[0mfilterwarnings\u001B[0m\u001B[0;34m(\u001B[0m\u001B[0;34m\"ignore\"\u001B[0m\u001B[0;34m,\u001B[0m \u001B[0mcategory\u001B[0m\u001B[0;34m=\u001B[0m\u001B[0mFutureWarning\u001B[0m\u001B[0;34m)\u001B[0m\u001B[0;34m\u001B[0m\u001B[0;34m\u001B[0m\u001B[0m\n\u001B[1;32m     11\u001B[0m \u001B[0;34m\u001B[0m\u001B[0m\n\u001B[0;32m---> 12\u001B[0;31m \u001B[0;32mfrom\u001B[0m \u001B[0;34m.\u001B[0m\u001B[0mml_repository_artifact\u001B[0m \u001B[0;32mimport\u001B[0m \u001B[0mMLRepositoryArtifact\u001B[0m\u001B[0;34m\u001B[0m\u001B[0;34m\u001B[0m\u001B[0m\n\u001B[0m\u001B[1;32m     13\u001B[0m \u001B[0;32mfrom\u001B[0m \u001B[0;34m.\u001B[0m\u001B[0mspark_artifact_loader\u001B[0m \u001B[0;32mimport\u001B[0m \u001B[0mSparkArtifactLoader\u001B[0m\u001B[0;34m\u001B[0m\u001B[0;34m\u001B[0m\u001B[0m\n\u001B[1;32m     14\u001B[0m \u001B[0;32mfrom\u001B[0m \u001B[0;34m.\u001B[0m\u001B[0mspark_pipeline_artifact\u001B[0m \u001B[0;32mimport\u001B[0m \u001B[0mSparkPipelineArtifact\u001B[0m\u001B[0;34m\u001B[0m\u001B[0;34m\u001B[0m\u001B[0m\n",
      "\u001B[0;32m/srv/conda/envs/notebook/lib/python3.7/site-packages/watson_machine_learning_client/libs/repo/mlrepositoryartifact/ml_repository_artifact.py\u001B[0m in \u001B[0;36m<module>\u001B[0;34m\u001B[0m\n\u001B[1;32m     30\u001B[0m \u001B[0;34m\u001B[0m\u001B[0m\n\u001B[1;32m     31\u001B[0m \u001B[0;32mif\u001B[0m \u001B[0mlib_checker\u001B[0m\u001B[0;34m.\u001B[0m\u001B[0minstalled_libs\u001B[0m\u001B[0;34m[\u001B[0m\u001B[0mSCIKIT\u001B[0m\u001B[0;34m]\u001B[0m\u001B[0;34m:\u001B[0m\u001B[0;34m\u001B[0m\u001B[0;34m\u001B[0m\u001B[0m\n\u001B[0;32m---> 32\u001B[0;31m     \u001B[0;32mfrom\u001B[0m \u001B[0mwatson_machine_learning_client\u001B[0m\u001B[0;34m.\u001B[0m\u001B[0mlibs\u001B[0m\u001B[0;34m.\u001B[0m\u001B[0mrepo\u001B[0m\u001B[0;34m.\u001B[0m\u001B[0mmlrepositoryartifact\u001B[0m\u001B[0;34m.\u001B[0m\u001B[0mscikit_pipeline_model_artifact\u001B[0m \u001B[0;32mimport\u001B[0m \u001B[0mScikitPipelineModelArtifact\u001B[0m\u001B[0;34m\u001B[0m\u001B[0;34m\u001B[0m\u001B[0m\n\u001B[0m\u001B[1;32m     33\u001B[0m     \u001B[0;32mfrom\u001B[0m \u001B[0msklearn\u001B[0m\u001B[0;34m.\u001B[0m\u001B[0mbase\u001B[0m \u001B[0;32mimport\u001B[0m \u001B[0mBaseEstimator\u001B[0m\u001B[0;34m\u001B[0m\u001B[0;34m\u001B[0m\u001B[0m\n\u001B[1;32m     34\u001B[0m \u001B[0;34m\u001B[0m\u001B[0m\n",
      "\u001B[0;32m/srv/conda/envs/notebook/lib/python3.7/site-packages/watson_machine_learning_client/libs/repo/mlrepositoryartifact/scikit_pipeline_model_artifact.py\u001B[0m in \u001B[0;36m<module>\u001B[0;34m\u001B[0m\n\u001B[1;32m     21\u001B[0m \u001B[0;34m\u001B[0m\u001B[0m\n\u001B[1;32m     22\u001B[0m \u001B[0;32mif\u001B[0m \u001B[0mlib_checker\u001B[0m\u001B[0;34m.\u001B[0m\u001B[0minstalled_libs\u001B[0m\u001B[0;34m[\u001B[0m\u001B[0mSCIKIT\u001B[0m\u001B[0;34m]\u001B[0m\u001B[0;34m:\u001B[0m\u001B[0;34m\u001B[0m\u001B[0;34m\u001B[0m\u001B[0m\n\u001B[0;32m---> 23\u001B[0;31m     \u001B[0;32mfrom\u001B[0m \u001B[0mwatson_machine_learning_client\u001B[0m\u001B[0;34m.\u001B[0m\u001B[0mlibs\u001B[0m\u001B[0;34m.\u001B[0m\u001B[0mrepo\u001B[0m\u001B[0;34m.\u001B[0m\u001B[0mmlrepositoryartifact\u001B[0m\u001B[0;34m.\u001B[0m\u001B[0mscikit_pipeline_reader\u001B[0m \u001B[0;32mimport\u001B[0m \u001B[0mScikitPipelineReader\u001B[0m\u001B[0;34m\u001B[0m\u001B[0;34m\u001B[0m\u001B[0m\n\u001B[0m\u001B[1;32m     24\u001B[0m     \u001B[0;32mfrom\u001B[0m \u001B[0mwatson_machine_learning_client\u001B[0m\u001B[0;34m.\u001B[0m\u001B[0mlibs\u001B[0m\u001B[0;34m.\u001B[0m\u001B[0mrepo\u001B[0m\u001B[0;34m.\u001B[0m\u001B[0mmlrepositoryartifact\u001B[0m\u001B[0;34m.\u001B[0m\u001B[0mxgboost_model_reader\u001B[0m \u001B[0;32mimport\u001B[0m \u001B[0mXGBoostModelReader\u001B[0m\u001B[0;34m\u001B[0m\u001B[0;34m\u001B[0m\u001B[0m\n\u001B[1;32m     25\u001B[0m     \u001B[0;32mfrom\u001B[0m \u001B[0msklearn\u001B[0m\u001B[0;34m.\u001B[0m\u001B[0mbase\u001B[0m \u001B[0;32mimport\u001B[0m \u001B[0mBaseEstimator\u001B[0m\u001B[0;34m\u001B[0m\u001B[0;34m\u001B[0m\u001B[0m\n",
      "\u001B[0;32m/srv/conda/envs/notebook/lib/python3.7/site-packages/watson_machine_learning_client/libs/repo/mlrepositoryartifact/scikit_pipeline_reader.py\u001B[0m in \u001B[0;36m<module>\u001B[0;34m\u001B[0m\n\u001B[1;32m     26\u001B[0m     \u001B[0;32mif\u001B[0m \u001B[0msklearn\u001B[0m\u001B[0;34m.\u001B[0m\u001B[0m__version__\u001B[0m \u001B[0;34m==\u001B[0m \u001B[0;34m'0.23.0'\u001B[0m\u001B[0;34m:\u001B[0m\u001B[0;34m\u001B[0m\u001B[0;34m\u001B[0m\u001B[0m\n\u001B[1;32m     27\u001B[0m         \u001B[0;32mraise\u001B[0m \u001B[0mException\u001B[0m\u001B[0;34m(\u001B[0m\u001B[0;34m' Scikit learn version 0.23.0 is not supported, Please downgrade scikit version to a lower version and re-try. '\u001B[0m\u001B[0;34m)\u001B[0m\u001B[0;34m\u001B[0m\u001B[0;34m\u001B[0m\u001B[0m\n\u001B[0;32m---> 28\u001B[0;31m     \u001B[0;32mfrom\u001B[0m \u001B[0msklearn\u001B[0m\u001B[0;34m.\u001B[0m\u001B[0mexternals\u001B[0m \u001B[0;32mimport\u001B[0m \u001B[0mjoblib\u001B[0m\u001B[0;34m\u001B[0m\u001B[0;34m\u001B[0m\u001B[0m\n\u001B[0m\u001B[1;32m     29\u001B[0m \u001B[0;34m\u001B[0m\u001B[0m\n\u001B[1;32m     30\u001B[0m \u001B[0mlogger\u001B[0m \u001B[0;34m=\u001B[0m \u001B[0mlogging\u001B[0m\u001B[0;34m.\u001B[0m\u001B[0mgetLogger\u001B[0m\u001B[0;34m(\u001B[0m\u001B[0;34m'ScikitPipelineReader'\u001B[0m\u001B[0;34m)\u001B[0m\u001B[0;34m\u001B[0m\u001B[0;34m\u001B[0m\u001B[0m\n",
      "\u001B[0;31mImportError\u001B[0m: cannot import name 'joblib' from 'sklearn.externals' (/srv/conda/envs/notebook/lib/python3.7/site-packages/sklearn/externals/__init__.py)"
     ]
    }
   ],
   "source": [
    "from watson_machine_learning_client import WatsonMachineLearningAPIClient\n",
    "\n"
   ]
  },
  {
   "cell_type": "code",
   "execution_count": null,
   "metadata": {
    "collapsed": true
   },
   "outputs": [],
   "source": [
    "wml_credential = {\n",
    "        \"apikey\": credentials['wml_apikey'],\n",
    "        \"instance_id\": credentials['wml_instance_id'],\n",
    "        \"url\": credentials['wml_url']\n",
    "}\n",
    "client = WatsonMachineLearningAPIClient(wml_credential)\n",
    "pred = client.deployments.score(credentials['wml_deployment_id'],\n",
    "                                {\"input_data\": [{\"fields\": list(df.columns),\n",
    "                                                 \"values\": df.values.tolist()}]})\n",
    "\n",
    "#df['prediction'] = [d[0] for d in pred['predictions'][0]['values']]"
   ]
  },
  {
   "cell_type": "code",
   "execution_count": null,
   "metadata": {
    "collapsed": true
   },
   "outputs": [],
   "source": [
    "df['prediction'] = [d[0] for d in pred['predictions'][0]['values']]"
   ]
  },
  {
   "cell_type": "code",
   "execution_count": null,
   "metadata": {
    "collapsed": true
   },
   "outputs": [],
   "source": []
  },
  {
   "cell_type": "code",
   "execution_count": null,
   "metadata": {
    "collapsed": true
   },
   "outputs": [],
   "source": []
  },
  {
   "cell_type": "code",
   "execution_count": 13,
   "metadata": {
    "collapsed": false
   },
   "outputs": [
    {
     "data": {
      "text/plain": [
       "36"
      ]
     },
     "execution_count": 13,
     "metadata": {},
     "output_type": "execute_result"
    }
   ],
   "source": [
    "len(TRAIN_COL)"
   ]
  },
  {
   "cell_type": "code",
   "execution_count": 18,
   "metadata": {
    "collapsed": false
   },
   "outputs": [
    {
     "data": {
      "text/plain": [
       "{'created_by_ref', 'duration', 'modified', 'process:pid', 'process:type'}"
      ]
     },
     "execution_count": 18,
     "metadata": {},
     "output_type": "execute_result"
    }
   ],
   "source": [
    "a - b"
   ]
  },
  {
   "cell_type": "markdown",
   "metadata": {},
   "source": [
    "# Find suspicious command line"
   ]
  },
  {
   "cell_type": "code",
   "execution_count": 10,
   "metadata": {
    "collapsed": true
   },
   "outputs": [],
   "source": [
    "# Use a regex to find suspicious certutil usage\n",
    "susp = df[df['process:command_line'].str.contains(r'certutil.*[0-9a-zA-Z_-]*\\.(exe|dat)')]\n",
    "\n",
    "# Look at the matches (defang any URLs in there since jupyter makes them clickable!)\n",
    "list(map(defang, susp['process:command_line'].head().to_list()))"
   ]
  },
  {
   "cell_type": "markdown",
   "metadata": {},
   "source": [
    "# Attack steps"
   ]
  },
  {
   "cell_type": "code",
   "execution_count": 11,
   "metadata": {
    "collapsed": true
   },
   "outputs": [],
   "source": [
    "fields = ['first_observed', 'last_observed', 'duration',\n",
    "    'process:name', 'process:pid', \n",
    "    'process:binary_ref.name', 'process:parent_ref.name', \n",
    "    'network-traffic:dst_ref.value', 'network-traffic:src_ref.value', \n",
    "    'process:command_line', 'user-account:user_id'\n",
    "]\n",
    "\n",
    "df[fields].sort_values(by=['first_observed'])"
   ]
  },
  {
   "cell_type": "markdown",
   "metadata": {},
   "source": [
    "In this notebook, we finally found that this is a APT attack , ```c64.exe f64.data \"9839D7F1A0 -m\" ```\n",
    "Ref: https://www.fireeye.com/blog/threat-research/2019/08/game-over-detecting-and-stopping-an-apt41-operation.html"
   ]
  }
 ],
 "metadata": {
  "kernelspec": {
   "display_name": "py36",
   "language": "python",
   "name": "py36"
  },
  "language_info": {
   "codemirror_mode": {
    "name": "ipython",
    "version": 3
   },
   "file_extension": ".py",
   "mimetype": "text/x-python",
   "name": "python",
   "nbconvert_exporter": "python",
   "pygments_lexer": "ipython3",
   "version": "3.6.6"
  }
 },
 "nbformat": 4,
 "nbformat_minor": 2
}