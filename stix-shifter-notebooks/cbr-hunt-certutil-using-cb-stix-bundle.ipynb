{
 "cells": [
  {
   "cell_type": "markdown",
   "metadata": {},
   "source": [
    "# CERTUTIL hunt"
   ]
  },
  {
   "cell_type": "markdown",
   "metadata": {},
   "source": [
    "This notebook helps to collect all cmd (cmd.exe) and (certutil.exe) process executions in order to find suspicious activity.\n",
    "\n",
    "This example demonstrates how to find suspicious executions that are downloaded by using certutil.exe, and then using certutil.exe to attack."
   ]
  },
  {
   "cell_type": "code",
   "execution_count": 1,
   "metadata": {},
   "outputs": [],
   "source": [
    "from pyclient.stix_shifter_dataframe import StixShifterDataFrame\n",
    "from dateutil import parser\n",
    "import re\n",
    "import pandas as pd"
   ]
  },
  {
   "cell_type": "code",
   "execution_count": 2,
   "metadata": {},
   "outputs": [],
   "source": [
    "carbon_black_stix_bundle_1 = 'https://raw.githubusercontent.com/opencybersecurityalliance/stix-shifter/master/data/cybox/carbon_black/carbon_black_observable.json'\n",
    "sb_config_1 = {\n",
    "    'translation_module': 'stix_bundle',\n",
    "    'transmission_module': 'stix_bundle',\n",
    "    'connection': {\n",
    "        \"host\": carbon_black_stix_bundle_1,\n",
    "        \"port\": 443\n",
    "    },\n",
    "    'configuration': {\n",
    "        \"auth\": {\n",
    "            \"username\": None,\n",
    "            \"password\": None\n",
    "        }\n",
    "    },\n",
    "    'data_source': '{\"type\": \"identity\", \"id\": \"identity--3532c56d-ea72-48be-a2ad-1a53f4c9c6d3\", \"name\": \"stix_boundle\", \"identity_class\": \"events\"}'\n",
    "}"
   ]
  },
  {
   "cell_type": "code",
   "execution_count": 3,
   "metadata": {},
   "outputs": [],
   "source": [
    "carbon_black_stix_bundle_2 = 'https://raw.githubusercontent.com/opencybersecurityalliance/stix-shifter/develop/data/cybox/carbon_black/cb_observed_156.json'\n",
    "sb_config_2 = {\n",
    "    'translation_module': 'stix_bundle',\n",
    "    'transmission_module': 'stix_bundle',\n",
    "    'connection': {\n",
    "        \"host\": carbon_black_stix_bundle_2,\n",
    "        \"port\": 443\n",
    "    },\n",
    "    'configuration': {\n",
    "        \"auth\": {\n",
    "            \"username\": None,\n",
    "            \"password\": None\n",
    "        }\n",
    "    },\n",
    "    'data_source': '{\"type\": \"identity\", \"id\": \"identity--3532c56d-ea72-48be-a2ad-1a53f4c9c6d3\", \"name\": \"stix_boundle\", \"identity_class\": \"events\"}'\n",
    "}"
   ]
  },
  {
   "cell_type": "code",
   "execution_count": 4,
   "metadata": {},
   "outputs": [],
   "source": [
    "def get_duration(duration):\n",
    "    days, seconds = duration.days, duration.seconds\n",
    "    hours = seconds // 3600\n",
    "    minutes = (seconds % 3600) // 60\n",
    "    seconds = seconds % 60\n",
    "    return f\"{days}d {hours}h {minutes}m {seconds}.{duration.microseconds//1000}s\""
   ]
  },
  {
   "cell_type": "code",
   "execution_count": 5,
   "metadata": {
    "pycharm": {
     "name": "#%%\n"
    }
   },
   "outputs": [],
   "source": [
    "def defang(url):\n",
    "    return re.sub('http', 'hxxp', url)"
   ]
  },
  {
   "cell_type": "markdown",
   "metadata": {
    "pycharm": {
     "name": "#%% md\n"
    }
   },
   "source": [
    "# Fetch process data that are spawn by cmd"
   ]
  },
  {
   "cell_type": "code",
   "execution_count": 6,
   "metadata": {
    "pycharm": {
     "name": "#%%\n"
    }
   },
   "outputs": [],
   "source": [
    "ssdf = StixShifterDataFrame()\n",
    "ssdf.add_config('cb_stix_bundle_1', sb_config_1)\n",
    "ssdf.add_config('cb_stix_bundle_2', sb_config_2)\n",
    "\n",
    "\n",
    "# stix-shifter uses STIX patterning as its query language\n",
    "# See http://docs.oasis-open.org/cti/stix/v2.0/cs01/part5-stix-patterning/stix-v2.0-cs01-part5-stix-patterning.html\n",
    "cmd_query = \"[process:name = 'cmd.exe']\"\n",
    "df = ssdf.search_df(query=cmd_query, config_names=['cb_stix_bundle_1', 'cb_stix_bundle_2'])"
   ]
  },
  {
   "cell_type": "code",
   "execution_count": 7,
   "metadata": {},
   "outputs": [],
   "source": [
    "df['first_observed'] = pd.to_datetime(df['first_observed'], infer_datetime_format=True, utc=True)\n",
    "df['last_observed'] = pd.to_datetime(df['last_observed'], infer_datetime_format=True, utc=True)\n",
    "df['duration'] = df['last_observed'] - df['first_observed']\n",
    "df['duration'] = df['duration'].map(lambda dur: get_duration(dur))"
   ]
  },
  {
   "cell_type": "code",
   "execution_count": 8,
   "metadata": {},
   "outputs": [],
   "source": [
    "df['first_observed'] = pd.to_datetime(df['first_observed'], infer_datetime_format=True, utc=True)\n",
    "df['last_observed'] = pd.to_datetime(df['last_observed'], infer_datetime_format=True, utc=True)\n",
    "df['duration'] = df['last_observed'] - df['first_observed']\n",
    "df['duration'] = df['duration'].map(lambda dur: get_duration(dur))"
   ]
  },
  {
   "cell_type": "code",
   "execution_count": 9,
   "metadata": {},
   "outputs": [],
   "source": [
    "df.head()"
   ]
  },
  {
   "cell_type": "markdown",
   "metadata": {},
   "source": [
    "# Find suspicious command line"
   ]
  },
  {
   "cell_type": "code",
   "execution_count": 10,
   "metadata": {},
   "outputs": [],
   "source": [
    "# Use a regex to find suspicious certutil usage\n",
    "susp = df[df['process:command_line'].str.contains(r'certutil.*[0-9a-zA-Z_-]*\\.(exe|dat)')]\n",
    "\n",
    "# Look at the matches (defang any URLs in there since jupyter makes them clickable!)\n",
    "list(map(defang, susp['process:command_line'].head().to_list()))"
   ]
  },
  {
   "cell_type": "markdown",
   "metadata": {},
   "source": [
    "# Attack steps"
   ]
  },
  {
   "cell_type": "code",
   "execution_count": 11,
   "metadata": {},
   "outputs": [],
   "source": [
    "fields = ['first_observed', 'last_observed', 'duration',\n",
    "    'process:name', 'process:pid', \n",
    "    'process:binary_ref.name', 'process:parent_ref.name', \n",
    "    'network-traffic:dst_ref.value', 'network-traffic:src_ref.value', \n",
    "    'process:command_line', 'user-account:user_id'\n",
    "]\n",
    "\n",
    "df[fields].sort_values(by=['first_observed'])"
   ]
  },
  {
   "cell_type": "markdown",
   "metadata": {},
   "source": [
    "In this notebook, we finally found that this is a APT attack , ```c64.exe f64.data \"9839D7F1A0 -m\" ```\n",
    "Ref: https://www.fireeye.com/blog/threat-research/2019/08/game-over-detecting-and-stopping-an-apt41-operation.html"
   ]
  }
 ],
 "metadata": {
  "kernelspec": {
   "display_name": "Python 3",
   "language": "python",
   "name": "python3"
  },
  "language_info": {
   "codemirror_mode": {
    "name": "ipython",
    "version": 3
   },
   "file_extension": ".py",
   "mimetype": "text/x-python",
   "name": "python",
   "nbconvert_exporter": "python",
   "pygments_lexer": "ipython3",
   "version": "3.7.3"
  }
 },
 "nbformat": 4,
 "nbformat_minor": 2
}
