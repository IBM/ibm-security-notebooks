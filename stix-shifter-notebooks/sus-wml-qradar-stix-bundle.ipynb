{
 "cells": [
  {
   "cell_type": "markdown",
   "metadata": {},
   "source": [
    "# Supicious Process Scoring"
   ]
  },
  {
   "cell_type": "code",
   "execution_count": 1,
   "metadata": {},
   "outputs": [],
   "source": [
    "from pyclient.stix_shifter_dataframe import StixShifterDataFrame\n",
    "from dateutil import parser\n",
    "import re\n",
    "import pandas as pd\n",
    "from collections import Counter\n",
    "import math"
   ]
  },
  {
   "cell_type": "code",
   "execution_count": 2,
   "metadata": {},
   "outputs": [],
   "source": [
    "carbon_black_stix_bundle_1 = 'https://raw.githubusercontent.com/opencybersecurityalliance/stix-shifter/master/data/cybox/carbon_black/carbon_black_observable.json'\n",
    "sb_config_1 = {\n",
    "    'translation_module': 'stix_bundle',\n",
    "    'transmission_module': 'stix_bundle',\n",
    "    'connection': {\n",
    "        \"host\": carbon_black_stix_bundle_1,\n",
    "        \"port\": 443\n",
    "    },\n",
    "    'configuration': {\n",
    "        \"auth\": {\n",
    "            \"username\": None,\n",
    "            \"password\": None\n",
    "        }\n",
    "    },\n",
    "    'data_source': '{\"type\": \"identity\", \"id\": \"identity--3532c56d-ea72-48be-a2ad-1a53f4c9c6d3\", \"name\": \"stix_boundle\", \"identity_class\": \"events\"}'\n",
    "}"
   ]
  },
  {
   "cell_type": "code",
   "execution_count": 3,
   "metadata": {},
   "outputs": [],
   "source": [
    "carbon_black_stix_bundle_2 = 'https://raw.githubusercontent.com/opencybersecurityalliance/stix-shifter/develop/data/cybox/qradar/qradar_custom_process_observable.json'\n",
    "sb_config_2 = {\n",
    "    'translation_module': 'stix_bundle',\n",
    "    'transmission_module': 'stix_bundle',\n",
    "    'connection': {\n",
    "        \"host\": carbon_black_stix_bundle_2,\n",
    "        \"port\": 443\n",
    "    },\n",
    "    'configuration': {\n",
    "        \"auth\": {\n",
    "            \"username\": None,\n",
    "            \"password\": None\n",
    "        }\n",
    "    },\n",
    "    'data_source': '{\"type\": \"identity\", \"id\": \"identity--3532c56d-ea72-48be-a2ad-1a53f4c9c6d3\", \"name\": \"stix_boundle\", \"identity_class\": \"events\"}'\n",
    "}"
   ]
  },
  {
   "cell_type": "markdown",
   "metadata": {
    "pycharm": {
     "name": "#%% md\n"
    }
   },
   "source": [
    "# Fetch process data that are spawn by cmd"
   ]
  },
  {
   "cell_type": "code",
   "execution_count": 4,
   "metadata": {
    "pycharm": {
     "name": "#%%\n"
    }
   },
   "outputs": [
    {
     "name": "stderr",
     "output_type": "stream",
     "text": [
      "/srv/conda/envs/notebook/lib/python3.7/site-packages/pyclient/stix_shifter_dataframe.py:89: FutureWarning: Sorting because non-concatenation axis is not aligned. A future version\n",
      "of pandas will change to not sort by default.\n",
      "\n",
      "To accept the future behavior, pass 'sort=False'.\n",
      "\n",
      "To retain the current behavior and silence the warning, pass 'sort=True'.\n",
      "\n",
      "  return pd.concat(dfs) if dfs else pd.DataFrame()\n"
     ]
    }
   ],
   "source": [
    "ssdf = StixShifterDataFrame()\n",
    "ssdf.add_config('cb_stix_bundle_1', sb_config_1)\n",
    "ssdf.add_config('cb_stix_bundle_2', sb_config_2)\n",
    "\n",
    "\n",
    "# stix-shifter uses STIX patterning as its query language\n",
    "# See http://docs.oasis-open.org/cti/stix/v2.0/cs01/part5-stix-patterning/stix-v2.0-cs01-part5-stix-patterning.html\n",
    "cmd_query = \"[process:name = 'powershell.exe']\"\n",
    "df = ssdf.search_df(query=cmd_query, config_names=['cb_stix_bundle_2'])"
   ]
  },
  {
   "cell_type": "code",
   "execution_count": 5,
   "metadata": {},
   "outputs": [
    {
     "data": {
      "text/plain": [
       "0    C:\\Windows\\System32\\WindowsPowerShell\\v1.0\\pow...\n",
       "0    C:\\Windows\\System32\\WindowsPowerShell\\v1.0\\pow...\n",
       "0    C:\\Windows\\System32\\WindowsPowerShell\\v1.0\\pow...\n",
       "0    C:\\Windows\\System32\\WindowsPowerShell\\v1.0\\pow...\n",
       "0    C:\\Windows\\System32\\WindowsPowerShell\\v1.0\\pow...\n",
       "0    C:\\Windows\\System32\\WindowsPowerShell\\v1.0\\pow...\n",
       "Name: process:binary_ref.parent_directory_ref.path, dtype: object"
      ]
     },
     "execution_count": 5,
     "metadata": {},
     "output_type": "execute_result"
    }
   ],
   "source": [
    "df['process:binary_ref.parent_directory_ref.path']"
   ]
  },
  {
   "cell_type": "code",
   "execution_count": 6,
   "metadata": {},
   "outputs": [
    {
     "data": {
      "text/plain": [
       "Index(['artifact:payload_bin', 'artifact:type', 'created', 'created_by_ref',\n",
       "       'first_observed', 'id', 'last_observed', 'modified',\n",
       "       'network-traffic:dst_port',\n",
       "       'network-traffic:dst_ref.resolves_to_refs[0].type',\n",
       "       'network-traffic:dst_ref.resolves_to_refs[0].value',\n",
       "       'network-traffic:dst_ref.type', 'network-traffic:dst_ref.value',\n",
       "       'network-traffic:protocols[0]', 'network-traffic:src_port',\n",
       "       'network-traffic:src_ref.resolves_to_refs[0].type',\n",
       "       'network-traffic:src_ref.resolves_to_refs[0].value',\n",
       "       'network-traffic:src_ref.type', 'network-traffic:src_ref.value',\n",
       "       'network-traffic:type', 'number_observed', 'process:binary_ref.name',\n",
       "       'process:binary_ref.parent_directory_ref.path',\n",
       "       'process:binary_ref.parent_directory_ref.type',\n",
       "       'process:binary_ref.type', 'process:command_line', 'process:name',\n",
       "       'process:pid', 'process:type', 'type', 'user-account:type',\n",
       "       'user-account:user_id', 'x_com_ibm_ariel.category_id',\n",
       "       'x_com_ibm_ariel.category_name', 'x_com_ibm_ariel.devicetype',\n",
       "       'x_com_ibm_ariel.identity_ip', 'x_com_ibm_ariel.log_source_id',\n",
       "       'x_com_ibm_ariel.log_source_name', 'x_com_ibm_ariel.magnitude',\n",
       "       'x_com_ibm_ariel.qid', 'x_com_ibm_ariel.qid_name',\n",
       "       'x_com_ibm_ariel.utf8_payload', 'data_source'],\n",
       "      dtype='object')"
      ]
     },
     "execution_count": 6,
     "metadata": {},
     "output_type": "execute_result"
    }
   ],
   "source": [
    "df.columns"
   ]
  },
  {
   "cell_type": "code",
   "execution_count": 7,
   "metadata": {},
   "outputs": [],
   "source": [
    "\n",
    "\n",
    "def entropy(s):\n",
    "    \"\"\"Compute the Shannon entropy of string s\"\"\"\n",
    "    counter = Counter(s)\n",
    "    nchars = float(len(s))\n",
    "    return -sum(count / nchars * math.log(count / nchars, 2) for count in counter.values())\n",
    "\n",
    "\n",
    "df['binary_ref.name'] = df['process:binary_ref.name']\n",
    "df['binary_ref.type'] = df['process:binary_ref.type']\n",
    "df['command_line'] = df['process:command_line']\n",
    "df['name'] = df['process:name']\n",
    "df['pid'] = df['process:pid']\n",
    "df['type'] = df['process:type']\n",
    "df['binary_ref.parent_directory_ref.path'] = df['process:binary_ref.parent_directory_ref.path']\n",
    "df['binary_ref.parent_directory_ref.type'] = df['process:binary_ref.parent_directory_ref.type']\n",
    "\n",
    "    \n",
    "df = df.drop(columns=['artifact:payload_bin',\n",
    "    'artifact:type',\n",
    "    'created_by_ref',\n",
    "    'modified',\n",
    "    'network-traffic:dst_port',\n",
    "    'network-traffic:dst_ref.resolves_to_refs[0].type',\n",
    "    'network-traffic:dst_ref.resolves_to_refs[0].value',\n",
    "    'network-traffic:dst_ref.type',\n",
    "    'network-traffic:dst_ref.value',\n",
    "    'network-traffic:protocols[0]',\n",
    "    'network-traffic:src_port',\n",
    "    'network-traffic:src_ref.resolves_to_refs[0].type',\n",
    "    'network-traffic:src_ref.resolves_to_refs[0].value',\n",
    "    'network-traffic:src_ref.type',\n",
    "    'network-traffic:src_ref.value',\n",
    "    'network-traffic:type',\n",
    "    'user-account:type',\n",
    "    'user-account:user_id',\n",
    "    'x_com_ibm_ariel.category_id',\n",
    "    'x_com_ibm_ariel.category_name',\n",
    "    'x_com_ibm_ariel.devicetype',\n",
    "    'x_com_ibm_ariel.identity_ip',\n",
    "    'x_com_ibm_ariel.log_source_id',\n",
    "    'x_com_ibm_ariel.log_source_name',\n",
    "    'x_com_ibm_ariel.magnitude',\n",
    "    'x_com_ibm_ariel.qid',\n",
    "    'x_com_ibm_ariel.qid_name',\n",
    "    'x_com_ibm_ariel.utf8_payload',\n",
    "    'data_source',\n",
    "    'process:binary_ref.parent_directory_ref.path',\n",
    "    'process:binary_ref.parent_directory_ref.type',\n",
    "    'process:binary_ref.name', \n",
    "    'process:binary_ref.type',\n",
    "    'process:command_line', \n",
    "    'process:name', \n",
    "    'process:pid', \n",
    "    'process:type'\n",
    "])\n",
    "\n",
    "df['binary_ref.hashes.MD5'] = ''\n",
    "df['binary_ref.id'] = ''\n",
    "df['binary_ref.parent_directory_ref.id'] = ''\n",
    "\n",
    "df['creator_user_ref.id'] = ''\n",
    "df['creator_user_ref.type'] = ''\n",
    "df['creator_user_ref.user_id'] = ''\n",
    "df['opened_connection_refs'] = ''\n",
    "df['opened_connection_refs_count'] = ''\n",
    "df['parent_ref.binary_ref.id'] = ''\n",
    "df['parent_ref.binary_ref.name'] = ''\n",
    "df['parent_ref.binary_ref.parent_directory_ref.id'] = ''\n",
    "df['parent_ref.binary_ref.parent_directory_ref.path'] = ''\n",
    "df['parent_ref.binary_ref.parent_directory_ref.type'] = ''\n",
    "df['parent_ref.binary_ref.type'] = ''\n",
    "df['parent_ref.command_line'] = ''\n",
    "df['parent_ref.id'] = ''\n",
    "df['parent_ref.name'] = ''\n",
    "df['parent_ref.pid'] = ''\n",
    "df['parent_ref.type'] = ''\n",
    "df['x_contained_by_ref'] = ''\n",
    "\n",
    "df['suspicion_score'] = 0\n",
    "\n",
    "df = df.fillna('')\n",
    "df['command_line_entropy'] = df.apply(lambda x: entropy(x['command_line']), axis=1)\n",
    "df['command_line_len'] = df.apply(lambda x: len(x['command_line']), axis=1)"
   ]
  },
  {
   "cell_type": "code",
   "execution_count": 8,
   "metadata": {},
   "outputs": [],
   "source": [
    "TRAIN_COL = ['type', 'name', 'id', 'created', 'binary_ref.type', 'binary_ref.name',\n",
    "   'binary_ref.parent_directory_ref.type',\n",
    "   'binary_ref.parent_directory_ref.path',\n",
    "   'binary_ref.parent_directory_ref.id', 'binary_ref.id', 'pid',\n",
    "   'opened_connection_refs_count', 'creator_user_ref.type',\n",
    "   'creator_user_ref.user_id', 'creator_user_ref.id', 'x_contained_by_ref',\n",
    "   'first_observed', 'last_observed', 'number_observed',\n",
    "   'binary_ref.hashes.MD5', 'command_line', 'parent_ref.type',\n",
    "   'parent_ref.name', 'parent_ref.binary_ref.type',\n",
    "   'parent_ref.binary_ref.name',\n",
    "   'parent_ref.binary_ref.parent_directory_ref.type',\n",
    "   'parent_ref.binary_ref.parent_directory_ref.path',\n",
    "   'parent_ref.binary_ref.parent_directory_ref.id',\n",
    "   'parent_ref.binary_ref.id', 'parent_ref.pid', 'parent_ref.command_line',\n",
    "   'parent_ref.id', 'command_line_entropy', 'command_line_len',\n",
    "   'suspicion_score', 'opened_connection_refs'\n",
    "]\n",
    "\n"
   ]
  },
  {
   "cell_type": "code",
   "execution_count": 10,
   "metadata": {},
   "outputs": [
    {
     "data": {
      "text/plain": [
       "(36, 36)"
      ]
     },
     "execution_count": 10,
     "metadata": {},
     "output_type": "execute_result"
    }
   ],
   "source": [
    "len(df.columns), len(TRAIN_COL)"
   ]
  },
  {
   "cell_type": "code",
   "execution_count": null,
   "metadata": {},
   "outputs": [],
   "source": []
  },
  {
   "cell_type": "code",
   "execution_count": 16,
   "metadata": {},
   "outputs": [],
   "source": [
    "import pandas as pd\n",
    "\n",
    "empire_df = pd.read_csv('udxstx_empire_invoke_runas.csv')"
   ]
  },
  {
   "cell_type": "code",
   "execution_count": 27,
   "metadata": {},
   "outputs": [],
   "source": [
    "small = empire_df[empire_df.suspicion_score > 0].reset_index()"
   ]
  },
  {
   "cell_type": "code",
   "execution_count": 29,
   "metadata": {},
   "outputs": [],
   "source": [
    "small = small.fillna('')"
   ]
  },
  {
   "cell_type": "code",
   "execution_count": 33,
   "metadata": {},
   "outputs": [
    {
     "data": {
      "text/plain": [
       "array(['C:\\\\Windows\\\\System32\\\\WindowsPowerShell\\\\v1.0\\\\powershell.exe',\n",
       "       'C:\\\\Windows\\\\System32\\\\WindowsPowerShell\\\\v1.0\\\\powershell.exe',\n",
       "       'C:\\\\Windows\\\\System32\\\\WindowsPowerShell\\\\v1.0\\\\powershell.exe',\n",
       "       'C:\\\\Windows\\\\System32\\\\WindowsPowerShell\\\\v1.0\\\\powershell.exe',\n",
       "       'C:\\\\Windows\\\\System32\\\\WindowsPowerShell\\\\v1.0\\\\powershell.exe',\n",
       "       'C:\\\\Windows\\\\System32\\\\WindowsPowerShell\\\\v1.0\\\\powershell.exe'],\n",
       "      dtype=object)"
      ]
     },
     "execution_count": 33,
     "metadata": {},
     "output_type": "execute_result"
    }
   ],
   "source": [
    "df['binary_ref.parent_directory_ref.path'].values"
   ]
  },
  {
   "cell_type": "code",
   "execution_count": 31,
   "metadata": {},
   "outputs": [
    {
     "data": {
      "text/plain": [
       "0                            C:\\Windows\\System32\n",
       "1                            C:\\Windows\\System32\n",
       "2     C:\\Windows\\System32\\WindowsPowerShell\\v1.0\n",
       "3     C:\\Windows\\System32\\WindowsPowerShell\\v1.0\n",
       "4                            C:\\Windows\\System32\n",
       "5                            C:\\Windows\\System32\n",
       "6                       C:\\Windows\\System32\\wbem\n",
       "7     C:\\Windows\\System32\\WindowsPowerShell\\v1.0\n",
       "8                            C:\\Windows\\System32\n",
       "9     C:\\Windows\\System32\\WindowsPowerShell\\v1.0\n",
       "10    C:\\Windows\\System32\\WindowsPowerShell\\v1.0\n",
       "11                           C:\\Windows\\System32\n",
       "12    C:\\Windows\\System32\\WindowsPowerShell\\v1.0\n",
       "13                           C:\\Windows\\System32\n",
       "14                           C:\\Windows\\System32\n",
       "15                           C:\\Windows\\System32\n",
       "Name: binary_ref.parent_directory_ref.path, dtype: object"
      ]
     },
     "execution_count": 31,
     "metadata": {},
     "output_type": "execute_result"
    }
   ],
   "source": [
    "small['binary_ref.parent_directory_ref.path']"
   ]
  },
  {
   "cell_type": "code",
   "execution_count": 34,
   "metadata": {},
   "outputs": [],
   "source": [
    "small = small.drop(columns=['index'])"
   ]
  },
  {
   "cell_type": "code",
   "execution_count": 45,
   "metadata": {},
   "outputs": [],
   "source": [
    "very_smalle = small[small.index.isin([1, 2, 3])]"
   ]
  },
  {
   "cell_type": "code",
   "execution_count": 46,
   "metadata": {},
   "outputs": [
    {
     "data": {
      "text/html": [
       "<div>\n",
       "<style scoped>\n",
       "    .dataframe tbody tr th:only-of-type {\n",
       "        vertical-align: middle;\n",
       "    }\n",
       "\n",
       "    .dataframe tbody tr th {\n",
       "        vertical-align: top;\n",
       "    }\n",
       "\n",
       "    .dataframe thead th {\n",
       "        text-align: right;\n",
       "    }\n",
       "</style>\n",
       "<table border=\"1\" class=\"dataframe\">\n",
       "  <thead>\n",
       "    <tr style=\"text-align: right;\">\n",
       "      <th></th>\n",
       "      <th>type</th>\n",
       "      <th>name</th>\n",
       "      <th>id</th>\n",
       "      <th>created</th>\n",
       "      <th>binary_ref.type</th>\n",
       "      <th>binary_ref.name</th>\n",
       "      <th>binary_ref.parent_directory_ref.type</th>\n",
       "      <th>binary_ref.parent_directory_ref.path</th>\n",
       "      <th>binary_ref.parent_directory_ref.id</th>\n",
       "      <th>binary_ref.id</th>\n",
       "      <th>...</th>\n",
       "      <th>parent_ref.binary_ref.parent_directory_ref.path</th>\n",
       "      <th>parent_ref.binary_ref.parent_directory_ref.id</th>\n",
       "      <th>parent_ref.binary_ref.id</th>\n",
       "      <th>parent_ref.pid</th>\n",
       "      <th>parent_ref.command_line</th>\n",
       "      <th>parent_ref.id</th>\n",
       "      <th>command_line_entropy</th>\n",
       "      <th>command_line_len</th>\n",
       "      <th>suspicion_score</th>\n",
       "      <th>opened_connection_refs</th>\n",
       "    </tr>\n",
       "  </thead>\n",
       "  <tbody>\n",
       "    <tr>\n",
       "      <th>1</th>\n",
       "      <td>process</td>\n",
       "      <td>wscript.exe</td>\n",
       "      <td>process--f95e7bef-92db-4400-abd4-f7eb0cc1152d_3</td>\n",
       "      <td></td>\n",
       "      <td>file</td>\n",
       "      <td>wscript.exe</td>\n",
       "      <td>directory</td>\n",
       "      <td>C:\\Windows\\System32</td>\n",
       "      <td>directory--f95e7bef-92db-4400-abd4-f7eb0cc1152d_5</td>\n",
       "      <td>file--f95e7bef-92db-4400-abd4-f7eb0cc1152d_4</td>\n",
       "      <td>...</td>\n",
       "      <td></td>\n",
       "      <td></td>\n",
       "      <td></td>\n",
       "      <td></td>\n",
       "      <td></td>\n",
       "      <td></td>\n",
       "      <td>4.610897</td>\n",
       "      <td>71</td>\n",
       "      <td>1</td>\n",
       "      <td></td>\n",
       "    </tr>\n",
       "    <tr>\n",
       "      <th>2</th>\n",
       "      <td>process</td>\n",
       "      <td>powershell.exe</td>\n",
       "      <td>process--caf4bad5-c678-4e57-807f-d40ef55745c5_3</td>\n",
       "      <td></td>\n",
       "      <td>file</td>\n",
       "      <td>powershell.exe</td>\n",
       "      <td>directory</td>\n",
       "      <td>C:\\Windows\\System32\\WindowsPowerShell\\v1.0</td>\n",
       "      <td>directory--caf4bad5-c678-4e57-807f-d40ef55745c5_5</td>\n",
       "      <td>file--caf4bad5-c678-4e57-807f-d40ef55745c5_4</td>\n",
       "      <td>...</td>\n",
       "      <td></td>\n",
       "      <td></td>\n",
       "      <td></td>\n",
       "      <td></td>\n",
       "      <td></td>\n",
       "      <td></td>\n",
       "      <td>4.385642</td>\n",
       "      <td>5458</td>\n",
       "      <td>2</td>\n",
       "      <td></td>\n",
       "    </tr>\n",
       "    <tr>\n",
       "      <th>3</th>\n",
       "      <td>process</td>\n",
       "      <td>powershell.exe</td>\n",
       "      <td>process--59b122e0-a2b7-4576-ae9f-431405aaa02e_3</td>\n",
       "      <td></td>\n",
       "      <td>file</td>\n",
       "      <td>powershell.exe</td>\n",
       "      <td>directory</td>\n",
       "      <td>C:\\Windows\\System32\\WindowsPowerShell\\v1.0</td>\n",
       "      <td>directory--59b122e0-a2b7-4576-ae9f-431405aaa02e_5</td>\n",
       "      <td>file--59b122e0-a2b7-4576-ae9f-431405aaa02e_4</td>\n",
       "      <td>...</td>\n",
       "      <td></td>\n",
       "      <td></td>\n",
       "      <td></td>\n",
       "      <td></td>\n",
       "      <td></td>\n",
       "      <td></td>\n",
       "      <td>4.404711</td>\n",
       "      <td>5477</td>\n",
       "      <td>2</td>\n",
       "      <td></td>\n",
       "    </tr>\n",
       "  </tbody>\n",
       "</table>\n",
       "<p>3 rows × 36 columns</p>\n",
       "</div>"
      ],
      "text/plain": [
       "      type            name                                               id  \\\n",
       "1  process     wscript.exe  process--f95e7bef-92db-4400-abd4-f7eb0cc1152d_3   \n",
       "2  process  powershell.exe  process--caf4bad5-c678-4e57-807f-d40ef55745c5_3   \n",
       "3  process  powershell.exe  process--59b122e0-a2b7-4576-ae9f-431405aaa02e_3   \n",
       "\n",
       "  created binary_ref.type binary_ref.name  \\\n",
       "1                    file     wscript.exe   \n",
       "2                    file  powershell.exe   \n",
       "3                    file  powershell.exe   \n",
       "\n",
       "  binary_ref.parent_directory_ref.type  \\\n",
       "1                            directory   \n",
       "2                            directory   \n",
       "3                            directory   \n",
       "\n",
       "         binary_ref.parent_directory_ref.path  \\\n",
       "1                         C:\\Windows\\System32   \n",
       "2  C:\\Windows\\System32\\WindowsPowerShell\\v1.0   \n",
       "3  C:\\Windows\\System32\\WindowsPowerShell\\v1.0   \n",
       "\n",
       "                  binary_ref.parent_directory_ref.id  \\\n",
       "1  directory--f95e7bef-92db-4400-abd4-f7eb0cc1152d_5   \n",
       "2  directory--caf4bad5-c678-4e57-807f-d40ef55745c5_5   \n",
       "3  directory--59b122e0-a2b7-4576-ae9f-431405aaa02e_5   \n",
       "\n",
       "                                  binary_ref.id  ...  \\\n",
       "1  file--f95e7bef-92db-4400-abd4-f7eb0cc1152d_4  ...   \n",
       "2  file--caf4bad5-c678-4e57-807f-d40ef55745c5_4  ...   \n",
       "3  file--59b122e0-a2b7-4576-ae9f-431405aaa02e_4  ...   \n",
       "\n",
       "   parent_ref.binary_ref.parent_directory_ref.path  \\\n",
       "1                                                    \n",
       "2                                                    \n",
       "3                                                    \n",
       "\n",
       "  parent_ref.binary_ref.parent_directory_ref.id parent_ref.binary_ref.id  \\\n",
       "1                                                                          \n",
       "2                                                                          \n",
       "3                                                                          \n",
       "\n",
       "  parent_ref.pid parent_ref.command_line parent_ref.id command_line_entropy  \\\n",
       "1                                                                  4.610897   \n",
       "2                                                                  4.385642   \n",
       "3                                                                  4.404711   \n",
       "\n",
       "  command_line_len  suspicion_score opened_connection_refs  \n",
       "1               71                1                         \n",
       "2             5458                2                         \n",
       "3             5477                2                         \n",
       "\n",
       "[3 rows x 36 columns]"
      ]
     },
     "execution_count": 46,
     "metadata": {},
     "output_type": "execute_result"
    }
   ],
   "source": [
    "very_smalle"
   ]
  },
  {
   "cell_type": "code",
   "execution_count": null,
   "metadata": {},
   "outputs": [],
   "source": []
  },
  {
   "cell_type": "code",
   "execution_count": 11,
   "metadata": {},
   "outputs": [
    {
     "name": "stderr",
     "output_type": "stream",
     "text": [
      "/srv/conda/envs/notebook/lib/python3.7/site-packages/sklearn/externals/joblib/__init__.py:15: DeprecationWarning: sklearn.externals.joblib is deprecated in 0.21 and will be removed in 0.23. Please import this functionality directly from joblib, which can be installed with: pip install joblib. If this warning is raised when loading pickled models, you may need to re-serialize those models with scikit-learn 0.21+.\n",
      "  warnings.warn(msg, category=DeprecationWarning)\n"
     ]
    }
   ],
   "source": [
    "from watson_machine_learning_client import WatsonMachineLearningAPIClient\n",
    "\n"
   ]
  },
  {
   "cell_type": "code",
   "execution_count": 12,
   "metadata": {},
   "outputs": [],
   "source": [
    "credentials = {\n",
    "    \"wml_apikey\": \"Yr2VndMYlKxQYwg3kMSEOQW7wL_v-G9s2slpL1NCu3Mu\",\n",
    "    \"wml_instance_id\": \"5946f309-2adc-48d7-bf08-7bb022dcdfc2\",\n",
    "    \"wml_url\": \"https://eu-gb.ml.cloud.ibm.com\",\n",
    "    \"wml_deployment_id\": \"04f68009-094f-4101-831f-8eeaa845e75f\"\n",
    "}"
   ]
  },
  {
   "cell_type": "code",
   "execution_count": 13,
   "metadata": {},
   "outputs": [],
   "source": [
    "wml_credential = {\n",
    "        \"apikey\": credentials['wml_apikey'],\n",
    "        \"instance_id\": credentials['wml_instance_id'],\n",
    "        \"url\": credentials['wml_url']\n",
    "}\n",
    "client = WatsonMachineLearningAPIClient(wml_credential)\n",
    "pred = client.deployments.score(credentials['wml_deployment_id'],\n",
    "                                {\"input_data\": [{\"fields\": list(df.columns),\n",
    "                                                 \"values\": df.values.tolist()}]})"
   ]
  },
  {
   "cell_type": "code",
   "execution_count": 14,
   "metadata": {},
   "outputs": [],
   "source": [
    "df['prediction'] = [d[0] for d in pred['predictions'][0]['values']]"
   ]
  },
  {
   "cell_type": "code",
   "execution_count": 15,
   "metadata": {},
   "outputs": [
    {
     "data": {
      "text/plain": [
       "{'predictions': [{'fields': ['prediction', 'probability'],\n",
       "   'values': [[0, [1.0, 0.0, 0.0]],\n",
       "    [0, [1.0, 0.0, 0.0]],\n",
       "    [0, [1.0, 0.0, 0.0]],\n",
       "    [0, [1.0, 0.0, 0.0]],\n",
       "    [0, [1.0, 0.0, 0.0]],\n",
       "    [0, [1.0, 0.0, 0.0]]]}]}"
      ]
     },
     "execution_count": 15,
     "metadata": {},
     "output_type": "execute_result"
    }
   ],
   "source": [
    "pred"
   ]
  },
  {
   "cell_type": "code",
   "execution_count": 47,
   "metadata": {},
   "outputs": [
    {
     "name": "stderr",
     "output_type": "stream",
     "text": [
      "/srv/conda/envs/notebook/lib/python3.7/site-packages/ipykernel_launcher.py:11: SettingWithCopyWarning: \n",
      "A value is trying to be set on a copy of a slice from a DataFrame.\n",
      "Try using .loc[row_indexer,col_indexer] = value instead\n",
      "\n",
      "See the caveats in the documentation: http://pandas.pydata.org/pandas-docs/stable/user_guide/indexing.html#returning-a-view-versus-a-copy\n",
      "  # This is added back by InteractiveShellApp.init_path()\n"
     ]
    },
    {
     "data": {
      "text/plain": [
       "{'predictions': [{'fields': ['prediction', 'probability'],\n",
       "   'values': [[2, [0.0, 0.0, 1.0]],\n",
       "    [2, [0.0, 0.0, 1.0]],\n",
       "    [2, [0.0, 0.0, 1.0]]]}]}"
      ]
     },
     "execution_count": 47,
     "metadata": {},
     "output_type": "execute_result"
    }
   ],
   "source": [
    "# wml_credential = {\n",
    "#         \"apikey\": credentials['wml_apikey'],\n",
    "#         \"instance_id\": credentials['wml_instance_id'],\n",
    "#         \"url\": credentials['wml_url']\n",
    "# }\n",
    "# client = WatsonMachineLearningAPIClient(wml_credential)\n",
    "very_smalle_pred = client.deployments.score(credentials['wml_deployment_id'],\n",
    "                                {\"input_data\": [{\"fields\": list(very_smalle.columns),\n",
    "                                                 \"values\": very_smalle.values.tolist()}]})\n",
    "\n",
    "very_smalle['prediction'] = [d[0] for d in very_smalle_pred['predictions'][0]['values']]\n",
    "\n",
    "very_smalle_pred"
   ]
  },
  {
   "cell_type": "code",
   "execution_count": null,
   "metadata": {},
   "outputs": [],
   "source": []
  }
 ],
 "metadata": {
  "kernelspec": {
   "display_name": "Python 3",
   "language": "python",
   "name": "python3"
  },
  "language_info": {
   "codemirror_mode": {
    "name": "ipython",
    "version": 3
   },
   "file_extension": ".py",
   "mimetype": "text/x-python",
   "name": "python",
   "nbconvert_exporter": "python",
   "pygments_lexer": "ipython3",
   "version": "3.7.8"
  }
 },
 "nbformat": 4,
 "nbformat_minor": 2
}
