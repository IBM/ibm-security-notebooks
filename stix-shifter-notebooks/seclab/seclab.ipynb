{
 "cells": [
  {
   "cell_type": "markdown",
   "metadata": {},
   "source": [
    "# SEC LAB"
   ]
  },
  {
   "cell_type": "raw",
   "metadata": {},
   "source": [
    "This notebook helps to collect all cmd (cmd.exe) and (certutil.exe) process executions in order to find suspicious activity.\n",
    "\n",
    "This example demonstrates how to find suspicious executions used in the attack applying Machine Learning model and using WML API."
   ]
  },
  {
   "cell_type": "code",
   "execution_count": null,
   "metadata": {},
   "outputs": [],
   "source": [
    "# Install dependencies.\n",
    "!pip install git+https://github.com/IBM/ibm-security-notebooks.git "
   ]
  },
  {
   "cell_type": "code",
   "execution_count": null,
   "metadata": {},
   "outputs": [],
   "source": [
    "from pyclient.stix_shifter_dataframe import StixShifterDataFrame\n",
    "from dateutil import parser\n",
    "import re\n",
    "import pandas as pd\n",
    "from collections import Counter\n",
    "import math\n",
    "import hashlib\n"
   ]
  },
  {
   "cell_type": "code",
   "execution_count": null,
   "metadata": {},
   "outputs": [],
   "source": [
    "# Ready made STIX bundles to use\n",
    "carbon_black_stix_bundle_1 = 'https://raw.githubusercontent.com/opencybersecurityalliance/stix-shifter/master/data/cybox/carbon_black/carbon_black_observable.json'\n",
    "sb_config_1 = {\n",
    "    'translation_module': 'stix_bundle',\n",
    "    'transmission_module': 'stix_bundle',\n",
    "    'connection': {\n",
    "        \"host\": carbon_black_stix_bundle_1,\n",
    "        \"port\": 443\n",
    "    },\n",
    "    'configuration': {\n",
    "        \"auth\": {\n",
    "            \"username\": None,\n",
    "            \"password\": None\n",
    "        }\n",
    "    },\n",
    "    'data_source': '{\"type\": \"identity\", \"id\": \"identity--3532c56d-ea72-48be-a2ad-1a53f4c9c6d3\", \"name\": \"stix_boundle\", \"identity_class\": \"events\"}'\n",
    "}"
   ]
  },
  {
   "cell_type": "code",
   "execution_count": null,
   "metadata": {},
   "outputs": [],
   "source": [
    "carbon_black_stix_bundle_2 = 'https://raw.githubusercontent.com/opencybersecurityalliance/stix-shifter/develop/data/cybox/carbon_black/cb_observed_156.json'\n",
    "sb_config_2 = {\n",
    "    'translation_module': 'stix_bundle',\n",
    "    'transmission_module': 'stix_bundle',\n",
    "    'connection': {\n",
    "        \"host\": carbon_black_stix_bundle_2,\n",
    "        \"port\": 443\n",
    "    },\n",
    "    'configuration': {\n",
    "        \"auth\": {\n",
    "            \"username\": None,\n",
    "            \"password\": None\n",
    "        }\n",
    "    },\n",
    "    'data_source': '{\"type\": \"identity\", \"id\": \"identity--3532c56d-ea72-48be-a2ad-1a53f4c9c6d3\", \"name\": \"stix_boundle\", \"identity_class\": \"events\"}'\n",
    "}"
   ]
  },
  {
   "cell_type": "code",
   "execution_count": null,
   "metadata": {},
   "outputs": [],
   "source": [
    "def get_duration(duration):\n",
    "    days, seconds = duration.days, duration.seconds\n",
    "    hours = seconds // 3600\n",
    "    minutes = (seconds % 3600) // 60\n",
    "    seconds = seconds % 60\n",
    "    return f\"{days}d {hours}h {minutes}m {seconds}.{duration.microseconds//1000}s\""
   ]
  },
  {
   "cell_type": "code",
   "execution_count": null,
   "metadata": {
    "pycharm": {
     "name": "#%%\n"
    }
   },
   "outputs": [],
   "source": [
    "def defang(url):\n",
    "    return re.sub('http', 'hxxp', url)"
   ]
  },
  {
   "cell_type": "markdown",
   "metadata": {
    "pycharm": {
     "name": "#%% md\n"
    }
   },
   "source": [
    "# Fetch process data that are spawn by cmd using STIX-SHIFTER"
   ]
  },
  {
   "cell_type": "code",
   "execution_count": null,
   "metadata": {
    "pycharm": {
     "name": "#%%\n"
    }
   },
   "outputs": [],
   "source": [
    "ssdf = StixShifterDataFrame()\n",
    "ssdf.add_config('cb_stix_bundle_1', sb_config_1)\n",
    "ssdf.add_config('cb_stix_bundle_2', sb_config_2)\n",
    "\n",
    "\n",
    "# stix-shifter uses STIX patterning as its query language\n",
    "# See http://docs.oasis-open.org/cti/stix/v2.0/cs01/part5-stix-patterning/stix-v2.0-cs01-part5-stix-patterning.html\n",
    "cmd_query = \"[process:name = 'cmd.exe']\"\n",
    "df = ssdf.search_df(query=cmd_query, config_names=['cb_stix_bundle_1', 'cb_stix_bundle_2'])"
   ]
  },
  {
   "cell_type": "markdown",
   "metadata": {},
   "source": [
    "# Prepare features"
   ]
  },
  {
   "cell_type": "code",
   "execution_count": null,
   "metadata": {},
   "outputs": [],
   "source": [
    "# Need to compute some fields used in feature extraction like command_line_entropy.\n",
    "\n",
    "import math\n",
    "def is_prime(n):\n",
    "    if n % 2 == 0 and n > 2: \n",
    "        return False\n",
    "    return all(n % i for i in range(3, int(math.sqrt(n)) + 1, 2))\n",
    "\n",
    "# def get_str_hash(x, divisor):\n",
    "#     return hash(x) % divisor\n",
    "\n",
    "def get_str_hash(x, divisor):\n",
    "    m = hashlib.md5()\n",
    "    m.update(x.encode(\"utf-8\"))\n",
    "    h = m.hexdigest()\n",
    "    number = int(h, 16)\n",
    "    return number % divisor\n",
    "\n",
    "def entropy(s):\n",
    "    \"\"\"Compute the Shannon entropy of string s\"\"\"\n",
    "    counter = Counter(s)\n",
    "    nchars = float(len(s))\n",
    "    return -sum(count / nchars * math.log(count / nchars, 2) for count in counter.values())\n",
    "\n",
    "features = []\n",
    "primes = [i for i in range(2, 50) if is_prime(i)]\n",
    "for i in primes:\n",
    "    feature_name = 'cmd_hash_dv' + str(i)\n",
    "    df[feature_name] = df['process:command_line'].apply(lambda x: get_str_hash(x, i))\n",
    "    features.append(feature_name)\n",
    "\n",
    "features.extend(['suspicion_score', 'command_line_entropy', 'command_line_len'])\n",
    "\n",
    "df['suspicion_score'] = 0\n",
    "df['command_line_entropy'] = df.apply(lambda x: entropy(x['process:command_line']), axis=1)\n",
    "df['command_line_len'] = df.apply(lambda x: len(x['process:command_line']), axis=1)"
   ]
  },
  {
   "cell_type": "code",
   "execution_count": null,
   "metadata": {},
   "outputs": [],
   "source": [
    "test_df = df[features]\n",
    "\n",
    "scoring_payload = {\n",
    "  \"input_data\": [\n",
    "    {\n",
    "      \"fields\": list(test_df.columns),\n",
    "      \"values\": test_df.values.tolist()\n",
    "    }\n",
    "  ]\n",
    "}"
   ]
  },
  {
   "cell_type": "markdown",
   "metadata": {},
   "source": [
    "# Get prediction"
   ]
  },
  {
   "cell_type": "markdown",
   "metadata": {},
   "source": [
    "# Get prediction using WML API"
   ]
  },
  {
   "cell_type": "code",
   "execution_count": null,
   "metadata": {},
   "outputs": [],
   "source": [
    "from ibm_watson_machine_learning import APIClient\n",
    "wml_credentials = {\n",
    "    \"apikey\":\"FILLME\",\n",
    "    \"url\": \"https://eu-gb.ml.cloud.ibm.com\"\n",
    "}\n",
    "sus_c64_deployment_id = 'FILLME'\n",
    "\n",
    "wml_client = APIClient(wml_credentials)\n",
    "\n",
    "# Set space id\n",
    "spaces_detail = wml_client.spaces.get_details()\n",
    "wml_client.set.default_space(spaces_detail['resources'][0]['metadata']['id'])\n",
    "\n",
    "#\n",
    "pred = wml_client.deployments.score(sus_c64_deployment_id, scoring_payload)"
   ]
  },
  {
   "cell_type": "code",
   "execution_count": null,
   "metadata": {},
   "outputs": [],
   "source": [
    "pred"
   ]
  },
  {
   "cell_type": "code",
   "execution_count": null,
   "metadata": {},
   "outputs": [],
   "source": [
    "# the prediction above corresponds to suspicious score for elements in df\n",
    "df.head()\n",
    "df.iloc[0][\"process:command_line\"]\n",
    "#notice that the cert util connecting to an IP address and downloading c64.exe which eventually runs with f64.data.\n",
    "# this is the classic APT41"
   ]
  }
 ],
 "metadata": {
  "kernelspec": {
   "display_name": "Python 3",
   "language": "python",
   "name": "python3"
  },
  "language_info": {
   "codemirror_mode": {
    "name": "ipython",
    "version": 3
   },
   "file_extension": ".py",
   "mimetype": "text/x-python",
   "name": "python",
   "nbconvert_exporter": "python",
   "pygments_lexer": "ipython3",
   "version": "3.7.6"
  }
 },
 "nbformat": 4,
 "nbformat_minor": 2
}
