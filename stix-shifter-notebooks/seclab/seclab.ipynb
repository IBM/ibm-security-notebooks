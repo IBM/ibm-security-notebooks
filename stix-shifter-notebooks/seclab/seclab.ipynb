{
 "cells": [
  {
   "cell_type": "markdown",
   "metadata": {},
   "source": [
    "# CERTUTIL hunt"
   ]
  },
  {
   "cell_type": "markdown",
   "metadata": {},
   "source": [
    "This notebook helps to collect all cmd (cmd.exe) and (certutil.exe) process executions in order to find suspicious activity.\n",
    "\n",
    "This example demonstrates how to find suspicious executions that are downloaded by using certutil.exe, and then using certutil.exe to attack."
   ]
  },
  {
   "cell_type": "code",
   "execution_count": 8,
   "metadata": {},
   "outputs": [
    {
     "name": "stdout",
     "output_type": "stream",
     "text": [
      "Collecting git+https://github.com/IBM/ibm-security-notebooks.git\n",
      "  Cloning https://github.com/IBM/ibm-security-notebooks.git to /private/var/folders/_0/cmjj5d1d0y95znfyc3fw43sm0000gn/T/pip-req-build-dqazp9wc\n",
      "  Running command git clone -q https://github.com/IBM/ibm-security-notebooks.git /private/var/folders/_0/cmjj5d1d0y95znfyc3fw43sm0000gn/T/pip-req-build-dqazp9wc\n",
      "Requirement already satisfied (use --upgrade to upgrade): ibm-security-notebooks==0.0.1 from git+https://github.com/IBM/ibm-security-notebooks.git in /Users/sulakshan/Library/Python/3.8/lib/python/site-packages\n",
      "Requirement already satisfied: requests in /Users/sulakshan/Library/Python/3.8/lib/python/site-packages (from ibm-security-notebooks==0.0.1) (2.24.0)\n",
      "Requirement already satisfied: pandas in /Users/sulakshan/Library/Python/3.8/lib/python/site-packages (from ibm-security-notebooks==0.0.1) (1.1.3)\n",
      "Requirement already satisfied: anytree in /Users/sulakshan/Library/Python/3.8/lib/python/site-packages (from ibm-security-notebooks==0.0.1) (2.8.0)\n",
      "Requirement already satisfied: huntlib in /Users/sulakshan/Library/Python/3.8/lib/python/site-packages (from ibm-security-notebooks==0.0.1) (0.5.1)\n",
      "Requirement already satisfied: stix-shifter in /Users/sulakshan/Library/Python/3.8/lib/python/site-packages (from ibm-security-notebooks==0.0.1) (3.2.0)\n",
      "Requirement already satisfied: stix-shifter-utils in /Users/sulakshan/Library/Python/3.8/lib/python/site-packages (from ibm-security-notebooks==0.0.1) (3.2.0)\n",
      "Requirement already satisfied: stix-shifter-modules-qradar in /Users/sulakshan/Library/Python/3.8/lib/python/site-packages (from ibm-security-notebooks==0.0.1) (3.2.0)\n",
      "Requirement already satisfied: stix-shifter-modules-carbonblack in /Users/sulakshan/Library/Python/3.8/lib/python/site-packages (from ibm-security-notebooks==0.0.1) (3.2.0)\n",
      "Requirement already satisfied: stix-shifter-modules-stix_bundle in /Users/sulakshan/Library/Python/3.8/lib/python/site-packages (from ibm-security-notebooks==0.0.1) (3.2.0)\n",
      "Requirement already satisfied: matplotlib in /Users/sulakshan/Library/Python/3.8/lib/python/site-packages (from ibm-security-notebooks==0.0.1) (3.3.2)\n",
      "Requirement already satisfied: sklearn in /Users/sulakshan/Library/Python/3.8/lib/python/site-packages (from ibm-security-notebooks==0.0.1) (0.0)\n",
      "Requirement already satisfied: urllib3!=1.25.0,!=1.25.1,<1.26,>=1.21.1 in /Users/sulakshan/Library/Python/3.8/lib/python/site-packages (from requests->ibm-security-notebooks==0.0.1) (1.25.11)\n",
      "Requirement already satisfied: certifi>=2017.4.17 in /Users/sulakshan/Library/Python/3.8/lib/python/site-packages (from requests->ibm-security-notebooks==0.0.1) (2020.6.20)\n",
      "Requirement already satisfied: idna<3,>=2.5 in /Users/sulakshan/Library/Python/3.8/lib/python/site-packages (from requests->ibm-security-notebooks==0.0.1) (2.10)\n",
      "Requirement already satisfied: chardet<4,>=3.0.2 in /Users/sulakshan/Library/Python/3.8/lib/python/site-packages (from requests->ibm-security-notebooks==0.0.1) (3.0.4)\n",
      "Requirement already satisfied: pytz>=2017.2 in /Users/sulakshan/Library/Python/3.8/lib/python/site-packages (from pandas->ibm-security-notebooks==0.0.1) (2020.1)\n",
      "Requirement already satisfied: numpy>=1.15.4 in /Users/sulakshan/Library/Python/3.8/lib/python/site-packages (from pandas->ibm-security-notebooks==0.0.1) (1.19.2)\n",
      "Requirement already satisfied: python-dateutil>=2.7.3 in /Users/sulakshan/Library/Python/3.8/lib/python/site-packages (from pandas->ibm-security-notebooks==0.0.1) (2.8.1)\n",
      "Requirement already satisfied: six>=1.9.0 in /Applications/Xcode.app/Contents/Developer/Library/Frameworks/Python3.framework/Versions/3.8/lib/python3.8/site-packages (from anytree->ibm-security-notebooks==0.0.1) (1.15.0)\n",
      "Requirement already satisfied: splunk-sdk in /Users/sulakshan/Library/Python/3.8/lib/python/site-packages (from huntlib->ibm-security-notebooks==0.0.1) (1.6.14)\n",
      "Requirement already satisfied: domaintools-api in /Users/sulakshan/Library/Python/3.8/lib/python/site-packages (from huntlib->ibm-security-notebooks==0.0.1) (0.5.2)\n",
      "Requirement already satisfied: scipy in /Users/sulakshan/Library/Python/3.8/lib/python/site-packages (from huntlib->ibm-security-notebooks==0.0.1) (1.5.3)\n",
      "Requirement already satisfied: jellyfish>=0.8.2 in /Users/sulakshan/Library/Python/3.8/lib/python/site-packages (from huntlib->ibm-security-notebooks==0.0.1) (0.8.2)\n",
      "Requirement already satisfied: elasticsearch-dsl in /Users/sulakshan/Library/Python/3.8/lib/python/site-packages (from huntlib->ibm-security-notebooks==0.0.1) (7.3.0)\n",
      "Requirement already satisfied: future in /Users/sulakshan/Library/Python/3.8/lib/python/site-packages (from huntlib->ibm-security-notebooks==0.0.1) (0.18.2)\n",
      "Requirement already satisfied: tqdm in /Users/sulakshan/Library/Python/3.8/lib/python/site-packages (from huntlib->ibm-security-notebooks==0.0.1) (4.50.2)\n",
      "Requirement already satisfied: jsonmerge==1.7.0 in /Users/sulakshan/Library/Python/3.8/lib/python/site-packages (from stix-shifter->ibm-security-notebooks==0.0.1) (1.7.0)\n",
      "Requirement already satisfied: stix2-patterns==1.3.0 in /Users/sulakshan/Library/Python/3.8/lib/python/site-packages (from stix-shifter->ibm-security-notebooks==0.0.1) (1.3.0)\n",
      "Requirement already satisfied: stix2-validator==1.1.2 in /Users/sulakshan/Library/Python/3.8/lib/python/site-packages (from stix-shifter->ibm-security-notebooks==0.0.1) (1.1.2)\n",
      "Requirement already satisfied: requests-toolbelt==0.9.1 in /Users/sulakshan/Library/Python/3.8/lib/python/site-packages (from stix-shifter->ibm-security-notebooks==0.0.1) (0.9.1)\n",
      "Requirement already satisfied: flatten-json==0.1.7 in /Users/sulakshan/Library/Python/3.8/lib/python/site-packages (from stix-shifter->ibm-security-notebooks==0.0.1) (0.1.7)\n",
      "Requirement already satisfied: xmltodict==0.12.0 in /Users/sulakshan/Library/Python/3.8/lib/python/site-packages (from stix-shifter->ibm-security-notebooks==0.0.1) (0.12.0)\n",
      "Requirement already satisfied: adal==1.2.2 in /Users/sulakshan/Library/Python/3.8/lib/python/site-packages (from stix-shifter->ibm-security-notebooks==0.0.1) (1.2.2)\n",
      "Requirement already satisfied: antlr4-python3-runtime==4.8 in /Users/sulakshan/Library/Python/3.8/lib/python/site-packages (from stix-shifter->ibm-security-notebooks==0.0.1) (4.8)\n",
      "Requirement already satisfied: stix2-matcher==1.0.0 in /Users/sulakshan/Library/Python/3.8/lib/python/site-packages (from stix-shifter->ibm-security-notebooks==0.0.1) (1.0.0)\n",
      "Requirement already satisfied: colorlog==4.1.0 in /Users/sulakshan/Library/Python/3.8/lib/python/site-packages (from stix-shifter->ibm-security-notebooks==0.0.1) (4.1.0)\n",
      "Requirement already satisfied: boto3==1.12.40 in /Users/sulakshan/Library/Python/3.8/lib/python/site-packages (from stix-shifter->ibm-security-notebooks==0.0.1) (1.12.40)\n",
      "Requirement already satisfied: flask==1.1.2 in /Users/sulakshan/Library/Python/3.8/lib/python/site-packages (from stix-shifter->ibm-security-notebooks==0.0.1) (1.1.2)\n",
      "Requirement already satisfied: pillow>=6.2.0 in /Users/sulakshan/Library/Python/3.8/lib/python/site-packages (from matplotlib->ibm-security-notebooks==0.0.1) (8.0.0)\n",
      "Requirement already satisfied: kiwisolver>=1.0.1 in /Users/sulakshan/Library/Python/3.8/lib/python/site-packages (from matplotlib->ibm-security-notebooks==0.0.1) (1.2.0)\n",
      "Requirement already satisfied: pyparsing!=2.0.4,!=2.1.2,!=2.1.6,>=2.0.3 in /Users/sulakshan/Library/Python/3.8/lib/python/site-packages (from matplotlib->ibm-security-notebooks==0.0.1) (2.4.7)\n",
      "Requirement already satisfied: cycler>=0.10 in /Users/sulakshan/Library/Python/3.8/lib/python/site-packages (from matplotlib->ibm-security-notebooks==0.0.1) (0.10.0)\n",
      "Requirement already satisfied: scikit-learn in /Users/sulakshan/Library/Python/3.8/lib/python/site-packages (from sklearn->ibm-security-notebooks==0.0.1) (0.23.2)\n",
      "Requirement already satisfied: aiohttp<4.0.0,>=3.6.0 in /Users/sulakshan/Library/Python/3.8/lib/python/site-packages (from domaintools-api->huntlib->ibm-security-notebooks==0.0.1) (3.6.3)\n",
      "Requirement already satisfied: elasticsearch<8.0.0,>=7.0.0 in /Users/sulakshan/Library/Python/3.8/lib/python/site-packages (from elasticsearch-dsl->huntlib->ibm-security-notebooks==0.0.1) (7.9.1)\n",
      "Requirement already satisfied: jsonschema in /Users/sulakshan/Library/Python/3.8/lib/python/site-packages (from jsonmerge==1.7.0->stix-shifter->ibm-security-notebooks==0.0.1) (3.2.0)\n",
      "Requirement already satisfied: appdirs in /Users/sulakshan/Library/Python/3.8/lib/python/site-packages (from stix2-validator==1.1.2->stix-shifter->ibm-security-notebooks==0.0.1) (1.4.4)\n",
      "Requirement already satisfied: colorama in /Users/sulakshan/Library/Python/3.8/lib/python/site-packages (from stix2-validator==1.1.2->stix-shifter->ibm-security-notebooks==0.0.1) (0.4.4)\n",
      "Requirement already satisfied: requests-cache in /Users/sulakshan/Library/Python/3.8/lib/python/site-packages (from stix2-validator==1.1.2->stix-shifter->ibm-security-notebooks==0.0.1) (0.5.2)\n",
      "Requirement already satisfied: simplejson in /Users/sulakshan/Library/Python/3.8/lib/python/site-packages (from stix2-validator==1.1.2->stix-shifter->ibm-security-notebooks==0.0.1) (3.17.2)\n",
      "Requirement already satisfied: cryptography>=1.1.0 in /Users/sulakshan/Library/Python/3.8/lib/python/site-packages (from adal==1.2.2->stix-shifter->ibm-security-notebooks==0.0.1) (3.1.1)\n"
     ]
    },
    {
     "name": "stdout",
     "output_type": "stream",
     "text": [
      "Requirement already satisfied: PyJWT>=1.0.0 in /Users/sulakshan/Library/Python/3.8/lib/python/site-packages (from adal==1.2.2->stix-shifter->ibm-security-notebooks==0.0.1) (1.7.1)\n",
      "Requirement already satisfied: botocore<1.16.0,>=1.15.40 in /Users/sulakshan/Library/Python/3.8/lib/python/site-packages (from boto3==1.12.40->stix-shifter->ibm-security-notebooks==0.0.1) (1.15.49)\n",
      "Requirement already satisfied: jmespath<1.0.0,>=0.7.1 in /Users/sulakshan/Library/Python/3.8/lib/python/site-packages (from boto3==1.12.40->stix-shifter->ibm-security-notebooks==0.0.1) (0.10.0)\n",
      "Requirement already satisfied: s3transfer<0.4.0,>=0.3.0 in /Users/sulakshan/Library/Python/3.8/lib/python/site-packages (from boto3==1.12.40->stix-shifter->ibm-security-notebooks==0.0.1) (0.3.3)\n",
      "Requirement already satisfied: itsdangerous>=0.24 in /Users/sulakshan/Library/Python/3.8/lib/python/site-packages (from flask==1.1.2->stix-shifter->ibm-security-notebooks==0.0.1) (1.1.0)\n",
      "Requirement already satisfied: click>=5.1 in /Users/sulakshan/Library/Python/3.8/lib/python/site-packages (from flask==1.1.2->stix-shifter->ibm-security-notebooks==0.0.1) (7.1.2)\n",
      "Requirement already satisfied: Werkzeug>=0.15 in /Users/sulakshan/Library/Python/3.8/lib/python/site-packages (from flask==1.1.2->stix-shifter->ibm-security-notebooks==0.0.1) (1.0.1)\n",
      "Requirement already satisfied: Jinja2>=2.10.1 in /Users/sulakshan/Library/Python/3.8/lib/python/site-packages (from flask==1.1.2->stix-shifter->ibm-security-notebooks==0.0.1) (2.11.2)\n",
      "Requirement already satisfied: threadpoolctl>=2.0.0 in /Users/sulakshan/Library/Python/3.8/lib/python/site-packages (from scikit-learn->sklearn->ibm-security-notebooks==0.0.1) (2.1.0)\n",
      "Requirement already satisfied: joblib>=0.11 in /Users/sulakshan/Library/Python/3.8/lib/python/site-packages (from scikit-learn->sklearn->ibm-security-notebooks==0.0.1) (0.17.0)\n",
      "Requirement already satisfied: attrs>=17.3.0 in /Users/sulakshan/Library/Python/3.8/lib/python/site-packages (from aiohttp<4.0.0,>=3.6.0->domaintools-api->huntlib->ibm-security-notebooks==0.0.1) (20.2.0)\n",
      "Requirement already satisfied: yarl<1.6.0,>=1.0 in /Users/sulakshan/Library/Python/3.8/lib/python/site-packages (from aiohttp<4.0.0,>=3.6.0->domaintools-api->huntlib->ibm-security-notebooks==0.0.1) (1.5.1)\n",
      "Requirement already satisfied: multidict<5.0,>=4.5 in /Users/sulakshan/Library/Python/3.8/lib/python/site-packages (from aiohttp<4.0.0,>=3.6.0->domaintools-api->huntlib->ibm-security-notebooks==0.0.1) (4.7.6)\n",
      "Requirement already satisfied: async-timeout<4.0,>=3.0 in /Users/sulakshan/Library/Python/3.8/lib/python/site-packages (from aiohttp<4.0.0,>=3.6.0->domaintools-api->huntlib->ibm-security-notebooks==0.0.1) (3.0.1)\n",
      "Requirement already satisfied: setuptools in /Applications/Xcode.app/Contents/Developer/Library/Frameworks/Python3.framework/Versions/3.8/lib/python3.8/site-packages (from jsonschema->jsonmerge==1.7.0->stix-shifter->ibm-security-notebooks==0.0.1) (41.2.0)\n",
      "Requirement already satisfied: pyrsistent>=0.14.0 in /Users/sulakshan/Library/Python/3.8/lib/python/site-packages (from jsonschema->jsonmerge==1.7.0->stix-shifter->ibm-security-notebooks==0.0.1) (0.17.3)\n",
      "Requirement already satisfied: cffi!=1.11.3,>=1.8 in /Users/sulakshan/Library/Python/3.8/lib/python/site-packages (from cryptography>=1.1.0->adal==1.2.2->stix-shifter->ibm-security-notebooks==0.0.1) (1.14.3)\n",
      "Requirement already satisfied: docutils<0.16,>=0.10 in /Users/sulakshan/Library/Python/3.8/lib/python/site-packages (from botocore<1.16.0,>=1.15.40->boto3==1.12.40->stix-shifter->ibm-security-notebooks==0.0.1) (0.15.2)\n",
      "Requirement already satisfied: MarkupSafe>=0.23 in /Users/sulakshan/Library/Python/3.8/lib/python/site-packages (from Jinja2>=2.10.1->flask==1.1.2->stix-shifter->ibm-security-notebooks==0.0.1) (1.1.1)\n",
      "Requirement already satisfied: pycparser in /Users/sulakshan/Library/Python/3.8/lib/python/site-packages (from cffi!=1.11.3,>=1.8->cryptography>=1.1.0->adal==1.2.2->stix-shifter->ibm-security-notebooks==0.0.1) (2.20)\n",
      "Building wheels for collected packages: ibm-security-notebooks\n",
      "  Building wheel for ibm-security-notebooks (setup.py) ... \u001b[?25ldone\n",
      "\u001b[?25h  Created wheel for ibm-security-notebooks: filename=ibm_security_notebooks-0.0.1-cp38-none-any.whl size=13271 sha256=28f4cbddf7ba27dc139a6024d316e2218dd273ab24127f32bdc269e5632aa9d8\n",
      "  Stored in directory: /private/var/folders/_0/cmjj5d1d0y95znfyc3fw43sm0000gn/T/pip-ephem-wheel-cache-t86spauv/wheels/9e/ef/24/3e71756937f716b442b11861bcbc6633e8910eb6ba39edae7a\n",
      "Successfully built ibm-security-notebooks\n",
      "\u001b[33mWARNING: You are using pip version 19.2.3, however version 20.2.4 is available.\n",
      "You should consider upgrading via the 'pip install --upgrade pip' command.\u001b[0m\n"
     ]
    }
   ],
   "source": [
    "# Install dependencies.\n",
    "!pip3 install git+https://github.com/IBM/ibm-security-notebooks.git --user"
   ]
  },
  {
   "cell_type": "code",
   "execution_count": 11,
   "metadata": {},
   "outputs": [
    {
     "ename": "ModuleNotFoundError",
     "evalue": "No module named 'pyclient'",
     "output_type": "error",
     "traceback": [
      "\u001b[0;31m---------------------------------------------------------------------------\u001b[0m",
      "\u001b[0;31mModuleNotFoundError\u001b[0m                       Traceback (most recent call last)",
      "\u001b[0;32m<ipython-input-11-b733b1cb27ed>\u001b[0m in \u001b[0;36m<module>\u001b[0;34m\u001b[0m\n\u001b[0;32m----> 1\u001b[0;31m \u001b[0;32mfrom\u001b[0m \u001b[0mpyclient\u001b[0m\u001b[0;34m.\u001b[0m\u001b[0mstix_shifter_dataframe\u001b[0m \u001b[0;32mimport\u001b[0m \u001b[0mStixShifterDataFrame\u001b[0m\u001b[0;34m\u001b[0m\u001b[0;34m\u001b[0m\u001b[0m\n\u001b[0m\u001b[1;32m      2\u001b[0m \u001b[0;32mfrom\u001b[0m \u001b[0mdateutil\u001b[0m \u001b[0;32mimport\u001b[0m \u001b[0mparser\u001b[0m\u001b[0;34m\u001b[0m\u001b[0;34m\u001b[0m\u001b[0m\n\u001b[1;32m      3\u001b[0m \u001b[0;32mimport\u001b[0m \u001b[0mre\u001b[0m\u001b[0;34m\u001b[0m\u001b[0;34m\u001b[0m\u001b[0m\n\u001b[1;32m      4\u001b[0m \u001b[0;32mimport\u001b[0m \u001b[0mpandas\u001b[0m \u001b[0;32mas\u001b[0m \u001b[0mpd\u001b[0m\u001b[0;34m\u001b[0m\u001b[0;34m\u001b[0m\u001b[0m\n\u001b[1;32m      5\u001b[0m \u001b[0;32mfrom\u001b[0m \u001b[0mcollections\u001b[0m \u001b[0;32mimport\u001b[0m \u001b[0mCounter\u001b[0m\u001b[0;34m\u001b[0m\u001b[0;34m\u001b[0m\u001b[0m\n",
      "\u001b[0;31mModuleNotFoundError\u001b[0m: No module named 'pyclient'"
     ]
    }
   ],
   "source": [
    "from pyclient.stix_shifter_dataframe import StixShifterDataFrame\n",
    "from dateutil import parser\n",
    "import re\n",
    "import pandas as pd\n",
    "from collections import Counter\n",
    "import math\n",
    "import hashlib\n"
   ]
  },
  {
   "cell_type": "code",
   "execution_count": 2,
   "metadata": {
    "collapsed": true
   },
   "outputs": [],
   "source": [
    "# Ready made STIX bundles to use\n",
    "carbon_black_stix_bundle_1 = 'https://raw.githubusercontent.com/opencybersecurityalliance/stix-shifter/master/data/cybox/carbon_black/carbon_black_observable.json'\n",
    "sb_config_1 = {\n",
    "    'translation_module': 'stix_bundle',\n",
    "    'transmission_module': 'stix_bundle',\n",
    "    'connection': {\n",
    "        \"host\": carbon_black_stix_bundle_1,\n",
    "        \"port\": 443\n",
    "    },\n",
    "    'configuration': {\n",
    "        \"auth\": {\n",
    "            \"username\": None,\n",
    "            \"password\": None\n",
    "        }\n",
    "    },\n",
    "    'data_source': '{\"type\": \"identity\", \"id\": \"identity--3532c56d-ea72-48be-a2ad-1a53f4c9c6d3\", \"name\": \"stix_boundle\", \"identity_class\": \"events\"}'\n",
    "}"
   ]
  },
  {
   "cell_type": "code",
   "execution_count": 3,
   "metadata": {
    "collapsed": true
   },
   "outputs": [],
   "source": [
    "carbon_black_stix_bundle_2 = 'https://raw.githubusercontent.com/opencybersecurityalliance/stix-shifter/develop/data/cybox/carbon_black/cb_observed_156.json'\n",
    "sb_config_2 = {\n",
    "    'translation_module': 'stix_bundle',\n",
    "    'transmission_module': 'stix_bundle',\n",
    "    'connection': {\n",
    "        \"host\": carbon_black_stix_bundle_2,\n",
    "        \"port\": 443\n",
    "    },\n",
    "    'configuration': {\n",
    "        \"auth\": {\n",
    "            \"username\": None,\n",
    "            \"password\": None\n",
    "        }\n",
    "    },\n",
    "    'data_source': '{\"type\": \"identity\", \"id\": \"identity--3532c56d-ea72-48be-a2ad-1a53f4c9c6d3\", \"name\": \"stix_boundle\", \"identity_class\": \"events\"}'\n",
    "}"
   ]
  },
  {
   "cell_type": "code",
   "execution_count": 4,
   "metadata": {
    "collapsed": true
   },
   "outputs": [],
   "source": [
    "def get_duration(duration):\n",
    "    days, seconds = duration.days, duration.seconds\n",
    "    hours = seconds // 3600\n",
    "    minutes = (seconds % 3600) // 60\n",
    "    seconds = seconds % 60\n",
    "    return f\"{days}d {hours}h {minutes}m {seconds}.{duration.microseconds//1000}s\""
   ]
  },
  {
   "cell_type": "code",
   "execution_count": 5,
   "metadata": {
    "collapsed": true,
    "pycharm": {
     "name": "#%%\n"
    }
   },
   "outputs": [],
   "source": [
    "def defang(url):\n",
    "    return re.sub('http', 'hxxp', url)"
   ]
  },
  {
   "cell_type": "markdown",
   "metadata": {
    "pycharm": {
     "name": "#%% md\n"
    }
   },
   "source": [
    "# Fetch process data that are spawn by cmd"
   ]
  },
  {
   "cell_type": "code",
   "execution_count": 6,
   "metadata": {
    "pycharm": {
     "name": "#%%\n"
    }
   },
   "outputs": [
    {
     "ename": "NameError",
     "evalue": "name 'StixShifterDataFrame' is not defined",
     "output_type": "error",
     "traceback": [
      "\u001b[0;31m---------------------------------------------------------------------------\u001b[0m",
      "\u001b[0;31mNameError\u001b[0m                                 Traceback (most recent call last)",
      "\u001b[0;32m<ipython-input-6-3178b4f96d2b>\u001b[0m in \u001b[0;36m<module>\u001b[0;34m\u001b[0m\n\u001b[0;32m----> 1\u001b[0;31m \u001b[0mssdf\u001b[0m \u001b[0;34m=\u001b[0m \u001b[0mStixShifterDataFrame\u001b[0m\u001b[0;34m(\u001b[0m\u001b[0;34m)\u001b[0m\u001b[0;34m\u001b[0m\u001b[0;34m\u001b[0m\u001b[0m\n\u001b[0m\u001b[1;32m      2\u001b[0m \u001b[0mssdf\u001b[0m\u001b[0;34m.\u001b[0m\u001b[0madd_config\u001b[0m\u001b[0;34m(\u001b[0m\u001b[0;34m'cb_stix_bundle_1'\u001b[0m\u001b[0;34m,\u001b[0m \u001b[0msb_config_1\u001b[0m\u001b[0;34m)\u001b[0m\u001b[0;34m\u001b[0m\u001b[0;34m\u001b[0m\u001b[0m\n\u001b[1;32m      3\u001b[0m \u001b[0mssdf\u001b[0m\u001b[0;34m.\u001b[0m\u001b[0madd_config\u001b[0m\u001b[0;34m(\u001b[0m\u001b[0;34m'cb_stix_bundle_2'\u001b[0m\u001b[0;34m,\u001b[0m \u001b[0msb_config_2\u001b[0m\u001b[0;34m)\u001b[0m\u001b[0;34m\u001b[0m\u001b[0;34m\u001b[0m\u001b[0m\n\u001b[1;32m      4\u001b[0m \u001b[0;34m\u001b[0m\u001b[0m\n\u001b[1;32m      5\u001b[0m \u001b[0;34m\u001b[0m\u001b[0m\n",
      "\u001b[0;31mNameError\u001b[0m: name 'StixShifterDataFrame' is not defined"
     ]
    }
   ],
   "source": [
    "ssdf = StixShifterDataFrame()\n",
    "ssdf.add_config('cb_stix_bundle_1', sb_config_1)\n",
    "ssdf.add_config('cb_stix_bundle_2', sb_config_2)\n",
    "\n",
    "\n",
    "# stix-shifter uses STIX patterning as its query language\n",
    "# See http://docs.oasis-open.org/cti/stix/v2.0/cs01/part5-stix-patterning/stix-v2.0-cs01-part5-stix-patterning.html\n",
    "cmd_query = \"[process:name = 'cmd.exe']\"\n",
    "df = ssdf.search_df(query=cmd_query, config_names=['cb_stix_bundle_1', 'cb_stix_bundle_2'])"
   ]
  },
  {
   "cell_type": "markdown",
   "metadata": {},
   "source": [
    "# Prepare features"
   ]
  },
  {
   "cell_type": "code",
   "execution_count": 7,
   "metadata": {},
   "outputs": [],
   "source": [
    "import math\n",
    "def is_prime(n):\n",
    "    if n % 2 == 0 and n > 2: \n",
    "        return False\n",
    "    return all(n % i for i in range(3, int(math.sqrt(n)) + 1, 2))\n",
    "\n",
    "# def get_str_hash(x, divisor):\n",
    "#     return hash(x) % divisor\n",
    "\n",
    "def get_str_hash(x, divisor):\n",
    "    m = hashlib.md5()\n",
    "    m.update(x.encode(\"utf-8\"))\n",
    "    h = m.hexdigest()\n",
    "    number = int(h, 16)\n",
    "    return number % divisor\n",
    "\n",
    "def entropy(s):\n",
    "    \"\"\"Compute the Shannon entropy of string s\"\"\"\n",
    "    counter = Counter(s)\n",
    "    nchars = float(len(s))\n",
    "    return -sum(count / nchars * math.log(count / nchars, 2) for count in counter.values())\n",
    "\n",
    "features = []\n",
    "primes = [i for i in range(2, 50) if is_prime(i)]\n",
    "for i in primes:\n",
    "    feature_name = 'cmd_hash_dv' + str(i)\n",
    "    df[feature_name] = df['process:command_line'].apply(lambda x: get_str_hash(x, i))\n",
    "    features.append(feature_name)\n",
    "\n",
    "features.extend(['suspicion_score', 'command_line_entropy', 'command_line_len'])\n",
    "\n",
    "df['suspicion_score'] = 0\n",
    "df['command_line_entropy'] = df.apply(lambda x: entropy(x['process:command_line']), axis=1)\n",
    "df['command_line_len'] = df.apply(lambda x: len(x['process:command_line']), axis=1)"
   ]
  },
  {
   "cell_type": "code",
   "execution_count": 8,
   "metadata": {
    "collapsed": true
   },
   "outputs": [],
   "source": [
    "test_df = df[features]\n",
    "\n",
    "scoring_payload = {\n",
    "  \"input_data\": [\n",
    "    {\n",
    "      \"fields\": list(test_df.columns),\n",
    "      \"values\": test_df.values.tolist()\n",
    "    }\n",
    "  ]\n",
    "}"
   ]
  },
  {
   "cell_type": "markdown",
   "metadata": {},
   "source": [
    "# Get prediction"
   ]
  },
  {
   "cell_type": "code",
   "execution_count": 12,
   "metadata": {},
   "outputs": [
    {
     "name": "stdout",
     "output_type": "stream",
     "text": [
      "Scoring response\n"
     ]
    },
    {
     "data": {
      "text/plain": [
       "{'predictions': [{'fields': ['prediction', 'probability'],\n",
       "   'values': [[2,\n",
       "     [0.3793103448275862, 0.1724137931034483, 0.4482758620689655]],\n",
       "    [2, [0.2988505747126437, 0.3448275862068966, 0.3563218390804598]],\n",
       "    [0, [0.7816091954022989, 0.022988505747126436, 0.19540229885057472]],\n",
       "    [0, [0.7586206896551724, 0.034482758620689655, 0.20689655172413793]],\n",
       "    [0, [0.4482758620689655, 0.2988505747126437, 0.25287356321839083]]]}]}"
      ]
     },
     "execution_count": 12,
     "metadata": {},
     "output_type": "execute_result"
    }
   ],
   "source": [
    "import requests\n",
    "\n",
    "API_KEY = \"6n49T-JYAwVc6-bVDfsNy6iOF5Pug4nFt7XoAB2qVbpl\"\n",
    "token_response = requests.post('https://iam.eu-gb.bluemix.net/identity/token', data={\"apikey\": API_KEY, \"grant_type\": 'urn:ibm:params:oauth:grant-type:apikey'})\n",
    "mltoken = token_response.json()[\"access_token\"]\n",
    "\n",
    "header = {'Content-Type': 'application/json', 'Authorization': 'Bearer ' + mltoken}\n",
    "\n",
    "\n",
    "response_scoring = requests.post('https://eu-gb.ml.cloud.ibm.com/ml/v4/deployments/57fbd180-1e5f-46d1-aa86-d50f66360d03/predictions?version=2020-10-19', json=scoring_payload, headers={'Authorization': 'Bearer ' + mltoken})\n",
    "print(\"Scoring response\")\n",
    "response_scoring.json()"
   ]
  },
  {
   "cell_type": "markdown",
   "metadata": {},
   "source": [
    "# Get prediction using WML API"
   ]
  },
  {
   "cell_type": "code",
   "execution_count": 13,
   "metadata": {},
   "outputs": [
    {
     "name": "stdout",
     "output_type": "stream",
     "text": [
      "DEPRECATED!! Python 3.6 framework is deprecated and will be removed on Jan 20th, 2021.It will be read-only mode starting Nov 20th, 2020. i.e you won't be able to create new assets using this client.Use Python 3.7 instead. For details, see https://dataplatform.cloud.ibm.com/docs/content/wsj/analyze-data/pm_service_supported_frameworks.html\n"
     ]
    }
   ],
   "source": [
    "from ibm_watson_machine_learning import APIClient\n",
    "wml_credentials = {\n",
    "    \"apikey\":\"FILLME\",\n",
    "    \"url\": \"https://eu-gb.ml.cloud.ibm.com\"\n",
    "}\n",
    "sus_c64_deployment_id = 'FILLME'\n",
    "\n",
    "wml_client = APIClient(wml_credentials)\n",
    "\n",
    "# Set space id\n",
    "spaces_detail = wml_client.spaces.get_details()\n",
    "wml_client.set.default_space(space_guid)\n",
    "\n",
    "#\n",
    "pred = wml_client.deployments.score(sus_c64_deployment_id, scoring_payload)"
   ]
  },
  {
   "cell_type": "code",
   "execution_count": 14,
   "metadata": {},
   "outputs": [
    {
     "data": {
      "text/plain": [
       "{'predictions': [{'fields': ['prediction', 'probability'],\n",
       "   'values': [[2,\n",
       "     [0.3793103448275862, 0.1724137931034483, 0.4482758620689655]],\n",
       "    [2, [0.2988505747126437, 0.3448275862068966, 0.3563218390804598]],\n",
       "    [0, [0.7816091954022989, 0.022988505747126436, 0.19540229885057472]],\n",
       "    [0, [0.7586206896551724, 0.034482758620689655, 0.20689655172413793]],\n",
       "    [0, [0.4482758620689655, 0.2988505747126437, 0.25287356321839083]]]}]}"
      ]
     },
     "execution_count": 14,
     "metadata": {},
     "output_type": "execute_result"
    }
   ],
   "source": [
    "pred"
   ]
  }
 ],
 "metadata": {
  "kernelspec": {
   "display_name": "Python 3",
   "language": "python",
   "name": "python3"
  },
  "language_info": {
   "codemirror_mode": {
    "name": "ipython",
    "version": 3
   },
   "file_extension": ".py",
   "mimetype": "text/x-python",
   "name": "python",
   "nbconvert_exporter": "python",
   "pygments_lexer": "ipython3",
   "version": "3.7.6"
  }
 },
 "nbformat": 4,
 "nbformat_minor": 2
}
