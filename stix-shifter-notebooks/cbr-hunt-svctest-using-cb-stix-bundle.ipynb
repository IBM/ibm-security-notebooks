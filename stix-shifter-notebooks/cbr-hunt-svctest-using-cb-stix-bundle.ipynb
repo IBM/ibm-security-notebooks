{
 "cells": [
  {
   "cell_type": "markdown",
   "metadata": {},
   "source": [
    "# SVCTEST hunt"
   ]
  },
  {
   "cell_type": "markdown",
   "metadata": {},
   "source": [
    "This notebook helps to collect all SVCTEST (svctest.exe) and SERVICES service (services.exe) process executions in order to find suspicious activity.\n",
    "\n",
    "As an example on how to leverage the data retrieved we first look at overal SVCTEST executions (grouped by process:creator_user_ref.user_id (username), path), then focus on Windows .bat script executions."
   ]
  },
  {
   "cell_type": "code",
   "execution_count": 1,
   "metadata": {},
   "outputs": [],
   "source": [
    "from pyclient.stix_shifter_dataframe import StixShifterDataFrame\n",
    "from dateutil import parser\n"
   ]
  },
  {
   "cell_type": "code",
   "execution_count": 2,
   "metadata": {},
   "outputs": [],
   "source": [
    "carbon_black_stix_bundle = 'https://raw.githubusercontent.com/opencybersecurityalliance/stix-shifter/develop/data/cybox/carbon_black/carbon_black_observable.json'\n",
    "sb_config = {\n",
    "    'connection': {\n",
    "        \"host\": carbon_black_stix_bundle,\n",
    "        \"port\": 443\n",
    "    },\n",
    "    'configuration': {\n",
    "        \"auth\": {\n",
    "            \"username\": '',\n",
    "            \"password\": ''\n",
    "        }\n",
    "    },\n",
    "    'data_source': '{\"type\": \"identity\", \"id\": \"identity--3532c56d-ea72-48be-a2ad-1a53f4c9c6d3\", \"name\": \"stix_boundle\", \"identity_class\": \"events\"}'\n",
    "}"
   ]
  },
  {
   "cell_type": "code",
   "execution_count": 3,
   "metadata": {},
   "outputs": [],
   "source": [
    "def get_duration(duration):\n",
    "    days, seconds = duration.days, duration.seconds\n",
    "    hours = seconds // 3600\n",
    "    minutes = (seconds % 3600) // 60\n",
    "    seconds = seconds % 60\n",
    "    return f\"{days}d {hours}h {minutes}m {seconds}.{duration.microseconds//1000}s\""
   ]
  },
  {
   "cell_type": "code",
   "execution_count": 4,
   "metadata": {},
   "outputs": [],
   "source": [
    "ssdf = StixShifterDataFrame()\n",
    "ssdf.add_config('stix_bundle', sb_config)\n",
    "\n",
    "svctest_query = \"[process:name='svctest.exe']\"\n",
    "services_query = \"[process:parent_ref.name='services.exe']\"\n",
    "\n",
    "df1 = ssdf.search_df(query=svctest_query, config_names=['stix_bundle'])\n",
    "df2 = ssdf.search_df(query=services_query, config_names=['stix_bundle'])"
   ]
  },
  {
   "cell_type": "code",
   "execution_count": 5,
   "metadata": {},
   "outputs": [],
   "source": [
    "df1['desc'] = 'svctest'\n",
    "df1['type'] = 'process'\n",
    "df1['first_observed'] = df1['first_observed'].map(lambda x: parser.isoparse(x))\n",
    "df1['last_observed'] = df1['last_observed'].map(lambda x: parser.isoparse(x))\n",
    "df1['duration'] = df1['last_observed'] - df1['first_observed']\n",
    "df1['duration'] = df1['duration'].map(lambda dur: get_duration(dur))\n",
    "\n",
    "\n",
    "df2['desc'] = 'svctest'\n",
    "df2['type'] = 'process'\n",
    "df2['first_observed'] = df2['first_observed'].map(lambda x: parser.isoparse(x))\n",
    "df2['last_observed'] = df2['last_observed'].map(lambda x: parser.isoparse(x))\n",
    "df2['duration'] = df2['last_observed'] - df2['first_observed']\n",
    "df2['duration'] = df2['duration'].map(lambda dur: get_duration(dur))"
   ]
  },
  {
   "cell_type": "code",
   "execution_count": 6,
   "metadata": {},
   "outputs": [
    {
     "data": {
      "text/plain": [
       "((31, 32), (21, 32))"
      ]
     },
     "execution_count": 6,
     "metadata": {},
     "output_type": "execute_result"
    }
   ],
   "source": [
    "df1.shape, df2.shape"
   ]
  },
  {
   "cell_type": "code",
   "execution_count": 7,
   "metadata": {},
   "outputs": [],
   "source": [
    "# Helper functions to replace and extract strings\n",
    "import re\n",
    "\n",
    "def replace_string(data, search, replace):\n",
    "    return data.replace(search, replace)\n",
    "\n",
    "def extract_string(data, regex, group):\n",
    "    try:\n",
    "        pattern = re.compile(regex)\n",
    "        matches = pattern.search(data)\n",
    "        return matches.group(group)\n",
    "    except:\n",
    "        return ''\n",
    "\n",
    "# Clean up cmdline fields that are missing a space before c:\\\n",
    "df1['cmdline'] = df1['process:command_line'].apply(replace_string, args=['c:\\\\', ' c:\\\\'])\n",
    "# Extract .bat file name from cmdline field\n",
    "df1['cmdline_bat'] = df1['process:command_line'].apply(extract_string, regex=r'\\\\([0-9a-zA-Z_-]*\\.bat)', group=1)\n",
    "# Extract several variants of hostname or IP address from cmdline field\n",
    "df1['cmdline_host'] = df1['process:command_line'].apply(extract_string, regex=r'([\\\\]{2}|[\\/]{2})([\\.a-zA-Z0-9_-]*)(\\s|$)', group=2)"
   ]
  },
  {
   "cell_type": "code",
   "execution_count": 8,
   "metadata": {},
   "outputs": [],
   "source": [
    "df1['path'] = df1['cmdline'].map(lambda cmd: cmd.split(' ')[0])"
   ]
  },
  {
   "cell_type": "markdown",
   "metadata": {},
   "source": [
    "# svctest.exe analysis"
   ]
  },
  {
   "cell_type": "code",
   "execution_count": 9,
   "metadata": {},
   "outputs": [
    {
     "data": {
      "text/plain": [
       "31"
      ]
     },
     "execution_count": 9,
     "metadata": {},
     "output_type": "execute_result"
    }
   ],
   "source": [
    "# Total number of svctest executions \n",
    "len(df1.index)"
   ]
  },
  {
   "cell_type": "code",
   "execution_count": 10,
   "metadata": {},
   "outputs": [
    {
     "data": {
      "text/html": [
       "<div>\n",
       "<style scoped>\n",
       "    .dataframe tbody tr th:only-of-type {\n",
       "        vertical-align: middle;\n",
       "    }\n",
       "\n",
       "    .dataframe tbody tr th {\n",
       "        vertical-align: top;\n",
       "    }\n",
       "\n",
       "    .dataframe thead th {\n",
       "        text-align: right;\n",
       "    }\n",
       "</style>\n",
       "<table border=\"1\" class=\"dataframe\">\n",
       "  <thead>\n",
       "    <tr style=\"text-align: right;\">\n",
       "      <th></th>\n",
       "      <th>process:creator_user_ref.user_id</th>\n",
       "      <th>path</th>\n",
       "      <th>count</th>\n",
       "    </tr>\n",
       "  </thead>\n",
       "  <tbody>\n",
       "    <tr>\n",
       "      <th>0</th>\n",
       "      <td>LOCAL SERVICE</td>\n",
       "      <td>(unknown)</td>\n",
       "      <td>11</td>\n",
       "    </tr>\n",
       "    <tr>\n",
       "      <th>1</th>\n",
       "      <td>LOCAL SERVICE</td>\n",
       "      <td>C:\\File\\System\\svctest.exe</td>\n",
       "      <td>11</td>\n",
       "    </tr>\n",
       "    <tr>\n",
       "      <th>2</th>\n",
       "      <td>SYSTEM</td>\n",
       "      <td>C:\\File\\System\\svctest.exe</td>\n",
       "      <td>9</td>\n",
       "    </tr>\n",
       "  </tbody>\n",
       "</table>\n",
       "</div>"
      ],
      "text/plain": [
       "  process:creator_user_ref.user_id                        path  count\n",
       "0                    LOCAL SERVICE                   (unknown)     11\n",
       "1                    LOCAL SERVICE  C:\\File\\System\\svctest.exe     11\n",
       "2                           SYSTEM  C:\\File\\System\\svctest.exe      9"
      ]
     },
     "execution_count": 10,
     "metadata": {},
     "output_type": "execute_result"
    }
   ],
   "source": [
    "# teamviewer executions and paths grouped by process:creator_user_ref.user_id (username) (counted and sorted by occurrence)\n",
    "df1.groupby(['process:creator_user_ref.user_id', 'path'])\\\n",
    "    .size().reset_index(name='count')\\\n",
    "    .sort_values(['count', 'process:creator_user_ref.user_id'], ascending=False)"
   ]
  },
  {
   "cell_type": "code",
   "execution_count": 11,
   "metadata": {},
   "outputs": [],
   "source": [
    "# process:creator_user_ref.user_id (username) count bar plot\n",
    "df1_bar = df1.groupby(['process:creator_user_ref.user_id'])\\\n",
    "    .size().reset_index(name='count')\\\n",
    "    .sort_values(['count'], ascending=False)\n"
   ]
  },
  {
   "cell_type": "code",
   "execution_count": 13,
   "metadata": {},
   "outputs": [
    {
     "data": {
      "text/plain": [
       "<matplotlib.axes._subplots.AxesSubplot at 0x124ffe128>"
      ]
     },
     "execution_count": 13,
     "metadata": {},
     "output_type": "execute_result"
    },
    {
     "data": {
      "image/png": "[encoded data removed]",
      "text/plain": [
       "<Figure size 432x288 with 1 Axes>"
      ]
     },
     "metadata": {
      "needs_background": "light"
     },
     "output_type": "display_data"
    }
   ],
   "source": [
    "df1_bar.plot.bar(x='process:creator_user_ref.user_id', y='count', grid=True)"
   ]
  },
  {
   "cell_type": "markdown",
   "metadata": {},
   "source": [
    "# svctest.exe analysis for .bat scripts"
   ]
  },
  {
   "cell_type": "code",
   "execution_count": 14,
   "metadata": {},
   "outputs": [
    {
     "data": {
      "text/plain": [
       "0"
      ]
     },
     "execution_count": 14,
     "metadata": {},
     "output_type": "execute_result"
    }
   ],
   "source": [
    "# Total number of SVCTEST executions of a .bat file\n",
    "len(df1[df1['cmdline_bat'] != ''].index)"
   ]
  },
  {
   "cell_type": "code",
   "execution_count": 15,
   "metadata": {},
   "outputs": [
    {
     "data": {
      "text/html": [
       "<div>\n",
       "<style scoped>\n",
       "    .dataframe tbody tr th:only-of-type {\n",
       "        vertical-align: middle;\n",
       "    }\n",
       "\n",
       "    .dataframe tbody tr th {\n",
       "        vertical-align: top;\n",
       "    }\n",
       "\n",
       "    .dataframe thead th {\n",
       "        text-align: right;\n",
       "    }\n",
       "</style>\n",
       "<table border=\"1\" class=\"dataframe\">\n",
       "  <thead>\n",
       "    <tr style=\"text-align: right;\">\n",
       "      <th></th>\n",
       "      <th>process:creator_user_ref.user_id</th>\n",
       "      <th>cmdline_bat</th>\n",
       "      <th>count</th>\n",
       "    </tr>\n",
       "  </thead>\n",
       "  <tbody>\n",
       "  </tbody>\n",
       "</table>\n",
       "</div>"
      ],
      "text/plain": [
       "Empty DataFrame\n",
       "Columns: [process:creator_user_ref.user_id, cmdline_bat, count]\n",
       "Index: []"
      ]
     },
     "execution_count": 15,
     "metadata": {},
     "output_type": "execute_result"
    }
   ],
   "source": [
    "# .bat file executions grouped by process:creator_user_ref.user_id (username)/cmdline_bat and sorted by occurrence\n",
    "df1[df1['cmdline_bat'] != '']\\\n",
    "    .groupby(['process:creator_user_ref.user_id','cmdline_bat'])\\\n",
    "    .size().reset_index(name='count')\\\n",
    "    .sort_values(['count'], ascending=False)"
   ]
  },
  {
   "cell_type": "markdown",
   "metadata": {},
   "source": [
    "# svctest.exe analysis for non-.bat script executions"
   ]
  },
  {
   "cell_type": "code",
   "execution_count": 16,
   "metadata": {},
   "outputs": [
    {
     "data": {
      "text/html": [
       "<div>\n",
       "<style scoped>\n",
       "    .dataframe tbody tr th:only-of-type {\n",
       "        vertical-align: middle;\n",
       "    }\n",
       "\n",
       "    .dataframe tbody tr th {\n",
       "        vertical-align: top;\n",
       "    }\n",
       "\n",
       "    .dataframe thead th {\n",
       "        text-align: right;\n",
       "    }\n",
       "</style>\n",
       "<table border=\"1\" class=\"dataframe\">\n",
       "  <thead>\n",
       "    <tr style=\"text-align: right;\">\n",
       "      <th></th>\n",
       "      <th>process:creator_user_ref.user_id</th>\n",
       "      <th>count</th>\n",
       "    </tr>\n",
       "  </thead>\n",
       "  <tbody>\n",
       "    <tr>\n",
       "      <th>0</th>\n",
       "      <td>LOCAL SERVICE</td>\n",
       "      <td>22</td>\n",
       "    </tr>\n",
       "    <tr>\n",
       "      <th>1</th>\n",
       "      <td>SYSTEM</td>\n",
       "      <td>9</td>\n",
       "    </tr>\n",
       "  </tbody>\n",
       "</table>\n",
       "</div>"
      ],
      "text/plain": [
       "  process:creator_user_ref.user_id  count\n",
       "0                    LOCAL SERVICE     22\n",
       "1                           SYSTEM      9"
      ]
     },
     "execution_count": 16,
     "metadata": {},
     "output_type": "execute_result"
    }
   ],
   "source": [
    "# non-.bat PSExec executions grouped by process:creator_user_ref.user_id (username) and sorted by occurrence\n",
    "df1[df1['cmdline_bat'] == '']\\\n",
    "    .groupby(['process:creator_user_ref.user_id'])\\\n",
    "    .size().reset_index(name='count')\\\n",
    "    .sort_values(['count'], ascending=False)"
   ]
  },
  {
   "cell_type": "code",
   "execution_count": 17,
   "metadata": {},
   "outputs": [
    {
     "data": {
      "text/html": [
       "<div>\n",
       "<style scoped>\n",
       "    .dataframe tbody tr th:only-of-type {\n",
       "        vertical-align: middle;\n",
       "    }\n",
       "\n",
       "    .dataframe tbody tr th {\n",
       "        vertical-align: top;\n",
       "    }\n",
       "\n",
       "    .dataframe thead th {\n",
       "        text-align: right;\n",
       "    }\n",
       "</style>\n",
       "<table border=\"1\" class=\"dataframe\">\n",
       "  <thead>\n",
       "    <tr style=\"text-align: right;\">\n",
       "      <th></th>\n",
       "      <th>process:creator_user_ref.user_id</th>\n",
       "      <th>cmdline</th>\n",
       "      <th>cmdline_host</th>\n",
       "      <th>duration</th>\n",
       "      <th>id</th>\n",
       "    </tr>\n",
       "  </thead>\n",
       "  <tbody>\n",
       "    <tr>\n",
       "      <th>0</th>\n",
       "      <td>SYSTEM</td>\n",
       "      <td>C:\\File\\System\\svctest.exe -k netsvcs -p -s BITS</td>\n",
       "      <td></td>\n",
       "      <td>0d 0h 0m 0.0s</td>\n",
       "      <td>observed-data--b7767318-6cca-4cf8-9280-826ed5f...</td>\n",
       "    </tr>\n",
       "    <tr>\n",
       "      <th>0</th>\n",
       "      <td>SYSTEM</td>\n",
       "      <td>C:\\File\\System\\svctest.exe -k netsvcs -p -s BITS</td>\n",
       "      <td></td>\n",
       "      <td>0d 0h 0m 0.0s</td>\n",
       "      <td>observed-data--6d07a6bd-377c-4594-9750-571b1e5...</td>\n",
       "    </tr>\n",
       "    <tr>\n",
       "      <th>0</th>\n",
       "      <td>SYSTEM</td>\n",
       "      <td>C:\\File\\System\\svctest.exe -k netsvcs -p -s BITS</td>\n",
       "      <td></td>\n",
       "      <td>0d 0h 0m 0.0s</td>\n",
       "      <td>observed-data--7bf4f251-1742-4013-957a-cf23513...</td>\n",
       "    </tr>\n",
       "    <tr>\n",
       "      <th>0</th>\n",
       "      <td>SYSTEM</td>\n",
       "      <td>C:\\File\\System\\svctest.exe -k netsvcs -p -s BITS</td>\n",
       "      <td></td>\n",
       "      <td>0d 0h 0m 0.0s</td>\n",
       "      <td>observed-data--0ab3f130-3666-4086-8d89-82fe88c...</td>\n",
       "    </tr>\n",
       "    <tr>\n",
       "      <th>0</th>\n",
       "      <td>SYSTEM</td>\n",
       "      <td>C:\\File\\System\\svctest.exe -k netsvcs -p -s BITS</td>\n",
       "      <td></td>\n",
       "      <td>0d 0h 0m 0.0s</td>\n",
       "      <td>observed-data--f70eced6-7991-4c47-b69c-18839ca...</td>\n",
       "    </tr>\n",
       "    <tr>\n",
       "      <th>0</th>\n",
       "      <td>SYSTEM</td>\n",
       "      <td>C:\\File\\System\\svctest.exe -k netsvcs -p -s BITS</td>\n",
       "      <td></td>\n",
       "      <td>0d 0h 0m 0.0s</td>\n",
       "      <td>observed-data--dd36ecb2-2b22-4620-a65c-fe4b62f...</td>\n",
       "    </tr>\n",
       "    <tr>\n",
       "      <th>0</th>\n",
       "      <td>SYSTEM</td>\n",
       "      <td>C:\\File\\System\\svctest.exe -k netsvcs -p -s BITS</td>\n",
       "      <td></td>\n",
       "      <td>0d 0h 0m 0.0s</td>\n",
       "      <td>observed-data--3d5fe0e1-300c-44b3-a6db-f96dd1a...</td>\n",
       "    </tr>\n",
       "    <tr>\n",
       "      <th>0</th>\n",
       "      <td>SYSTEM</td>\n",
       "      <td>C:\\File\\System\\svctest.exe -k netsvcs -p -s BITS</td>\n",
       "      <td></td>\n",
       "      <td>0d 0h 0m 0.0s</td>\n",
       "      <td>observed-data--2fe8daa7-94d1-4faa-aa87-363dc3a...</td>\n",
       "    </tr>\n",
       "    <tr>\n",
       "      <th>0</th>\n",
       "      <td>SYSTEM</td>\n",
       "      <td>C:\\File\\System\\svctest.exe -k netsvcs -p -s BITS</td>\n",
       "      <td></td>\n",
       "      <td>0d 0h 0m 0.0s</td>\n",
       "      <td>observed-data--87b274bc-358a-4a45-bb92-9471b95...</td>\n",
       "    </tr>\n",
       "    <tr>\n",
       "      <th>0</th>\n",
       "      <td>LOCAL SERVICE</td>\n",
       "      <td>C:\\File\\System\\svctest.exe -k LocalServiceAndN...</td>\n",
       "      <td></td>\n",
       "      <td>0d 0h 0m 0.0s</td>\n",
       "      <td>observed-data--c9b33025-d40f-4ecb-a7a2-c4dd237...</td>\n",
       "    </tr>\n",
       "    <tr>\n",
       "      <th>0</th>\n",
       "      <td>LOCAL SERVICE</td>\n",
       "      <td>(unknown)</td>\n",
       "      <td></td>\n",
       "      <td>0d 0h 0m 0.0s</td>\n",
       "      <td>observed-data--a92370b8-0a84-4cdc-9149-8078ba9...</td>\n",
       "    </tr>\n",
       "    <tr>\n",
       "      <th>0</th>\n",
       "      <td>LOCAL SERVICE</td>\n",
       "      <td>C:\\File\\System\\svctest.exe -k LocalServiceAndN...</td>\n",
       "      <td></td>\n",
       "      <td>0d 0h 0m 0.0s</td>\n",
       "      <td>observed-data--df0fc75e-e82a-46e5-9051-ab18652...</td>\n",
       "    </tr>\n",
       "    <tr>\n",
       "      <th>0</th>\n",
       "      <td>LOCAL SERVICE</td>\n",
       "      <td>C:\\File\\System\\svctest.exe -k LocalServiceAndN...</td>\n",
       "      <td></td>\n",
       "      <td>0d 0h 0m 0.0s</td>\n",
       "      <td>observed-data--fb0217a0-b4eb-4814-a8c7-a87e646...</td>\n",
       "    </tr>\n",
       "    <tr>\n",
       "      <th>0</th>\n",
       "      <td>LOCAL SERVICE</td>\n",
       "      <td>C:\\File\\System\\svctest.exe -k LocalServiceAndN...</td>\n",
       "      <td></td>\n",
       "      <td>0d 0h 0m 0.0s</td>\n",
       "      <td>observed-data--f24f2585-dcc8-467d-b242-2c7e792...</td>\n",
       "    </tr>\n",
       "    <tr>\n",
       "      <th>0</th>\n",
       "      <td>LOCAL SERVICE</td>\n",
       "      <td>C:\\File\\System\\svctest.exe -k LocalServiceAndN...</td>\n",
       "      <td></td>\n",
       "      <td>0d 0h 0m 0.0s</td>\n",
       "      <td>observed-data--28d4bd5c-a4db-4296-a96f-d401674...</td>\n",
       "    </tr>\n",
       "    <tr>\n",
       "      <th>0</th>\n",
       "      <td>LOCAL SERVICE</td>\n",
       "      <td>C:\\File\\System\\svctest.exe -k LocalServiceAndN...</td>\n",
       "      <td></td>\n",
       "      <td>0d 0h 0m 0.0s</td>\n",
       "      <td>observed-data--011cf702-3e23-453d-b75b-efebb9e...</td>\n",
       "    </tr>\n",
       "    <tr>\n",
       "      <th>0</th>\n",
       "      <td>LOCAL SERVICE</td>\n",
       "      <td>(unknown)</td>\n",
       "      <td></td>\n",
       "      <td>0d 0h 0m 0.0s</td>\n",
       "      <td>observed-data--b5461f2b-1a2c-4405-a371-c3c0885...</td>\n",
       "    </tr>\n",
       "    <tr>\n",
       "      <th>0</th>\n",
       "      <td>LOCAL SERVICE</td>\n",
       "      <td>C:\\File\\System\\svctest.exe -k LocalServiceAndN...</td>\n",
       "      <td></td>\n",
       "      <td>0d 0h 0m 0.0s</td>\n",
       "      <td>observed-data--626a6ca7-1145-4a66-b695-e1fe809...</td>\n",
       "    </tr>\n",
       "    <tr>\n",
       "      <th>0</th>\n",
       "      <td>LOCAL SERVICE</td>\n",
       "      <td>(unknown)</td>\n",
       "      <td></td>\n",
       "      <td>0d 0h 0m 0.0s</td>\n",
       "      <td>observed-data--ced7aa9d-0563-4d1c-bac5-523835c...</td>\n",
       "    </tr>\n",
       "    <tr>\n",
       "      <th>0</th>\n",
       "      <td>LOCAL SERVICE</td>\n",
       "      <td>(unknown)</td>\n",
       "      <td></td>\n",
       "      <td>0d 0h 0m 0.0s</td>\n",
       "      <td>observed-data--6d344ed0-2e0b-48f6-bc74-002a296...</td>\n",
       "    </tr>\n",
       "    <tr>\n",
       "      <th>0</th>\n",
       "      <td>LOCAL SERVICE</td>\n",
       "      <td>C:\\File\\System\\svctest.exe -k LocalServiceAndN...</td>\n",
       "      <td></td>\n",
       "      <td>0d 0h 0m 0.0s</td>\n",
       "      <td>observed-data--9e1a8ec9-21e1-43a0-acc8-6e69ece...</td>\n",
       "    </tr>\n",
       "    <tr>\n",
       "      <th>0</th>\n",
       "      <td>LOCAL SERVICE</td>\n",
       "      <td>(unknown)</td>\n",
       "      <td></td>\n",
       "      <td>0d 0h 0m 0.0s</td>\n",
       "      <td>observed-data--594b6718-c19d-4d5d-b459-5911c7e...</td>\n",
       "    </tr>\n",
       "    <tr>\n",
       "      <th>0</th>\n",
       "      <td>LOCAL SERVICE</td>\n",
       "      <td>(unknown)</td>\n",
       "      <td></td>\n",
       "      <td>0d 0h 0m 0.0s</td>\n",
       "      <td>observed-data--872197a5-97f8-4e31-af19-9375ad7...</td>\n",
       "    </tr>\n",
       "    <tr>\n",
       "      <th>0</th>\n",
       "      <td>LOCAL SERVICE</td>\n",
       "      <td>(unknown)</td>\n",
       "      <td></td>\n",
       "      <td>0d 0h 0m 0.0s</td>\n",
       "      <td>observed-data--4654678d-5395-4911-a125-878d3ba...</td>\n",
       "    </tr>\n",
       "    <tr>\n",
       "      <th>0</th>\n",
       "      <td>LOCAL SERVICE</td>\n",
       "      <td>(unknown)</td>\n",
       "      <td></td>\n",
       "      <td>0d 0h 0m 0.0s</td>\n",
       "      <td>observed-data--78844f72-3fd6-4aca-a78b-4a9183d...</td>\n",
       "    </tr>\n",
       "    <tr>\n",
       "      <th>0</th>\n",
       "      <td>LOCAL SERVICE</td>\n",
       "      <td>(unknown)</td>\n",
       "      <td></td>\n",
       "      <td>0d 0h 0m 0.0s</td>\n",
       "      <td>observed-data--102ebe48-a5fe-4bfd-a177-aa1fb75...</td>\n",
       "    </tr>\n",
       "    <tr>\n",
       "      <th>0</th>\n",
       "      <td>LOCAL SERVICE</td>\n",
       "      <td>(unknown)</td>\n",
       "      <td></td>\n",
       "      <td>0d 0h 0m 0.0s</td>\n",
       "      <td>observed-data--9e322900-f8a5-4bcd-b56f-4bb767f...</td>\n",
       "    </tr>\n",
       "    <tr>\n",
       "      <th>0</th>\n",
       "      <td>LOCAL SERVICE</td>\n",
       "      <td>C:\\File\\System\\svctest.exe -k LocalServiceAndN...</td>\n",
       "      <td></td>\n",
       "      <td>0d 0h 0m 0.0s</td>\n",
       "      <td>observed-data--34c468ba-6ca6-455c-a366-b26574e...</td>\n",
       "    </tr>\n",
       "    <tr>\n",
       "      <th>0</th>\n",
       "      <td>LOCAL SERVICE</td>\n",
       "      <td>C:\\File\\System\\svctest.exe -k LocalServiceAndN...</td>\n",
       "      <td></td>\n",
       "      <td>0d 0h 0m 0.0s</td>\n",
       "      <td>observed-data--80f0165a-4645-4a6b-bf53-20c21f4...</td>\n",
       "    </tr>\n",
       "    <tr>\n",
       "      <th>0</th>\n",
       "      <td>LOCAL SERVICE</td>\n",
       "      <td>C:\\File\\System\\svctest.exe -k LocalServiceAndN...</td>\n",
       "      <td></td>\n",
       "      <td>0d 0h 0m 0.0s</td>\n",
       "      <td>observed-data--6d694299-b685-4131-a18b-a8893e1...</td>\n",
       "    </tr>\n",
       "    <tr>\n",
       "      <th>0</th>\n",
       "      <td>LOCAL SERVICE</td>\n",
       "      <td>(unknown)</td>\n",
       "      <td></td>\n",
       "      <td>0d 0h 0m 0.0s</td>\n",
       "      <td>observed-data--57d9776d-6691-486f-9dc0-1ed19da...</td>\n",
       "    </tr>\n",
       "  </tbody>\n",
       "</table>\n",
       "</div>"
      ],
      "text/plain": [
       "  process:creator_user_ref.user_id  \\\n",
       "0                           SYSTEM   \n",
       "0                           SYSTEM   \n",
       "0                           SYSTEM   \n",
       "0                           SYSTEM   \n",
       "0                           SYSTEM   \n",
       "0                           SYSTEM   \n",
       "0                           SYSTEM   \n",
       "0                           SYSTEM   \n",
       "0                           SYSTEM   \n",
       "0                    LOCAL SERVICE   \n",
       "0                    LOCAL SERVICE   \n",
       "0                    LOCAL SERVICE   \n",
       "0                    LOCAL SERVICE   \n",
       "0                    LOCAL SERVICE   \n",
       "0                    LOCAL SERVICE   \n",
       "0                    LOCAL SERVICE   \n",
       "0                    LOCAL SERVICE   \n",
       "0                    LOCAL SERVICE   \n",
       "0                    LOCAL SERVICE   \n",
       "0                    LOCAL SERVICE   \n",
       "0                    LOCAL SERVICE   \n",
       "0                    LOCAL SERVICE   \n",
       "0                    LOCAL SERVICE   \n",
       "0                    LOCAL SERVICE   \n",
       "0                    LOCAL SERVICE   \n",
       "0                    LOCAL SERVICE   \n",
       "0                    LOCAL SERVICE   \n",
       "0                    LOCAL SERVICE   \n",
       "0                    LOCAL SERVICE   \n",
       "0                    LOCAL SERVICE   \n",
       "0                    LOCAL SERVICE   \n",
       "\n",
       "                                             cmdline cmdline_host  \\\n",
       "0   C:\\File\\System\\svctest.exe -k netsvcs -p -s BITS                \n",
       "0   C:\\File\\System\\svctest.exe -k netsvcs -p -s BITS                \n",
       "0   C:\\File\\System\\svctest.exe -k netsvcs -p -s BITS                \n",
       "0   C:\\File\\System\\svctest.exe -k netsvcs -p -s BITS                \n",
       "0   C:\\File\\System\\svctest.exe -k netsvcs -p -s BITS                \n",
       "0   C:\\File\\System\\svctest.exe -k netsvcs -p -s BITS                \n",
       "0   C:\\File\\System\\svctest.exe -k netsvcs -p -s BITS                \n",
       "0   C:\\File\\System\\svctest.exe -k netsvcs -p -s BITS                \n",
       "0   C:\\File\\System\\svctest.exe -k netsvcs -p -s BITS                \n",
       "0  C:\\File\\System\\svctest.exe -k LocalServiceAndN...                \n",
       "0                                          (unknown)                \n",
       "0  C:\\File\\System\\svctest.exe -k LocalServiceAndN...                \n",
       "0  C:\\File\\System\\svctest.exe -k LocalServiceAndN...                \n",
       "0  C:\\File\\System\\svctest.exe -k LocalServiceAndN...                \n",
       "0  C:\\File\\System\\svctest.exe -k LocalServiceAndN...                \n",
       "0  C:\\File\\System\\svctest.exe -k LocalServiceAndN...                \n",
       "0                                          (unknown)                \n",
       "0  C:\\File\\System\\svctest.exe -k LocalServiceAndN...                \n",
       "0                                          (unknown)                \n",
       "0                                          (unknown)                \n",
       "0  C:\\File\\System\\svctest.exe -k LocalServiceAndN...                \n",
       "0                                          (unknown)                \n",
       "0                                          (unknown)                \n",
       "0                                          (unknown)                \n",
       "0                                          (unknown)                \n",
       "0                                          (unknown)                \n",
       "0                                          (unknown)                \n",
       "0  C:\\File\\System\\svctest.exe -k LocalServiceAndN...                \n",
       "0  C:\\File\\System\\svctest.exe -k LocalServiceAndN...                \n",
       "0  C:\\File\\System\\svctest.exe -k LocalServiceAndN...                \n",
       "0                                          (unknown)                \n",
       "\n",
       "        duration                                                 id  \n",
       "0  0d 0h 0m 0.0s  observed-data--b7767318-6cca-4cf8-9280-826ed5f...  \n",
       "0  0d 0h 0m 0.0s  observed-data--6d07a6bd-377c-4594-9750-571b1e5...  \n",
       "0  0d 0h 0m 0.0s  observed-data--7bf4f251-1742-4013-957a-cf23513...  \n",
       "0  0d 0h 0m 0.0s  observed-data--0ab3f130-3666-4086-8d89-82fe88c...  \n",
       "0  0d 0h 0m 0.0s  observed-data--f70eced6-7991-4c47-b69c-18839ca...  \n",
       "0  0d 0h 0m 0.0s  observed-data--dd36ecb2-2b22-4620-a65c-fe4b62f...  \n",
       "0  0d 0h 0m 0.0s  observed-data--3d5fe0e1-300c-44b3-a6db-f96dd1a...  \n",
       "0  0d 0h 0m 0.0s  observed-data--2fe8daa7-94d1-4faa-aa87-363dc3a...  \n",
       "0  0d 0h 0m 0.0s  observed-data--87b274bc-358a-4a45-bb92-9471b95...  \n",
       "0  0d 0h 0m 0.0s  observed-data--c9b33025-d40f-4ecb-a7a2-c4dd237...  \n",
       "0  0d 0h 0m 0.0s  observed-data--a92370b8-0a84-4cdc-9149-8078ba9...  \n",
       "0  0d 0h 0m 0.0s  observed-data--df0fc75e-e82a-46e5-9051-ab18652...  \n",
       "0  0d 0h 0m 0.0s  observed-data--fb0217a0-b4eb-4814-a8c7-a87e646...  \n",
       "0  0d 0h 0m 0.0s  observed-data--f24f2585-dcc8-467d-b242-2c7e792...  \n",
       "0  0d 0h 0m 0.0s  observed-data--28d4bd5c-a4db-4296-a96f-d401674...  \n",
       "0  0d 0h 0m 0.0s  observed-data--011cf702-3e23-453d-b75b-efebb9e...  \n",
       "0  0d 0h 0m 0.0s  observed-data--b5461f2b-1a2c-4405-a371-c3c0885...  \n",
       "0  0d 0h 0m 0.0s  observed-data--626a6ca7-1145-4a66-b695-e1fe809...  \n",
       "0  0d 0h 0m 0.0s  observed-data--ced7aa9d-0563-4d1c-bac5-523835c...  \n",
       "0  0d 0h 0m 0.0s  observed-data--6d344ed0-2e0b-48f6-bc74-002a296...  \n",
       "0  0d 0h 0m 0.0s  observed-data--9e1a8ec9-21e1-43a0-acc8-6e69ece...  \n",
       "0  0d 0h 0m 0.0s  observed-data--594b6718-c19d-4d5d-b459-5911c7e...  \n",
       "0  0d 0h 0m 0.0s  observed-data--872197a5-97f8-4e31-af19-9375ad7...  \n",
       "0  0d 0h 0m 0.0s  observed-data--4654678d-5395-4911-a125-878d3ba...  \n",
       "0  0d 0h 0m 0.0s  observed-data--78844f72-3fd6-4aca-a78b-4a9183d...  \n",
       "0  0d 0h 0m 0.0s  observed-data--102ebe48-a5fe-4bfd-a177-aa1fb75...  \n",
       "0  0d 0h 0m 0.0s  observed-data--9e322900-f8a5-4bcd-b56f-4bb767f...  \n",
       "0  0d 0h 0m 0.0s  observed-data--34c468ba-6ca6-455c-a366-b26574e...  \n",
       "0  0d 0h 0m 0.0s  observed-data--80f0165a-4645-4a6b-bf53-20c21f4...  \n",
       "0  0d 0h 0m 0.0s  observed-data--6d694299-b685-4131-a18b-a8893e1...  \n",
       "0  0d 0h 0m 0.0s  observed-data--57d9776d-6691-486f-9dc0-1ed19da...  "
      ]
     },
     "execution_count": 17,
     "metadata": {},
     "output_type": "execute_result"
    }
   ],
   "source": [
    "# non-.bat SVCTEST executions (ungrouped)\n",
    "df1[df1['cmdline_bat'] == ''][['process:creator_user_ref.user_id','cmdline','cmdline_host','duration', 'id']]\\\n",
    "    .sort_values(['process:creator_user_ref.user_id'], ascending=False)"
   ]
  },
  {
   "cell_type": "code",
   "execution_count": 18,
   "metadata": {},
   "outputs": [],
   "source": [
    "## Save and load DataFrame objects (to and from disk)"
   ]
  },
  {
   "cell_type": "code",
   "execution_count": 19,
   "metadata": {},
   "outputs": [],
   "source": [
    "df1.to_pickle('df1.p')  # raw svctest processes (enhanced with cmdline_host and cmdline_bat\n",
    "df2.to_pickle('df2.p')  # raw services service parent processes and children "
   ]
  },
  {
   "cell_type": "code",
   "execution_count": 20,
   "metadata": {},
   "outputs": [],
   "source": [
    "# Read pickle files into DataFrames\n",
    "# df1 = pd.read_pickle('df1.p')\n",
    "# df2 = pd.read_pickle('df2.p')\n"
   ]
  },
  {
   "cell_type": "markdown",
   "metadata": {},
   "source": [
    "# Export to CSV"
   ]
  },
  {
   "cell_type": "code",
   "execution_count": 21,
   "metadata": {},
   "outputs": [],
   "source": [
    "# Reindex and add missing fields\n",
    "df1 = df1.reindex()\n",
    "df2 = df2.reindex()\n",
    "\n",
    "# Save to CSV\n",
    "df1.to_csv(\"svctest-all-enhanced.csv\", index=False)\n",
    "df2.to_csv(\"services-all.csv\", index=False)\n"
   ]
  },
  {
   "cell_type": "code",
   "execution_count": null,
   "metadata": {},
   "outputs": [],
   "source": []
  },
  {
   "cell_type": "code",
   "execution_count": null,
   "metadata": {},
   "outputs": [],
   "source": []
  },
  {
   "cell_type": "code",
   "execution_count": null,
   "metadata": {},
   "outputs": [],
   "source": []
  },
  {
   "cell_type": "code",
   "execution_count": null,
   "metadata": {},
   "outputs": [],
   "source": []
  }
 ],
 "metadata": {
  "kernelspec": {
   "display_name": "Python 3",
   "language": "python",
   "name": "python3"
  },
  "language_info": {
   "codemirror_mode": {
    "name": "ipython",
    "version": 3
   },
   "file_extension": ".py",
   "mimetype": "text/x-python",
   "name": "python",
   "nbconvert_exporter": "python",
   "pygments_lexer": "ipython3",
   "version": "3.7.3"
  }
 },
 "nbformat": 4,
 "nbformat_minor": 2
}